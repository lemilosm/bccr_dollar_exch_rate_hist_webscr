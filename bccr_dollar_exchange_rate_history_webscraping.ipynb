{
  "cells": [
    {
      "cell_type": "markdown",
      "metadata": {
        "id": "QI8QQHgbuigj"
      },
      "source": [
        "### <font color=\"red\">NOTE</font>\n",
        "\n",
        "When you run this notebook, execution will fail at some point.  This is expected, done like that by design.\n",
        "\n",
        "The cell notes will instruct you to skip that cell and continue execution below it.\n",
        "\n",
        "This was developed/tested in Google Colab, Python 3.10.12.\n",
        "\n",
        "Also tested locally in VS Code, Python 3.9.16"
      ]
    },
    {
      "cell_type": "markdown",
      "metadata": {
        "id": "tKIlefoYOkKH"
      },
      "source": [
        "# Project:  BCCR CRC/USD exchange rate extraction using webscraping"
      ]
    },
    {
      "cell_type": "markdown",
      "metadata": {
        "id": "mLiLYIGOK7zR"
      },
      "source": [
        "## Objective\n",
        "\n",
        "The Central Bank of Costa Rica website where the latest information is provided is found at:\n",
        "\n",
        "https://gee.bccr.fi.cr/indicadoreseconomicos/Cuadros/frmVerCatCuadro.aspx?idioma=1&CodCuadro=%20400\n",
        "\n",
        "\n",
        "The page also offers the option of exporting a file of the daily exchange history since 1983-01-01.\n",
        "\n",
        "The objective of this project is to produce a file that contains the most up to date CRC/USD exchange rate, that can later be used in other data science projects, as input data, for example as a new column, merging it to other tables/dataframes using the date index.\n",
        "\n"
      ]
    },
    {
      "cell_type": "markdown",
      "metadata": {
        "id": "2Ki_XZWZbP6r"
      },
      "source": [
        "## Methodology\n",
        "\n",
        "The steps that the code follows to fulfill the objective, are:\n",
        "\n",
        "\n",
        "1. Download the exchange rate historical file. Using Selenium is needed as a click on an image is required\n",
        "2. Extract the table using Pandas pd.extract_html\n",
        "3. Get the headers and data from the table\n",
        "4. Store the previos step items into a Pandas dataframe\n",
        "5. Backup the dataframe into a file.  In a real scenario, that file should only be produced perhaps only once a month\n",
        "6. Using BeautifulSoup, scrape the latest exchange rate data from the page.  It is updated daily by the bank (BCCR), and it contains the last 30 days\n",
        "7. Load the scraped data into a dataframe\n",
        "8. Repeat steps 3-4 to the scraped data dataframe\n",
        "9. Load exchange rate file that was produced at step 5 into another dataframe\n",
        "10. Add the newest records found at df from step 7, to the dataframe from step 9\n",
        "11. Overwrite file from step 5 with the dataframe from previous step\n"
      ]
    },
    {
      "cell_type": "code",
      "execution_count": 1,
      "metadata": {
        "colab": {
          "base_uri": "https://localhost:8080/"
        },
        "id": "d1T8XqIIz4vo",
        "outputId": "85063d6a-64e5-4e51-b4b9-61a0246509cd"
      },
      "outputs": [],
      "source": [
        "!pip freeze | grep pyarrow"
      ]
    },
    {
      "cell_type": "markdown",
      "metadata": {
        "id": "LSx6aB2wvQBg"
      },
      "source": [
        "---\n",
        "## Description of used Packages and libraries"
      ]
    },
    {
      "cell_type": "markdown",
      "metadata": {
        "id": "sx5yR-PY_kOn"
      },
      "source": [
        "selenium - to be able to simulate the click of a button\\\n",
        "os - file operations such as renaming or getting the creation file\\\n",
        "requests - webscrapping of newer results\\\n",
        "shutil - High-level file operations, used to easily\\ copy a file as a backup\\\n",
        "fastparquet - needed to produce a parquet file\n",
        "matplotlib - basic plotting\n",
        "pandas - dataframe operations \\\n",
        "numpy - required by Pandas\\\n",
        "datetime - timestamp operations\\\n",
        "bf4 - beautifulsoup for webscrapping\n",
        "\\\n",
        "lxml - may process soups better than html   \\\n",
        "html5lib - may process soups better than html   \\\n",
        "python-magic / magic - needed to check/confirm file format\n",
        "apt install -qq chromium-chromedriver  ----  installed at OS level as this is required by Selenium"
      ]
    },
    {
      "cell_type": "markdown",
      "metadata": {
        "id": "XAxX7DkKK-47"
      },
      "source": [
        "---\n",
        "## Findings/Lessons learned\n",
        "\n",
        "\n",
        "\n",
        "\n"
      ]
    },
    {
      "cell_type": "markdown",
      "metadata": {
        "id": "gKldcHRP-xh0"
      },
      "source": [
        "###Usage of Selenium package/library\n",
        "\n",
        "https://selenium-python.readthedocs.io/getting-started.html\n",
        "\n",
        "The file is generated by clicking on a button defined by an image.  Requests nor BeautifulSoup can be used to click on button.\n",
        "\n",
        "It is then found online that the Selenium library is used to perform browser interaction tasks such as the click of a button, so I used it to perform the file generation\n",
        "\n",
        "The tag line of the image button is the following:\n",
        "\n",
        "\\<img onmouseover=\"this.src = '/indicadoreseconomicos\\Imagenes\\bexport_on.gif'; this.style.cursor = 'pointer';\" onclick=\"js_doExport();\" onmouseout=\"this.src = '/indicadoreseconomicos\\Imagenes\\bexport_off.gif'; this.style.cursor = 'default';\" height=\"27\" alt=\"Exportar datos a Excel\" src=\"/indicadoreseconomicos\\Imagenes\\bexport_off.gif\" width=\"38\" border=\"0\" style=\"cursor: default;\">"
      ]
    },
    {
      "cell_type": "markdown",
      "metadata": {
        "id": "Uj8gsW_WCvAW"
      },
      "source": [
        "### Data Wrangling\n",
        "\n",
        "The BCCR (Central Bank of Costa Rica) seems not to follow a clean way to built html tables that are present at the website that hold the dollar exchange rate.   The html table structure is disorganized, for example the main table has nested tables inside of it, sometimes even just empty tables.\n",
        "\n",
        "The original data needed the following cleaning:\n",
        "\n",
        "\n",
        "1.   Original file extension was XLS, but in reality it was an html file.  So pd.read_excel had to be replaced by pd.read_html\n",
        "\n",
        "2.   First 3 rows of the data were really descriptors of the table, that were using 10 colums instead of the 3 that the real data is using.  This caused problems with the load woth pd.read_html.   So, wrote code to modify the html parameter of those column spans from 10 to 1.  Then dataframe was loaded skipping those first 3 lines.\n",
        "\n",
        "3.   When trying to convert the index to date format, there was a failure because the dataframe contains\n",
        "Feb 29th entries for years that were not a leap year.  Those lines were simply dropped, as the data on them was null anyway\n",
        "\n",
        "4. The following treatment needs to be done to the dataframe, in order for it to be properly formatted:\n",
        "\n",
        "-setting the header as the resulting line with index 0\\\n",
        "-setting the index as the first column\\\n",
        "-recognizing the original decimal char as the comma, so dataframe is shown as usual with it as a dot (thousands must also be declared as dot for this to work properly)\\\n",
        "-set floating numbers with 2 decimals\\\n",
        "-name the columns properly \\\n"
      ]
    },
    {
      "cell_type": "markdown",
      "metadata": {
        "id": "TMlSWkXfyFhN"
      },
      "source": [
        "###Data backup storage saving\n",
        "\n",
        "Code was written to generate a backup of the generated file, as soon as it is downloaded.\n",
        "\n",
        "By testing backups on different format files, in terms of storage space it was found that html file is the worst choice.   Parquet file is the one we can choose to make backups for the least amount of space."
      ]
    },
    {
      "cell_type": "markdown",
      "metadata": {
        "id": "XBhtof2LLBdF"
      },
      "source": [
        "\n",
        "\n",
        "---\n",
        "\n",
        "\n",
        "## Enhancement opportunities\n",
        "\n",
        "\n",
        "1.   File generation and download\n",
        "\n",
        "By inspecting the extracted html, it was found that the file can actually be generated directly by modifying the query string values of the following URL\n",
        "\n",
        "https://gee.bccr.fi.cr/indicadoreseconomicos/Cuadros/frmVerCatCuadro.aspx?CodCuadro=400&Idioma=1&FecInicial=2023/01/01&FecFinal=2024/07/19&Filtro=0&Exportar=True&Excel=True\n",
        "\n",
        "Basically the initial and end dates can be modified at will to get the necessary file.\n",
        "\n",
        "This can be done to avoid having to use logic (with Selenium) to simulate the clicking of the button to generate the file, so the code is smaller and quicker.\n",
        "\\\n",
        "2.   Add code to download the full historical file, once a month.\n",
        "\\\n",
        "3.   Add code to check if the updated exchange file is missing more than just one record (today), if it is, then complete the missing records from the fresh scraped data that should be done every day\n",
        "\\\n",
        "4.   Clean the backup logic, the files at the end look a bit disorganized.  Some need timestamp at the filename\n",
        "\n",
        "\n"
      ]
    },
    {
      "cell_type": "markdown",
      "metadata": {
        "id": "nkuwWIxPvObY"
      },
      "source": [
        "\n",
        "\n",
        "---\n",
        "\n",
        "#Project Code\n",
        "\n"
      ]
    },
    {
      "cell_type": "markdown",
      "metadata": {
        "id": "wBdmNpVxZQ_U"
      },
      "source": [
        "\n",
        "\n",
        "##Packages,Libraries,Constants\n",
        "\n",
        "Packages installation takes about 2 minutes"
      ]
    },
    {
      "cell_type": "code",
      "execution_count": 2,
      "metadata": {
        "colab": {
          "base_uri": "https://localhost:8080/"
        },
        "id": "MqIo1XLCw6gs",
        "outputId": "241db632-5182-492a-97f8-2cdf51b85cd5"
      },
      "outputs": [
        {
          "name": "stdout",
          "output_type": "stream",
          "text": [
            "pip 24.1.2 from /home/milos/Documents/Proyectos/CienciaDeDatos/CRC-tipo-de-cambio/venv/lib/python3.9/site-packages/pip (python 3.9)\n"
          ]
        }
      ],
      "source": [
        "!pip -V"
      ]
    },
    {
      "cell_type": "code",
      "execution_count": 3,
      "metadata": {
        "colab": {
          "base_uri": "https://localhost:8080/"
        },
        "id": "cWsAhVsLxIoX",
        "outputId": "9da90968-1afc-43be-9bb9-b8b7ce586726"
      },
      "outputs": [
        {
          "name": "stdout",
          "output_type": "stream",
          "text": [
            "Requirement already satisfied: pip in ./venv/lib/python3.9/site-packages (24.1.2)\n"
          ]
        }
      ],
      "source": [
        "!pip install --upgrade pip"
      ]
    },
    {
      "cell_type": "code",
      "execution_count": 4,
      "metadata": {
        "colab": {
          "base_uri": "https://localhost:8080/"
        },
        "id": "AgJiiZNdxP0Y",
        "outputId": "ab3cd8b2-5c04-40cb-fc06-cb94b3d13888"
      },
      "outputs": [
        {
          "name": "stdout",
          "output_type": "stream",
          "text": [
            "pip 24.1.2 from /home/milos/Documents/Proyectos/CienciaDeDatos/CRC-tipo-de-cambio/venv/lib/python3.9/site-packages/pip (python 3.9)\n"
          ]
        }
      ],
      "source": [
        "!pip -V"
      ]
    },
    {
      "cell_type": "code",
      "execution_count": 5,
      "metadata": {
        "colab": {
          "base_uri": "https://localhost:8080/"
        },
        "collapsed": true,
        "id": "BW4alsLJjWfQ",
        "outputId": "049247dc-ad14-4f28-967f-b4e0f259a9d9"
      },
      "outputs": [],
      "source": [
        "!pip install --quiet matplotlib selenium html5lib python-magic fastparquet\n",
        "# !apt-get update\n",
        "# !apt install chromium-chromedriver\n",
        "import os ,requests, shutil, time, bs4, lxml, magic\n",
        "import pandas as pd\n",
        "import numpy as np\n",
        "import matplotlib.pyplot as plt\n",
        "from bs4 import BeautifulSoup as bs\n",
        "from selenium import webdriver\n",
        "from selenium.webdriver.common.by import By\n",
        "from selenium.webdriver.common.keys import Keys\n",
        "from selenium.webdriver.support.ui import WebDriverWait\n",
        "from selenium.webdriver.support import expected_conditions as EC\n",
        "from datetime import datetime\n"
      ]
    },
    {
      "cell_type": "code",
      "execution_count": 6,
      "metadata": {
        "colab": {
          "base_uri": "https://localhost:8080/"
        },
        "id": "U6Wb1zF0wpOf",
        "outputId": "f930668c-8d9c-4912-9e67-186883e85b8a"
      },
      "outputs": [
        {
          "name": "stdout",
          "output_type": "stream",
          "text": [
            "selenium==4.23.0\n"
          ]
        }
      ],
      "source": [
        "!pip freeze | grep selenium"
      ]
    },
    {
      "cell_type": "code",
      "execution_count": 7,
      "metadata": {
        "id": "5obigcSbfzBh"
      },
      "outputs": [],
      "source": [
        "# Constants\n",
        "DATASETS_PATH = './datasets'\n",
        "DATASETS_TEMP_PATH = f'{DATASETS_PATH}/temp'\n",
        "DATASETS_BACKUP_PATH = f'{DATASETS_PATH}/backups'\n",
        "CURRENT_DATASET_BASEFILENAME = 'bccr_historial_cambio_dolar'"
      ]
    },
    {
      "cell_type": "markdown",
      "metadata": {
        "id": "vqSZuKNpfkP3"
      },
      "source": [
        "## Downloading the dollar exchange historical data from the bank webpage, with Selenium\n",
        "\n",
        "To then load it into a Pandas dataframe, and back it up in a file"
      ]
    },
    {
      "cell_type": "code",
      "execution_count": 8,
      "metadata": {
        "collapsed": true,
        "id": "868k42oQnw8D"
      },
      "outputs": [
        {
          "name": "stdout",
          "output_type": "stream",
          "text": [
            "E: Could not open lock file /var/lib/dpkg/lock-frontend - open (13: Permission denied)\n",
            "E: Unable to acquire the dpkg frontend lock (/var/lib/dpkg/lock-frontend), are you root?\n"
          ]
        }
      ],
      "source": [
        "# This is just to be able to use locate linux command to check a bit for chromedriver installation\n",
        "!apt-get -qq install mlocate > /dev/null"
      ]
    },
    {
      "cell_type": "code",
      "execution_count": 9,
      "metadata": {
        "id": "Z9_0EI0cnqZK"
      },
      "outputs": [
        {
          "name": "stdout",
          "output_type": "stream",
          "text": [
            "updatedb: can not open a temporary file for `/var/lib/mlocate/mlocate.db'\n",
            "/home/milos/.cache/selenium/chromedriver\n",
            "/home/milos/.cache/selenium/chromedriver/linux64\n",
            "/home/milos/.cache/selenium/chromedriver/linux64/125.0.6422.141\n",
            "/home/milos/.cache/selenium/chromedriver/linux64/125.0.6422.141/chromedriver\n"
          ]
        }
      ],
      "source": [
        "# Initially chromedriver is missing\n",
        "!updatedb\n",
        "!locate chromedriver"
      ]
    },
    {
      "cell_type": "code",
      "execution_count": 10,
      "metadata": {
        "id": "CbIjQChmqXkK"
      },
      "outputs": [],
      "source": [
        "!which chromedriver"
      ]
    },
    {
      "cell_type": "code",
      "execution_count": 11,
      "metadata": {
        "colab": {
          "base_uri": "https://localhost:8080/"
        },
        "collapsed": true,
        "id": "M2ICFX_In_h1",
        "outputId": "1626bf4e-c86f-452c-ae81-f05c7daae405"
      },
      "outputs": [
        {
          "name": "stdout",
          "output_type": "stream",
          "text": [
            "\n",
            "WARNING: apt does not have a stable CLI interface. Use with caution in scripts.\n",
            "\n",
            "E: Could not open lock file /var/lib/dpkg/lock-frontend - open (13: Permission denied)\n",
            "E: Unable to acquire the dpkg frontend lock (/var/lib/dpkg/lock-frontend), are you root?\n"
          ]
        }
      ],
      "source": [
        "# Chromedriver instalation.  Required by Selenium\n",
        "!apt install -qq chromium-chromedriver > /dev/null"
      ]
    },
    {
      "cell_type": "code",
      "execution_count": 12,
      "metadata": {
        "colab": {
          "base_uri": "https://localhost:8080/"
        },
        "id": "TC3h1zLYpWNt",
        "outputId": "222d68f0-ff6e-4894-c32b-ea935c833126"
      },
      "outputs": [
        {
          "name": "stdout",
          "output_type": "stream",
          "text": [
            "updatedb: can not open a temporary file for `/var/lib/mlocate/mlocate.db'\n",
            "/home/milos/.cache/selenium/chromedriver\n",
            "/home/milos/.cache/selenium/chromedriver/linux64\n",
            "/home/milos/.cache/selenium/chromedriver/linux64/125.0.6422.141\n",
            "/home/milos/.cache/selenium/chromedriver/linux64/125.0.6422.141/chromedriver\n"
          ]
        }
      ],
      "source": [
        "# Confirming it is installed now\n",
        "!updatedb\n",
        "!locate chromedriver"
      ]
    },
    {
      "cell_type": "code",
      "execution_count": 13,
      "metadata": {
        "colab": {
          "base_uri": "https://localhost:8080/"
        },
        "id": "F5tTwVZvp1UG",
        "outputId": "45eb77a5-7cfd-436c-d0ab-fd846a0cb20d"
      },
      "outputs": [],
      "source": [
        "!which chromedriver"
      ]
    },
    {
      "cell_type": "markdown",
      "metadata": {
        "id": "u3t3XaZ_fsmS"
      },
      "source": [
        "### Selenium config and parameters"
      ]
    },
    {
      "cell_type": "code",
      "execution_count": 14,
      "metadata": {
        "colab": {
          "base_uri": "https://localhost:8080/"
        },
        "id": "ajJErg0hyz2a",
        "outputId": "0ea983b7-0fa3-4250-c206-324f17c1385a"
      },
      "outputs": [
        {
          "data": {
            "text/plain": [
              "{}"
            ]
          },
          "execution_count": 14,
          "metadata": {},
          "output_type": "execute_result"
        }
      ],
      "source": [
        "# Set up Chrome options\n",
        "chrome_options = webdriver.ChromeOptions()\n",
        "chrome_options.add_argument('--headless')  # Run Chrome in headless mode (so it does not attempt to open the browser onscreen. In google colab of ccurse there is no screen as it uses a virtual machine)\n",
        "chrome_options.add_argument('--no-sandbox')\n",
        "chrome_options.add_argument('--disable-dev-shm-usage')\n",
        "# Adding a UA to try minimize the probability of bank blocking request because the default python UA\n",
        "chrome_options.add_argument(\"user-agent = Mozilla/5.0 (X11; Linux x86_64) AppleWebKit/537.36 (KHTML, like Gecko) Chrome/125.0.0.0 Safari/537.36\")\n",
        "# Initialize Chrome WebDriver\n",
        "driver = webdriver.Chrome(options=chrome_options)\n",
        "driver.implicitly_wait(10) # seconds, this is used to ensure all objects\n",
        "#have been downloaded before taking actions\n",
        "\n",
        "# Set up Chrome download options (dont ask file name/saving dir)\n",
        "# dnld_params = { 'behavior': 'allow', 'downloadPath': os.getcwd() } #download to current dir\n",
        "dnld_params = { 'behavior': 'allow', 'downloadPath': DATASETS_TEMP_PATH } #download to specified temp dir\n",
        "driver.execute_cdp_cmd ('Page.setDownloadBehavior', dnld_params)"
      ]
    },
    {
      "cell_type": "markdown",
      "metadata": {
        "id": "OODFW0mMf1fX"
      },
      "source": [
        "### Selenium run"
      ]
    },
    {
      "cell_type": "code",
      "execution_count": 15,
      "metadata": {
        "id": "BeeilOiQzVp4"
      },
      "outputs": [],
      "source": [
        "# Navigate to the page. Unlike Requests, Selenium needs the query strings directly at the URL\n",
        "driver.get('https://gee.bccr.fi.cr/indicadoreseconomicos/Cuadros/frmVerCatCuadro.aspx?idioma=1&CodCuadro=%20400')\n"
      ]
    },
    {
      "cell_type": "code",
      "execution_count": 16,
      "metadata": {
        "colab": {
          "base_uri": "https://localhost:8080/",
          "height": 35
        },
        "id": "jPCAUt1JzrFh",
        "outputId": "4da61806-494e-40e2-ad6b-f9b8c96b0bb7"
      },
      "outputs": [
        {
          "data": {
            "text/plain": [
              "'https://gee.bccr.fi.cr/indicadoreseconomicos/Cuadros/frmVerCatCuadro.aspx?idioma=1&CodCuadro=%20400'"
            ]
          },
          "execution_count": 16,
          "metadata": {},
          "output_type": "execute_result"
        }
      ],
      "source": [
        "driver.current_url"
      ]
    },
    {
      "cell_type": "markdown",
      "metadata": {
        "id": "A1m5z-aG3xJJ"
      },
      "source": [
        "The tag line of the image button is the following:\n",
        "\n",
        "\\<img onmouseover=\"this.src = '/indicadoreseconomicos\\\\Imagenes\\\\bexport_on.gif'; this.style.cursor = 'pointer';\" onclick=\"js_doExport();\" onmouseout=\"this.src = '/indicadoreseconomicos\\\\Imagenes\\\\bexport_off.gif'; this.style.cursor = 'default';\" height=\"27\" alt=\"Exportar datos a Excel\" src=\"/indicadoreseconomicos\\Imagenes\\bexport_off.gif\" width=\"38\" border=\"0\" style=\"cursor: default;\">\n",
        "\n",
        "The **alt** tag is the one that can be used as a selector in selenium"
      ]
    },
    {
      "cell_type": "code",
      "execution_count": 17,
      "metadata": {
        "colab": {
          "base_uri": "https://localhost:8080/"
        },
        "id": "LCaYAaQARV0a",
        "outputId": "bd194081-306e-49cd-9aaa-1371aca5f6ea"
      },
      "outputs": [
        {
          "name": "stdout",
          "output_type": "stream",
          "text": [
            "lun 22 jul 17:54:35 CST 2024\n",
            "milos     6847  6196  2 17:54 ?        00:00:00 /home/milos/.cache/selenium/chromedriver/linux64/125.0.6422.141/chromedriver --port=44279\n"
          ]
        }
      ],
      "source": [
        "!date\n",
        "!ps -ef | grep chromedriver | grep -v grep"
      ]
    },
    {
      "cell_type": "markdown",
      "metadata": {
        "id": "qxxixzf_gN5I"
      },
      "source": [
        "### Finding the image that needs to be clicked to generate the file"
      ]
    },
    {
      "cell_type": "code",
      "execution_count": 18,
      "metadata": {
        "collapsed": true,
        "id": "vaEZW0ikj7iD"
      },
      "outputs": [],
      "source": [
        "# Find the image element (adjust the locator as needed)\n",
        "\n",
        "# this one uses explicit delay (10 secs) to ensure objects have loaded\n",
        "# help>   https://selenium-python.readthedocs.io/waits.html\n",
        "image_button = WebDriverWait(driver, 15).until(\n",
        "    EC.presence_of_element_located((By.XPATH, '//img[@alt=\"Exportar datos a Excel\" ]')) ) # Replace with the actual XPath\n",
        "\n",
        "# another way is\n",
        "#help>  https://selenium-python.readthedocs.io/locating-elements.html\n",
        "# driver.implicitly_wait(10) # seconds\n",
        "# image_button = driver.find_element(By.XPATH, '//img[@alt=\"Exportar datos a Excel\"]')"
      ]
    },
    {
      "cell_type": "markdown",
      "metadata": {
        "id": "LBb7uQ19gUdp"
      },
      "source": [
        "### Click the image (to trigger the download)\n",
        "\n",
        "*   List item\n",
        "*   List item\n",
        "\n"
      ]
    },
    {
      "cell_type": "code",
      "execution_count": 19,
      "metadata": {
        "id": "1ao4CdU1_hTd"
      },
      "outputs": [],
      "source": [
        "# Click the image (to trigger the download)\n",
        "image_button.click()\n",
        "\n",
        "# Get the image source URL in case we want to download that image\n",
        "# This line is not needed to click on the image\n",
        "image_url = image_button.get_attribute('src')"
      ]
    },
    {
      "cell_type": "code",
      "execution_count": 20,
      "metadata": {
        "colab": {
          "base_uri": "https://localhost:8080/"
        },
        "id": "3fdbvtq85Ff-",
        "outputId": "6fae9977-2c2f-4146-cf2c-e1aca01829f4"
      },
      "outputs": [
        {
          "name": "stdout",
          "output_type": "stream",
          "text": [
            "lun 22 jul 17:54:37 CST 2024\n",
            "milos     6847  6196  1 17:54 ?        00:00:00 /home/milos/.cache/selenium/chromedriver/linux64/125.0.6422.141/chromedriver --port=44279\n"
          ]
        }
      ],
      "source": [
        "!date\n",
        "!ps -ef | grep chromedriver | grep -v grep"
      ]
    },
    {
      "cell_type": "code",
      "execution_count": 21,
      "metadata": {
        "id": "r-k_VjkGAZcC"
      },
      "outputs": [],
      "source": [
        "# This cell is not really necessary, it just a test made here\n",
        "# Send a request to download the image file, # Save the downloaded file locally if needed\n",
        "response = requests.get(image_url)\n",
        "local_filename = 'downloaded_image.jpg'  #\n",
        "with open(local_filename, 'wb') as f:\n",
        "    f.write(response.content)"
      ]
    },
    {
      "cell_type": "code",
      "execution_count": 22,
      "metadata": {
        "colab": {
          "base_uri": "https://localhost:8080/"
        },
        "id": "hhm_wUj3unIE",
        "outputId": "0ceb3d59-9a3e-4587-d41d-7b580691b0f0"
      },
      "outputs": [
        {
          "name": "stdout",
          "output_type": "stream",
          "text": [
            "20240722 17:54:41 --- Download dir ./datasets/temp created, download started\n",
            "['frmVerCatCuadro.xls.crdownload']\n",
            "Wait for download completion....\n",
            "20240722 17:54:44 --- Download completed\n",
            "['frmVerCatCuadro.xls']\n",
            "20240722 17:54:44 --- File moved to ./datasets directory\n"
          ]
        }
      ],
      "source": [
        "# Sometimes the download does not finish and it is stuck at the .crdownload temporary file\n",
        "# This piece of code makes sure the download to {DATASETS_PATH}/temp actually happened\n",
        "# Setting a timeout to check that file has finished downloading\n",
        "\n",
        "timeout = time.time() + 45  # 45 seconds from now\n",
        "count = 1\n",
        "while True:\n",
        "          #  check if dir is there  and check if download already started with a temp crdownload file\n",
        "  if (os.path.exists(f'{DATASETS_PATH}/temp')):\n",
        "    # check if there is any file at the temp dir\n",
        "      if len(os.listdir(f'{DATASETS_PATH}/temp')) !=0:\n",
        "       #check if download already started with a temp crdownload file\n",
        "        if (os.listdir(f'{DATASETS_PATH}/temp')[0].find('crdownload') != -1) and (count>0):\n",
        "          print(datetime.today().strftime('%Y%m%d %H:%M:%S') + ' --- ' + f'Download dir {DATASETS_PATH}/temp created, download started')\n",
        "          print(os.listdir(f'{DATASETS_PATH}/temp'))\n",
        "          print('Wait for download completion....')\n",
        "          count-=1  #so message is printed only once\n",
        "        #  check if download completed when crdownload extension is removed\n",
        "        if (os.listdir(f'{DATASETS_PATH}/temp')[0].find('crdownload') == -1):\n",
        "          print(datetime.today().strftime('%Y%m%d %H:%M:%S') + ' --- ' + f'Download completed')\n",
        "          print(os.listdir(f'{DATASETS_PATH}/temp'))\n",
        "          downloaded_filename = os.listdir(f'{DATASETS_PATH}/temp')[0]\n",
        "          shutil.move(  f'{DATASETS_PATH}/temp/{downloaded_filename}' , f'{DATASETS_PATH}/{downloaded_filename}' )\n",
        "          print(datetime.today().strftime('%Y%m%d %H:%M:%S') + ' --- ' + f'File moved to {DATASETS_PATH} directory')\n",
        "          break\n",
        "  if time.time() > timeout:\n",
        "    print(datetime.today().strftime('%Y%m%d %H:%M:%S') + ' --- ' + \"Timed out waiting for datasets directory to be created, or file was not downloaded completely/at all\")\n",
        "    break\n",
        "  time.sleep(3)\n",
        "\n",
        "# If there are errors downloading file, you may need to disconnect the runtime and start over\n",
        "# Possibly the website is blocking scraping, and code needs to be enhanced to try avoid the block\n",
        "# Or maybe there was just a temporary network issue..."
      ]
    },
    {
      "cell_type": "code",
      "execution_count": 23,
      "metadata": {
        "colab": {
          "base_uri": "https://localhost:8080/"
        },
        "id": "7mVMxjGK7GX8",
        "outputId": "01c4d9d9-bd6f-46c5-be1f-264201e64fcf"
      },
      "outputs": [
        {
          "data": {
            "text/plain": [
              "['bccr_historial_cambio_dolar.parquet',\n",
              " 'frmVerCatCuadro.xls',\n",
              " 'backups',\n",
              " 'bccr_historial_cambio_dolar.html',\n",
              " 'temp']"
            ]
          },
          "execution_count": 23,
          "metadata": {},
          "output_type": "execute_result"
        }
      ],
      "source": [
        "os.listdir(DATASETS_PATH)"
      ]
    },
    {
      "cell_type": "code",
      "execution_count": 24,
      "metadata": {
        "colab": {
          "base_uri": "https://localhost:8080/"
        },
        "id": "ScVYKYsJk2Xi",
        "outputId": "d53ae0fa-2cfe-4614-f3d6-427b48f0d88a"
      },
      "outputs": [
        {
          "data": {
            "text/plain": [
              "[('./datasets',\n",
              "  ['backups', 'temp'],\n",
              "  ['bccr_historial_cambio_dolar.parquet',\n",
              "   'frmVerCatCuadro.xls',\n",
              "   'bccr_historial_cambio_dolar.html']),\n",
              " ('./datasets/backups',\n",
              "  [],\n",
              "  ['bccr_historial_cambio_dolar.parquet',\n",
              "   'bccr_historial_cambio_dolar.csv',\n",
              "   'bccr_historial_cambio_dolar.html.20240722',\n",
              "   'bccr_historial_cambio_dolar.pkl',\n",
              "   'bccr_historial_cambio_dolar.xlsx']),\n",
              " ('./datasets/temp', [], [])]"
            ]
          },
          "execution_count": 24,
          "metadata": {},
          "output_type": "execute_result"
        }
      ],
      "source": [
        "list(os.walk(DATASETS_PATH))"
      ]
    },
    {
      "cell_type": "code",
      "execution_count": 25,
      "metadata": {
        "colab": {
          "base_uri": "https://localhost:8080/"
        },
        "id": "tEuJBg4SNxaX",
        "outputId": "2a9cdb87-1e20-4973-e3f9-0c69a48ce1fb"
      },
      "outputs": [
        {
          "name": "stdout",
          "output_type": "stream",
          "text": [
            "lun 22 jul 17:54:45 CST 2024\n",
            "-rw-r--r-- 1 milos milos 2,8M jul 22 17:21 datasets/bccr_historial_cambio_dolar.html\n",
            "-rw-r--r-- 1 milos milos 189K jul 22 17:39 datasets/bccr_historial_cambio_dolar.parquet\n",
            "-rw-r--r-- 1 milos milos 2,9M jul 22 17:54 datasets/frmVerCatCuadro.xls\n",
            "\n",
            "datasets/backups:\n",
            "total 4,0M\n",
            "-rw-r--r-- 1 milos milos 360K jul 22 17:35 bccr_historial_cambio_dolar.csv\n",
            "-rw-r--r-- 1 milos milos 2,9M jul 22 17:21 bccr_historial_cambio_dolar.html.20240722\n",
            "-rw-r--r-- 1 milos milos 189K jul 22 17:35 bccr_historial_cambio_dolar.parquet\n",
            "-rw-r--r-- 1 milos milos 357K jul 22 17:35 bccr_historial_cambio_dolar.pkl\n",
            "-rw-r--r-- 1 milos milos 267K jul 22 17:35 bccr_historial_cambio_dolar.xlsx\n",
            "\n",
            "datasets/temp:\n",
            "total 0\n"
          ]
        }
      ],
      "source": [
        "!date ; ls -lh datasets/*"
      ]
    },
    {
      "cell_type": "code",
      "execution_count": 26,
      "metadata": {
        "colab": {
          "base_uri": "https://localhost:8080/",
          "height": 35
        },
        "id": "kL7UZVS2qQQU",
        "outputId": "72b5d807-c78d-453c-eb31-2930ef92d02c"
      },
      "outputs": [
        {
          "data": {
            "text/plain": [
              "'frmVerCatCuadro.xls'"
            ]
          },
          "execution_count": 26,
          "metadata": {},
          "output_type": "execute_result"
        }
      ],
      "source": [
        "downloaded_filename"
      ]
    },
    {
      "cell_type": "code",
      "execution_count": 27,
      "metadata": {
        "id": "NVEF95ZfPXr4"
      },
      "outputs": [],
      "source": [
        "# Close the chromedriver to free up memory\n",
        "driver.quit()"
      ]
    },
    {
      "cell_type": "markdown",
      "metadata": {
        "id": "ax0mBq7_l3Lc"
      },
      "source": [
        "### Discovering that the downloaded .xls file is actually NOT and Excel file"
      ]
    },
    {
      "cell_type": "code",
      "execution_count": 28,
      "metadata": {
        "colab": {
          "base_uri": "https://localhost:8080/"
        },
        "id": "N1idXHLwOa1l",
        "outputId": "466cd01d-fae0-4702-a2c5-f5b68697d37d"
      },
      "outputs": [
        {
          "name": "stdout",
          "output_type": "stream",
          "text": [
            "datasets/backups:                             directory\n",
            "datasets/bccr_historial_cambio_dolar.html:    HTML document, ASCII text\n",
            "datasets/bccr_historial_cambio_dolar.parquet: Apache Parquet\n",
            "datasets/frmVerCatCuadro.xls:                 HTML document, ASCII text, with CRLF line terminators\n",
            "datasets/temp:                                directory\n"
          ]
        }
      ],
      "source": [
        "# the supposed xls file is actually an html document, not excel  -- checked in linux\n",
        "!file datasets/*"
      ]
    },
    {
      "cell_type": "code",
      "execution_count": 29,
      "metadata": {
        "colab": {
          "base_uri": "https://localhost:8080/",
          "height": 35
        },
        "id": "GspfDBlsmlBs",
        "outputId": "857f0e8d-0a86-4249-da05-6505fc781066"
      },
      "outputs": [
        {
          "data": {
            "text/plain": [
              "'HTML document, ASCII text, with CRLF line terminators'"
            ]
          },
          "execution_count": 29,
          "metadata": {},
          "output_type": "execute_result"
        }
      ],
      "source": [
        "# The same as above but done in python code\n",
        "# requires to pip install python-magic and import magic\n",
        "\n",
        "magic.from_file(f'{DATASETS_PATH}/{downloaded_filename}')"
      ]
    },
    {
      "cell_type": "code",
      "execution_count": 30,
      "metadata": {
        "colab": {
          "base_uri": "https://localhost:8080/"
        },
        "id": "WBHXfOlpYOkD",
        "outputId": "b3965e2a-ef3d-4292-fe0e-984f0dbd240a"
      },
      "outputs": [
        {
          "data": {
            "text/plain": [
              "1721692484.2680497"
            ]
          },
          "execution_count": 30,
          "metadata": {},
          "output_type": "execute_result"
        }
      ],
      "source": [
        "# os.path.getctime('./datasets/frmVerCatCuadro.xls')\n",
        "os.path.getctime(f'{DATASETS_PATH}/{downloaded_filename}')"
      ]
    },
    {
      "cell_type": "code",
      "execution_count": 31,
      "metadata": {
        "colab": {
          "base_uri": "https://localhost:8080/",
          "height": 35
        },
        "id": "8xOWpo_dYxK3",
        "outputId": "7b993998-321b-4d4e-b0eb-33482b8392a5"
      },
      "outputs": [
        {
          "data": {
            "text/plain": [
              "'frmVerCatCuadro.xls'"
            ]
          },
          "execution_count": 31,
          "metadata": {},
          "output_type": "execute_result"
        }
      ],
      "source": [
        "### NOTE: this code was initially used, but later not used because\n",
        "#the variable downloaded_filename was created.  I left it here as it may be useable on some other project\n",
        "\n",
        "# Generate the name of the most recent file by creation time, found at ./datasets directory\n",
        "def find_most_recent_ds_file(directory):\n",
        "#Finds the most recently modified file in a directory.\n",
        "  files = [f for f in os.listdir(directory) if os.path.isfile(os.path.join(directory, f))]\n",
        "  if not files:\n",
        "    return None\n",
        "\n",
        "  most_recent_file = max(files, key=lambda f: os.path.getctime(os.path.join(directory, f)))\n",
        "  return most_recent_file\n",
        "\n",
        "most_recent_ds_file = find_most_recent_ds_file(DATASETS_PATH)\n",
        "most_recent_ds_file\n"
      ]
    },
    {
      "cell_type": "code",
      "execution_count": 32,
      "metadata": {
        "colab": {
          "base_uri": "https://localhost:8080/",
          "height": 35
        },
        "id": "UIec4ZcdpHrc",
        "outputId": "f416b19f-4358-47e9-d805-304770a4a701"
      },
      "outputs": [
        {
          "data": {
            "text/plain": [
              "'bccr_historial_cambio_dolar'"
            ]
          },
          "execution_count": 32,
          "metadata": {},
          "output_type": "execute_result"
        }
      ],
      "source": [
        "CURRENT_DATASET_BASEFILENAME"
      ]
    },
    {
      "cell_type": "code",
      "execution_count": 33,
      "metadata": {
        "id": "rg0WVfp6f_RO"
      },
      "outputs": [],
      "source": [
        "# rename file to a more distiguishable name and also back it up just in case\n",
        "os.rename( f'{DATASETS_PATH}/{downloaded_filename}' ,\n",
        "          f'{DATASETS_PATH}/{CURRENT_DATASET_BASEFILENAME}.html')"
      ]
    },
    {
      "cell_type": "code",
      "execution_count": 34,
      "metadata": {
        "colab": {
          "base_uri": "https://localhost:8080/",
          "height": 35
        },
        "id": "xPdipaBejNmK",
        "outputId": "4dd02fc4-0652-4e75-9fd1-29f8b11ec330"
      },
      "outputs": [
        {
          "data": {
            "text/plain": [
              "'./datasets/backups/bccr_historial_cambio_dolar.html.20240722'"
            ]
          },
          "execution_count": 34,
          "metadata": {},
          "output_type": "execute_result"
        }
      ],
      "source": [
        "# Creating a backup file\n",
        "\n",
        "current_timestamp = datetime.today().strftime('%Y%m%d')\n",
        "os.makedirs(f'{DATASETS_BACKUP_PATH}', exist_ok=True)\n",
        "shutil.copyfile(f'{DATASETS_PATH}/{CURRENT_DATASET_BASEFILENAME}.html',\n",
        "                f'{DATASETS_BACKUP_PATH}/{CURRENT_DATASET_BASEFILENAME}.html.{current_timestamp}')"
      ]
    },
    {
      "cell_type": "code",
      "execution_count": 35,
      "metadata": {
        "colab": {
          "base_uri": "https://localhost:8080/"
        },
        "id": "B-btFTz-ngvE",
        "outputId": "12b72284-7a56-456d-a49a-e4c9f32684aa"
      },
      "outputs": [
        {
          "name": "stdout",
          "output_type": "stream",
          "text": [
            "-rw-r--r-- 1 milos milos 2,9M jul 22 17:54 datasets/bccr_historial_cambio_dolar.html\n",
            "-rw-r--r-- 1 milos milos 189K jul 22 17:39 datasets/bccr_historial_cambio_dolar.parquet\n",
            "\n",
            "datasets/backups:\n",
            "total 4,0M\n",
            "-rw-r--r-- 1 milos milos 360K jul 22 17:35 bccr_historial_cambio_dolar.csv\n",
            "-rw-r--r-- 1 milos milos 2,9M jul 22 17:54 bccr_historial_cambio_dolar.html.20240722\n",
            "-rw-r--r-- 1 milos milos 189K jul 22 17:35 bccr_historial_cambio_dolar.parquet\n",
            "-rw-r--r-- 1 milos milos 357K jul 22 17:35 bccr_historial_cambio_dolar.pkl\n",
            "-rw-r--r-- 1 milos milos 267K jul 22 17:35 bccr_historial_cambio_dolar.xlsx\n",
            "\n",
            "datasets/temp:\n",
            "total 0\n"
          ]
        }
      ],
      "source": [
        "ls -lh datasets/*"
      ]
    },
    {
      "cell_type": "code",
      "execution_count": 36,
      "metadata": {
        "colab": {
          "base_uri": "https://localhost:8080/"
        },
        "id": "m98x0kyApZnc",
        "outputId": "fe6bd3aa-9786-48aa-cbb2-51bb1c959961"
      },
      "outputs": [
        {
          "name": "stdout",
          "output_type": "stream",
          "text": [
            "./datasets/bccr_historial_cambio_dolar.html\n"
          ]
        }
      ],
      "source": [
        "print(f'{DATASETS_PATH}/{CURRENT_DATASET_BASEFILENAME}.html')"
      ]
    },
    {
      "cell_type": "markdown",
      "metadata": {
        "id": "6Z6SPdslszMT"
      },
      "source": [
        "### Building the dataframe from the downloaded file\n",
        "\n",
        "> Add blockquote\n",
        "\n"
      ]
    },
    {
      "cell_type": "code",
      "execution_count": 37,
      "metadata": {
        "colab": {
          "base_uri": "https://localhost:8080/"
        },
        "collapsed": true,
        "id": "xrtI-eBjzgwE",
        "outputId": "4242dc73-7a5a-48f5-c26b-cdcffedc00c6"
      },
      "outputs": [
        {
          "data": {
            "text/plain": [
              "(15216, 10)"
            ]
          },
          "execution_count": 37,
          "metadata": {},
          "output_type": "execute_result"
        }
      ],
      "source": [
        "# Converting html to dataframe\n",
        "\n",
        "pd.read_html(f'{DATASETS_PATH}/{CURRENT_DATASET_BASEFILENAME}.html')[0].shape\n"
      ]
    },
    {
      "cell_type": "code",
      "execution_count": 38,
      "metadata": {
        "colab": {
          "base_uri": "https://localhost:8080/",
          "height": 428
        },
        "id": "odyTZdMr3D5C",
        "outputId": "ca533f8b-7fcb-4384-e5e0-3130498d5103"
      },
      "outputs": [
        {
          "data": {
            "text/html": [
              "<div>\n",
              "<style scoped>\n",
              "    .dataframe tbody tr th:only-of-type {\n",
              "        vertical-align: middle;\n",
              "    }\n",
              "\n",
              "    .dataframe tbody tr th {\n",
              "        vertical-align: top;\n",
              "    }\n",
              "\n",
              "    .dataframe thead th {\n",
              "        text-align: right;\n",
              "    }\n",
              "</style>\n",
              "<table border=\"1\" class=\"dataframe\">\n",
              "  <thead>\n",
              "    <tr style=\"text-align: right;\">\n",
              "      <th></th>\n",
              "      <th>0</th>\n",
              "      <th>1</th>\n",
              "      <th>2</th>\n",
              "      <th>3</th>\n",
              "      <th>4</th>\n",
              "      <th>5</th>\n",
              "      <th>6</th>\n",
              "      <th>7</th>\n",
              "      <th>8</th>\n",
              "      <th>9</th>\n",
              "    </tr>\n",
              "  </thead>\n",
              "  <tbody>\n",
              "    <tr>\n",
              "      <th>0</th>\n",
              "      <td>Tipo cambio de compra y de venta del dólar de ...</td>\n",
              "      <td>Tipo cambio de compra y de venta del dólar de ...</td>\n",
              "      <td>Tipo cambio de compra y de venta del dólar de ...</td>\n",
              "      <td>Tipo cambio de compra y de venta del dólar de ...</td>\n",
              "      <td>Tipo cambio de compra y de venta del dólar de ...</td>\n",
              "      <td>Tipo cambio de compra y de venta del dólar de ...</td>\n",
              "      <td>Tipo cambio de compra y de venta del dólar de ...</td>\n",
              "      <td>Tipo cambio de compra y de venta del dólar de ...</td>\n",
              "      <td>Tipo cambio de compra y de venta del dólar de ...</td>\n",
              "      <td>Tipo cambio de compra y de venta del dólar de ...</td>\n",
              "    </tr>\n",
              "    <tr>\n",
              "      <th>1</th>\n",
              "      <td>Referencia del Banco Central de Costa Rica</td>\n",
              "      <td>Referencia del Banco Central de Costa Rica</td>\n",
              "      <td>Referencia del Banco Central de Costa Rica</td>\n",
              "      <td>Referencia del Banco Central de Costa Rica</td>\n",
              "      <td>Referencia del Banco Central de Costa Rica</td>\n",
              "      <td>Referencia del Banco Central de Costa Rica</td>\n",
              "      <td>Referencia del Banco Central de Costa Rica</td>\n",
              "      <td>Referencia del Banco Central de Costa Rica</td>\n",
              "      <td>Referencia del Banco Central de Costa Rica</td>\n",
              "      <td>Referencia del Banco Central de Costa Rica</td>\n",
              "    </tr>\n",
              "    <tr>\n",
              "      <th>2</th>\n",
              "      <td>En colones costarricenses</td>\n",
              "      <td>En colones costarricenses</td>\n",
              "      <td>En colones costarricenses</td>\n",
              "      <td>En colones costarricenses</td>\n",
              "      <td>En colones costarricenses</td>\n",
              "      <td>En colones costarricenses</td>\n",
              "      <td>En colones costarricenses</td>\n",
              "      <td>En colones costarricenses</td>\n",
              "      <td>En colones costarricenses</td>\n",
              "      <td>En colones costarricenses</td>\n",
              "    </tr>\n",
              "    <tr>\n",
              "      <th>3</th>\n",
              "      <td>NaN</td>\n",
              "      <td>NaN</td>\n",
              "      <td>NaN</td>\n",
              "      <td>NaN</td>\n",
              "      <td>NaN</td>\n",
              "      <td>NaN</td>\n",
              "      <td>NaN</td>\n",
              "      <td>NaN</td>\n",
              "      <td>NaN</td>\n",
              "      <td>NaN</td>\n",
              "    </tr>\n",
              "    <tr>\n",
              "      <th>4</th>\n",
              "      <td>NaN</td>\n",
              "      <td>TIPO CAMBIO COMPRA</td>\n",
              "      <td>TIPO DE CAMBIO VENTA</td>\n",
              "      <td>NaN</td>\n",
              "      <td>NaN</td>\n",
              "      <td>NaN</td>\n",
              "      <td>NaN</td>\n",
              "      <td>NaN</td>\n",
              "      <td>NaN</td>\n",
              "      <td>NaN</td>\n",
              "    </tr>\n",
              "    <tr>\n",
              "      <th>5</th>\n",
              "      <td>1 Ene 1983</td>\n",
              "      <td>4495000000</td>\n",
              "      <td>4545000000</td>\n",
              "      <td>NaN</td>\n",
              "      <td>NaN</td>\n",
              "      <td>NaN</td>\n",
              "      <td>NaN</td>\n",
              "      <td>NaN</td>\n",
              "      <td>NaN</td>\n",
              "      <td>NaN</td>\n",
              "    </tr>\n",
              "    <tr>\n",
              "      <th>6</th>\n",
              "      <td>2 Ene 1983</td>\n",
              "      <td>4495000000</td>\n",
              "      <td>4545000000</td>\n",
              "      <td>NaN</td>\n",
              "      <td>NaN</td>\n",
              "      <td>NaN</td>\n",
              "      <td>NaN</td>\n",
              "      <td>NaN</td>\n",
              "      <td>NaN</td>\n",
              "      <td>NaN</td>\n",
              "    </tr>\n",
              "  </tbody>\n",
              "</table>\n",
              "</div>"
            ],
            "text/plain": [
              "                                                   0  \\\n",
              "0  Tipo cambio de compra y de venta del dólar de ...   \n",
              "1         Referencia del Banco Central de Costa Rica   \n",
              "2                          En colones costarricenses   \n",
              "3                                                NaN   \n",
              "4                                                NaN   \n",
              "5                                         1 Ene 1983   \n",
              "6                                         2 Ene 1983   \n",
              "\n",
              "                                                   1  \\\n",
              "0  Tipo cambio de compra y de venta del dólar de ...   \n",
              "1         Referencia del Banco Central de Costa Rica   \n",
              "2                          En colones costarricenses   \n",
              "3                                                NaN   \n",
              "4                                 TIPO CAMBIO COMPRA   \n",
              "5                                         4495000000   \n",
              "6                                         4495000000   \n",
              "\n",
              "                                                   2  \\\n",
              "0  Tipo cambio de compra y de venta del dólar de ...   \n",
              "1         Referencia del Banco Central de Costa Rica   \n",
              "2                          En colones costarricenses   \n",
              "3                                                NaN   \n",
              "4                               TIPO DE CAMBIO VENTA   \n",
              "5                                         4545000000   \n",
              "6                                         4545000000   \n",
              "\n",
              "                                                   3  \\\n",
              "0  Tipo cambio de compra y de venta del dólar de ...   \n",
              "1         Referencia del Banco Central de Costa Rica   \n",
              "2                          En colones costarricenses   \n",
              "3                                                NaN   \n",
              "4                                                NaN   \n",
              "5                                                NaN   \n",
              "6                                                NaN   \n",
              "\n",
              "                                                   4  \\\n",
              "0  Tipo cambio de compra y de venta del dólar de ...   \n",
              "1         Referencia del Banco Central de Costa Rica   \n",
              "2                          En colones costarricenses   \n",
              "3                                                NaN   \n",
              "4                                                NaN   \n",
              "5                                                NaN   \n",
              "6                                                NaN   \n",
              "\n",
              "                                                   5  \\\n",
              "0  Tipo cambio de compra y de venta del dólar de ...   \n",
              "1         Referencia del Banco Central de Costa Rica   \n",
              "2                          En colones costarricenses   \n",
              "3                                                NaN   \n",
              "4                                                NaN   \n",
              "5                                                NaN   \n",
              "6                                                NaN   \n",
              "\n",
              "                                                   6  \\\n",
              "0  Tipo cambio de compra y de venta del dólar de ...   \n",
              "1         Referencia del Banco Central de Costa Rica   \n",
              "2                          En colones costarricenses   \n",
              "3                                                NaN   \n",
              "4                                                NaN   \n",
              "5                                                NaN   \n",
              "6                                                NaN   \n",
              "\n",
              "                                                   7  \\\n",
              "0  Tipo cambio de compra y de venta del dólar de ...   \n",
              "1         Referencia del Banco Central de Costa Rica   \n",
              "2                          En colones costarricenses   \n",
              "3                                                NaN   \n",
              "4                                                NaN   \n",
              "5                                                NaN   \n",
              "6                                                NaN   \n",
              "\n",
              "                                                   8  \\\n",
              "0  Tipo cambio de compra y de venta del dólar de ...   \n",
              "1         Referencia del Banco Central de Costa Rica   \n",
              "2                          En colones costarricenses   \n",
              "3                                                NaN   \n",
              "4                                                NaN   \n",
              "5                                                NaN   \n",
              "6                                                NaN   \n",
              "\n",
              "                                                   9  \n",
              "0  Tipo cambio de compra y de venta del dólar de ...  \n",
              "1         Referencia del Banco Central de Costa Rica  \n",
              "2                          En colones costarricenses  \n",
              "3                                                NaN  \n",
              "4                                                NaN  \n",
              "5                                                NaN  \n",
              "6                                                NaN  "
            ]
          },
          "execution_count": 38,
          "metadata": {},
          "output_type": "execute_result"
        }
      ],
      "source": [
        "# The resulting dataframe is shown with\n",
        "pd.read_html(f'{DATASETS_PATH}/{CURRENT_DATASET_BASEFILENAME}.html')[0].iloc[: , :] .head(7)"
      ]
    },
    {
      "cell_type": "code",
      "execution_count": 39,
      "metadata": {
        "colab": {
          "base_uri": "https://localhost:8080/"
        },
        "id": "z2gYgS1XCI7S",
        "outputId": "be20cf8a-b82d-4981-98b1-8882a476fbbb"
      },
      "outputs": [
        {
          "name": "stdout",
          "output_type": "stream",
          "text": [
            "        <TR><TD colSpan=\"10\" class=texto><a name=\"DataExported\">Tipo cambio de compra y de venta del d&oacute;lar de los Estados Unidos de Am&eacute;rica</a></TD></TR>\n",
            "        <TR><TD colSpan=\"10\" class=texto>Referencia del Banco Central de Costa Rica</TD></TR>\n",
            "        <TR><TD colSpan=\"10\" class=texto>En colones costarricenses</TD></TR>\n"
          ]
        }
      ],
      "source": [
        "# Looks like read_html gets confused due to the table descriptors being spanned to 10 columns\n",
        "_# so it then forces the whole table to be 10 columns wide, with lots of nulls at the added columns 3 to 9\n",
        "!grep 'TD colSpan' datasets/bccr_historial_cambio_dolar.html"
      ]
    },
    {
      "cell_type": "code",
      "execution_count": 40,
      "metadata": {
        "colab": {
          "base_uri": "https://localhost:8080/",
          "height": 206
        },
        "id": "cKZTWrmY0kZV",
        "outputId": "06292fe7-9420-48cd-8157-1e9293f48831"
      },
      "outputs": [
        {
          "data": {
            "text/html": [
              "<div>\n",
              "<style scoped>\n",
              "    .dataframe tbody tr th:only-of-type {\n",
              "        vertical-align: middle;\n",
              "    }\n",
              "\n",
              "    .dataframe tbody tr th {\n",
              "        vertical-align: top;\n",
              "    }\n",
              "\n",
              "    .dataframe thead th {\n",
              "        text-align: right;\n",
              "    }\n",
              "</style>\n",
              "<table border=\"1\" class=\"dataframe\">\n",
              "  <thead>\n",
              "    <tr style=\"text-align: right;\">\n",
              "      <th></th>\n",
              "      <th>0</th>\n",
              "      <th>1</th>\n",
              "      <th>2</th>\n",
              "    </tr>\n",
              "  </thead>\n",
              "  <tbody>\n",
              "    <tr>\n",
              "      <th>4</th>\n",
              "      <td>NaN</td>\n",
              "      <td>TIPO CAMBIO COMPRA</td>\n",
              "      <td>TIPO DE CAMBIO VENTA</td>\n",
              "    </tr>\n",
              "    <tr>\n",
              "      <th>5</th>\n",
              "      <td>1 Ene 1983</td>\n",
              "      <td>4495000000</td>\n",
              "      <td>4545000000</td>\n",
              "    </tr>\n",
              "    <tr>\n",
              "      <th>6</th>\n",
              "      <td>2 Ene 1983</td>\n",
              "      <td>4495000000</td>\n",
              "      <td>4545000000</td>\n",
              "    </tr>\n",
              "    <tr>\n",
              "      <th>7</th>\n",
              "      <td>3 Ene 1983</td>\n",
              "      <td>4495000000</td>\n",
              "      <td>4545000000</td>\n",
              "    </tr>\n",
              "    <tr>\n",
              "      <th>8</th>\n",
              "      <td>4 Ene 1983</td>\n",
              "      <td>4495000000</td>\n",
              "      <td>4545000000</td>\n",
              "    </tr>\n",
              "  </tbody>\n",
              "</table>\n",
              "</div>"
            ],
            "text/plain": [
              "            0                   1                     2\n",
              "4         NaN  TIPO CAMBIO COMPRA  TIPO DE CAMBIO VENTA\n",
              "5  1 Ene 1983          4495000000            4545000000\n",
              "6  2 Ene 1983          4495000000            4545000000\n",
              "7  3 Ene 1983          4495000000            4545000000\n",
              "8  4 Ene 1983          4495000000            4545000000"
            ]
          },
          "execution_count": 40,
          "metadata": {},
          "output_type": "execute_result"
        }
      ],
      "source": [
        "# One potential solution is to slice the DF\n",
        "pd.read_html(f'{DATASETS_PATH}/{CURRENT_DATASET_BASEFILENAME}.html')[0].iloc[4: , :3].head()"
      ]
    },
    {
      "cell_type": "code",
      "execution_count": 41,
      "metadata": {
        "id": "17UCYT5EBPQx"
      },
      "outputs": [],
      "source": [
        "# But, I want to test the theorical error caused by colsSpan=10,\n",
        "#so let's change its value to just 1 and see what happens\n",
        "\n",
        "search_txt = 'TD colSpan=\"10\"'\n",
        "replace_txt = 'TD colSpan=\"1\"'\n",
        "with open(f'{DATASETS_PATH}/{CURRENT_DATASET_BASEFILENAME}.html', 'r') as file:\n",
        "    filedata = file.read()\n",
        "    filedata = filedata.replace(search_txt, replace_txt)\n",
        "with open(f'{DATASETS_PATH}/{CURRENT_DATASET_BASEFILENAME}.html', 'w') as file:\n",
        "    file.write(filedata)"
      ]
    },
    {
      "cell_type": "code",
      "execution_count": 42,
      "metadata": {
        "colab": {
          "base_uri": "https://localhost:8080/"
        },
        "id": "iIIkQS4u5gUS",
        "outputId": "6615bea2-451b-45a8-9ca9-1ee2467779ed"
      },
      "outputs": [
        {
          "name": "stdout",
          "output_type": "stream",
          "text": [
            "        <TR><TD colSpan=\"1\" class=texto><a name=\"DataExported\">Tipo cambio de compra y de venta del d&oacute;lar de los Estados Unidos de Am&eacute;rica</a></TD></TR>\n",
            "        <TR><TD colSpan=\"1\" class=texto>Referencia del Banco Central de Costa Rica</TD></TR>\n",
            "        <TR><TD colSpan=\"1\" class=texto>En colones costarricenses</TD></TR>\n"
          ]
        }
      ],
      "source": [
        "!grep 'TD colSpan' datasets/bccr_historial_cambio_dolar.html"
      ]
    },
    {
      "cell_type": "code",
      "execution_count": 43,
      "metadata": {
        "colab": {
          "base_uri": "https://localhost:8080/",
          "height": 269
        },
        "id": "01DVjdlDCkpY",
        "outputId": "996d4ef7-df01-411e-ae6b-4e9a8bb37ecb"
      },
      "outputs": [
        {
          "data": {
            "text/html": [
              "<div>\n",
              "<style scoped>\n",
              "    .dataframe tbody tr th:only-of-type {\n",
              "        vertical-align: middle;\n",
              "    }\n",
              "\n",
              "    .dataframe tbody tr th {\n",
              "        vertical-align: top;\n",
              "    }\n",
              "\n",
              "    .dataframe thead th {\n",
              "        text-align: right;\n",
              "    }\n",
              "</style>\n",
              "<table border=\"1\" class=\"dataframe\">\n",
              "  <thead>\n",
              "    <tr style=\"text-align: right;\">\n",
              "      <th></th>\n",
              "      <th>0</th>\n",
              "      <th>1</th>\n",
              "      <th>2</th>\n",
              "    </tr>\n",
              "  </thead>\n",
              "  <tbody>\n",
              "    <tr>\n",
              "      <th>0</th>\n",
              "      <td>Tipo cambio de compra y de venta del dólar de ...</td>\n",
              "      <td>NaN</td>\n",
              "      <td>NaN</td>\n",
              "    </tr>\n",
              "    <tr>\n",
              "      <th>1</th>\n",
              "      <td>Referencia del Banco Central de Costa Rica</td>\n",
              "      <td>NaN</td>\n",
              "      <td>NaN</td>\n",
              "    </tr>\n",
              "    <tr>\n",
              "      <th>2</th>\n",
              "      <td>En colones costarricenses</td>\n",
              "      <td>NaN</td>\n",
              "      <td>NaN</td>\n",
              "    </tr>\n",
              "    <tr>\n",
              "      <th>3</th>\n",
              "      <td>NaN</td>\n",
              "      <td>NaN</td>\n",
              "      <td>NaN</td>\n",
              "    </tr>\n",
              "    <tr>\n",
              "      <th>4</th>\n",
              "      <td>NaN</td>\n",
              "      <td>TIPO CAMBIO COMPRA</td>\n",
              "      <td>TIPO DE CAMBIO VENTA</td>\n",
              "    </tr>\n",
              "    <tr>\n",
              "      <th>5</th>\n",
              "      <td>1 Ene 1983</td>\n",
              "      <td>4495000000</td>\n",
              "      <td>4545000000</td>\n",
              "    </tr>\n",
              "    <tr>\n",
              "      <th>6</th>\n",
              "      <td>2 Ene 1983</td>\n",
              "      <td>4495000000</td>\n",
              "      <td>4545000000</td>\n",
              "    </tr>\n",
              "  </tbody>\n",
              "</table>\n",
              "</div>"
            ],
            "text/plain": [
              "                                                   0                   1  \\\n",
              "0  Tipo cambio de compra y de venta del dólar de ...                 NaN   \n",
              "1         Referencia del Banco Central de Costa Rica                 NaN   \n",
              "2                          En colones costarricenses                 NaN   \n",
              "3                                                NaN                 NaN   \n",
              "4                                                NaN  TIPO CAMBIO COMPRA   \n",
              "5                                         1 Ene 1983          4495000000   \n",
              "6                                         2 Ene 1983          4495000000   \n",
              "\n",
              "                      2  \n",
              "0                   NaN  \n",
              "1                   NaN  \n",
              "2                   NaN  \n",
              "3                   NaN  \n",
              "4  TIPO DE CAMBIO VENTA  \n",
              "5            4545000000  \n",
              "6            4545000000  "
            ]
          },
          "execution_count": 43,
          "metadata": {},
          "output_type": "execute_result"
        }
      ],
      "source": [
        "# And it does work\n",
        "pd.read_html(f'{DATASETS_PATH}/{CURRENT_DATASET_BASEFILENAME}.html')[0].iloc[:, :].head(7)"
      ]
    },
    {
      "cell_type": "code",
      "execution_count": 44,
      "metadata": {
        "colab": {
          "base_uri": "https://localhost:8080/",
          "height": 175
        },
        "id": "NOTg5iZbGdaC",
        "outputId": "41bc9e89-81d5-4605-854b-9bf660fe60fc"
      },
      "outputs": [
        {
          "data": {
            "text/html": [
              "<div>\n",
              "<style scoped>\n",
              "    .dataframe tbody tr th:only-of-type {\n",
              "        vertical-align: middle;\n",
              "    }\n",
              "\n",
              "    .dataframe tbody tr th {\n",
              "        vertical-align: top;\n",
              "    }\n",
              "\n",
              "    .dataframe thead th {\n",
              "        text-align: right;\n",
              "    }\n",
              "</style>\n",
              "<table border=\"1\" class=\"dataframe\">\n",
              "  <thead>\n",
              "    <tr style=\"text-align: right;\">\n",
              "      <th></th>\n",
              "      <th>dollar_buy</th>\n",
              "      <th>dollar_sale</th>\n",
              "    </tr>\n",
              "    <tr>\n",
              "      <th>date</th>\n",
              "      <th></th>\n",
              "      <th></th>\n",
              "    </tr>\n",
              "  </thead>\n",
              "  <tbody>\n",
              "    <tr>\n",
              "      <th>1 Ene 1983</th>\n",
              "      <td>44.95</td>\n",
              "      <td>45.45</td>\n",
              "    </tr>\n",
              "    <tr>\n",
              "      <th>2 Ene 1983</th>\n",
              "      <td>44.95</td>\n",
              "      <td>45.45</td>\n",
              "    </tr>\n",
              "    <tr>\n",
              "      <th>3 Ene 1983</th>\n",
              "      <td>44.95</td>\n",
              "      <td>45.45</td>\n",
              "    </tr>\n",
              "  </tbody>\n",
              "</table>\n",
              "</div>"
            ],
            "text/plain": [
              "            dollar_buy  dollar_sale\n",
              "date                               \n",
              "1 Ene 1983       44.95        45.45\n",
              "2 Ene 1983       44.95        45.45\n",
              "3 Ene 1983       44.95        45.45"
            ]
          },
          "execution_count": 44,
          "metadata": {},
          "output_type": "execute_result"
        }
      ],
      "source": [
        "# Now lets import the df properly, by:\n",
        "# -skiping the first 4 lines\n",
        "# -setting the header as the resulting line with index 0\n",
        "# -setting the index as the first column\n",
        "# -recognizing the original decimal char as the comma, so dataframe is shown as usual with it as a dot (thousands must also be declared as dot for this to work properly)\n",
        "# -set floating numbers with 2 decimals\n",
        "# -name the columns properly\n",
        "cols=['dollar_buy','dollar_sale']\n",
        "pd.options.display.float_format = \"{:,.2f}\".format\n",
        "\n",
        "df = pd.read_html(f'{DATASETS_PATH}/{CURRENT_DATASET_BASEFILENAME}.html',\n",
        "                  skiprows=4,\n",
        "                  header=0,\n",
        "                  index_col=0,\n",
        "                  decimal=','  , thousands='.'\n",
        "                  )[0]\n",
        "\n",
        "df.columns = cols\n",
        "df.index.name = 'date'\n",
        "\n",
        "df.head(3)#,df.tail(3)"
      ]
    },
    {
      "cell_type": "code",
      "execution_count": 45,
      "metadata": {
        "id": "pwphJXB2ZYaK"
      },
      "outputs": [],
      "source": [
        "# The date month names are in Spanish, these are not understandable by Pandas when converting to a date object"
      ]
    },
    {
      "cell_type": "code",
      "execution_count": 46,
      "metadata": {
        "colab": {
          "base_uri": "https://localhost:8080/"
        },
        "id": "ijvLnm3jYZdR",
        "outputId": "2a4889d5-3f97-4c17-e1bd-f7b664c6cefe"
      },
      "outputs": [
        {
          "data": {
            "text/plain": [
              "Index(['Ene', 'Feb', 'Mar', 'Abr', 'May', 'Jun', 'Jul', 'Ago', 'Set', 'Oct',\n",
              "       'Nov', 'Dic'],\n",
              "      dtype='object', name='date')"
            ]
          },
          "execution_count": 46,
          "metadata": {},
          "output_type": "execute_result"
        }
      ],
      "source": [
        "df.index.str.split(' ').str[1].unique()"
      ]
    },
    {
      "cell_type": "code",
      "execution_count": 47,
      "metadata": {
        "id": "xhk-rjdWZ8Sg"
      },
      "outputs": [],
      "source": [
        "# Dictionary of spanish months translated to english, commenting the ones that have no change\n",
        "months_spa_to_eng = {\n",
        "    'Ene': 'Jan',\n",
        "    # 'Feb': 'Feb',\n",
        "    # 'Mar': 'Mar',\n",
        "    'Abr': 'Apr',\n",
        "    # 'May': 'May',\n",
        "    'Jun': 'Jun',\n",
        "    # 'Jul': 'Jul',\n",
        "    'Ago': 'Aug',\n",
        "    'Set': 'Sep',\n",
        "    # 'Oct': 'Oct',\n",
        "    # 'Nov': 'Nov',\n",
        "    'Dic': 'Dec'\n",
        "}\n",
        "for spa, eng in months_spa_to_eng.items():\n",
        "    df.index = df.index.str.replace(spa, eng)\n"
      ]
    },
    {
      "cell_type": "code",
      "execution_count": 48,
      "metadata": {
        "colab": {
          "base_uri": "https://localhost:8080/"
        },
        "id": "8skFAKImeCLt",
        "outputId": "fdd96b50-615c-4b4d-c7b7-1dfaba82e97e"
      },
      "outputs": [
        {
          "data": {
            "text/plain": [
              "Index(['Jan', 'Feb', 'Mar', 'Apr', 'May', 'Jun', 'Jul', 'Aug', 'Sep', 'Oct',\n",
              "       'Nov', 'Dec'],\n",
              "      dtype='object', name='date')"
            ]
          },
          "execution_count": 48,
          "metadata": {},
          "output_type": "execute_result"
        }
      ],
      "source": [
        "# And now the date index contains english month names\n",
        "df.index.str.split(' ').str[1].unique()"
      ]
    },
    {
      "cell_type": "code",
      "execution_count": 49,
      "metadata": {
        "colab": {
          "base_uri": "https://localhost:8080/",
          "height": 175
        },
        "id": "KC3hVZhLeULn",
        "outputId": "f52adeb7-b5f6-4212-9125-b950065b669a"
      },
      "outputs": [
        {
          "data": {
            "text/html": [
              "<div>\n",
              "<style scoped>\n",
              "    .dataframe tbody tr th:only-of-type {\n",
              "        vertical-align: middle;\n",
              "    }\n",
              "\n",
              "    .dataframe tbody tr th {\n",
              "        vertical-align: top;\n",
              "    }\n",
              "\n",
              "    .dataframe thead th {\n",
              "        text-align: right;\n",
              "    }\n",
              "</style>\n",
              "<table border=\"1\" class=\"dataframe\">\n",
              "  <thead>\n",
              "    <tr style=\"text-align: right;\">\n",
              "      <th></th>\n",
              "      <th>dollar_buy</th>\n",
              "      <th>dollar_sale</th>\n",
              "    </tr>\n",
              "    <tr>\n",
              "      <th>date</th>\n",
              "      <th></th>\n",
              "      <th></th>\n",
              "    </tr>\n",
              "  </thead>\n",
              "  <tbody>\n",
              "    <tr>\n",
              "      <th>21 Jul 2024</th>\n",
              "      <td>525.53</td>\n",
              "      <td>531.35</td>\n",
              "    </tr>\n",
              "    <tr>\n",
              "      <th>22 Jul 2024</th>\n",
              "      <td>525.53</td>\n",
              "      <td>531.35</td>\n",
              "    </tr>\n",
              "    <tr>\n",
              "      <th>23 Jul 2024</th>\n",
              "      <td>525.60</td>\n",
              "      <td>531.05</td>\n",
              "    </tr>\n",
              "  </tbody>\n",
              "</table>\n",
              "</div>"
            ],
            "text/plain": [
              "             dollar_buy  dollar_sale\n",
              "date                                \n",
              "21 Jul 2024      525.53       531.35\n",
              "22 Jul 2024      525.53       531.35\n",
              "23 Jul 2024      525.60       531.05"
            ]
          },
          "execution_count": 49,
          "metadata": {},
          "output_type": "execute_result"
        }
      ],
      "source": [
        "df.tail(3)"
      ]
    },
    {
      "cell_type": "markdown",
      "metadata": {
        "id": "GlezkW5dMW0U"
      },
      "source": [
        "### <font color=\"red\">FAILURE EXPECTED HERE</font>\n"
      ]
    },
    {
      "cell_type": "code",
      "execution_count": 50,
      "metadata": {
        "colab": {
          "base_uri": "https://localhost:8080/",
          "height": 318
        },
        "id": "gfOxTO3if1kC",
        "outputId": "b8eda94b-dedd-4755-d45d-e28300ded3b4"
      },
      "outputs": [
        {
          "ename": "DateParseError",
          "evalue": "day is out of range for month: 29 Feb 1983, at position 59",
          "output_type": "error",
          "traceback": [
            "\u001b[0;31m---------------------------------------------------------------------------\u001b[0m",
            "\u001b[0;31mValueError\u001b[0m                                Traceback (most recent call last)",
            "File \u001b[0;32mparsing.pyx:684\u001b[0m, in \u001b[0;36mpandas._libs.tslibs.parsing.dateutil_parse\u001b[0;34m()\u001b[0m\n",
            "\u001b[0;31mValueError\u001b[0m: day is out of range for month",
            "\nThe above exception was the direct cause of the following exception:\n",
            "\u001b[0;31mDateParseError\u001b[0m                            Traceback (most recent call last)",
            "Cell \u001b[0;32mIn[50], line 8\u001b[0m\n\u001b[1;32m      1\u001b[0m \u001b[38;5;66;03m##### FAILURE EXPECTED HERE.  READ BELOW AND CONTINUE TO NEXT EXECUTION\u001b[39;00m\n\u001b[1;32m      2\u001b[0m \n\u001b[1;32m      3\u001b[0m \u001b[38;5;66;03m# When trying to convert the index to date format, there is failure because the dataframe contains\u001b[39;00m\n\u001b[0;32m   (...)\u001b[0m\n\u001b[1;32m      6\u001b[0m \u001b[38;5;66;03m# df.index = pd.to_datetime(df.index, format='%d %b %Y')\u001b[39;00m\n\u001b[1;32m      7\u001b[0m \u001b[38;5;66;03m# df.index = pd.to_datetime(df.index)\u001b[39;00m\n\u001b[0;32m----> 8\u001b[0m df\u001b[38;5;241m.\u001b[39mindex \u001b[38;5;241m=\u001b[39m \u001b[43mpd\u001b[49m\u001b[38;5;241;43m.\u001b[39;49m\u001b[43mto_datetime\u001b[49m\u001b[43m(\u001b[49m\u001b[43mdf\u001b[49m\u001b[38;5;241;43m.\u001b[39;49m\u001b[43mindex\u001b[49m\u001b[43m,\u001b[49m\u001b[43m \u001b[49m\u001b[38;5;28;43mformat\u001b[39;49m\u001b[38;5;241;43m=\u001b[39;49m\u001b[38;5;124;43m'\u001b[39;49m\u001b[38;5;124;43mmixed\u001b[39;49m\u001b[38;5;124;43m'\u001b[39;49m\u001b[43m,\u001b[49m\u001b[43m \u001b[49m\u001b[43mdayfirst\u001b[49m\u001b[38;5;241;43m=\u001b[39;49m\u001b[38;5;28;43;01mTrue\u001b[39;49;00m\u001b[43m)\u001b[49m\n\u001b[1;32m      9\u001b[0m df\u001b[38;5;241m.\u001b[39mhead(\u001b[38;5;241m3\u001b[39m)\n\u001b[1;32m     11\u001b[0m \u001b[38;5;66;03m##### FAILURE EXPECTED HERE.  READ ABOVE AND CONTINUE TO NEXT EXECUTION\u001b[39;00m\n",
            "File \u001b[0;32m~/Documents/Proyectos/CienciaDeDatos/CRC-tipo-de-cambio/venv/lib/python3.9/site-packages/pandas/core/tools/datetimes.py:1076\u001b[0m, in \u001b[0;36mto_datetime\u001b[0;34m(arg, errors, dayfirst, yearfirst, utc, format, exact, unit, infer_datetime_format, origin, cache)\u001b[0m\n\u001b[1;32m   1074\u001b[0m         result \u001b[38;5;241m=\u001b[39m _convert_and_box_cache(arg, cache_array, name\u001b[38;5;241m=\u001b[39marg\u001b[38;5;241m.\u001b[39mname)\n\u001b[1;32m   1075\u001b[0m     \u001b[38;5;28;01melse\u001b[39;00m:\n\u001b[0;32m-> 1076\u001b[0m         result \u001b[38;5;241m=\u001b[39m \u001b[43mconvert_listlike\u001b[49m\u001b[43m(\u001b[49m\u001b[43marg\u001b[49m\u001b[43m,\u001b[49m\u001b[43m \u001b[49m\u001b[38;5;28;43mformat\u001b[39;49m\u001b[43m,\u001b[49m\u001b[43m \u001b[49m\u001b[43mname\u001b[49m\u001b[38;5;241;43m=\u001b[39;49m\u001b[43marg\u001b[49m\u001b[38;5;241;43m.\u001b[39;49m\u001b[43mname\u001b[49m\u001b[43m)\u001b[49m\n\u001b[1;32m   1077\u001b[0m \u001b[38;5;28;01melif\u001b[39;00m is_list_like(arg):\n\u001b[1;32m   1078\u001b[0m     \u001b[38;5;28;01mtry\u001b[39;00m:\n\u001b[1;32m   1079\u001b[0m         \u001b[38;5;66;03m# error: Argument 1 to \"_maybe_cache\" has incompatible type\u001b[39;00m\n\u001b[1;32m   1080\u001b[0m         \u001b[38;5;66;03m# \"Union[float, str, datetime, List[Any], Tuple[Any, ...], ExtensionArray,\u001b[39;00m\n\u001b[1;32m   1081\u001b[0m         \u001b[38;5;66;03m# ndarray[Any, Any], Series]\"; expected \"Union[List[Any], Tuple[Any, ...],\u001b[39;00m\n\u001b[1;32m   1082\u001b[0m         \u001b[38;5;66;03m# Union[Union[ExtensionArray, ndarray[Any, Any]], Index, Series], Series]\"\u001b[39;00m\n",
            "File \u001b[0;32m~/Documents/Proyectos/CienciaDeDatos/CRC-tipo-de-cambio/venv/lib/python3.9/site-packages/pandas/core/tools/datetimes.py:435\u001b[0m, in \u001b[0;36m_convert_listlike_datetimes\u001b[0;34m(arg, format, name, utc, unit, errors, dayfirst, yearfirst, exact)\u001b[0m\n\u001b[1;32m    432\u001b[0m \u001b[38;5;28;01mif\u001b[39;00m \u001b[38;5;28mformat\u001b[39m \u001b[38;5;129;01mis\u001b[39;00m \u001b[38;5;129;01mnot\u001b[39;00m \u001b[38;5;28;01mNone\u001b[39;00m \u001b[38;5;129;01mand\u001b[39;00m \u001b[38;5;28mformat\u001b[39m \u001b[38;5;241m!=\u001b[39m \u001b[38;5;124m\"\u001b[39m\u001b[38;5;124mmixed\u001b[39m\u001b[38;5;124m\"\u001b[39m:\n\u001b[1;32m    433\u001b[0m     \u001b[38;5;28;01mreturn\u001b[39;00m _array_strptime_with_fallback(arg, name, utc, \u001b[38;5;28mformat\u001b[39m, exact, errors)\n\u001b[0;32m--> 435\u001b[0m result, tz_parsed \u001b[38;5;241m=\u001b[39m \u001b[43mobjects_to_datetime64\u001b[49m\u001b[43m(\u001b[49m\n\u001b[1;32m    436\u001b[0m \u001b[43m    \u001b[49m\u001b[43marg\u001b[49m\u001b[43m,\u001b[49m\n\u001b[1;32m    437\u001b[0m \u001b[43m    \u001b[49m\u001b[43mdayfirst\u001b[49m\u001b[38;5;241;43m=\u001b[39;49m\u001b[43mdayfirst\u001b[49m\u001b[43m,\u001b[49m\n\u001b[1;32m    438\u001b[0m \u001b[43m    \u001b[49m\u001b[43myearfirst\u001b[49m\u001b[38;5;241;43m=\u001b[39;49m\u001b[43myearfirst\u001b[49m\u001b[43m,\u001b[49m\n\u001b[1;32m    439\u001b[0m \u001b[43m    \u001b[49m\u001b[43mutc\u001b[49m\u001b[38;5;241;43m=\u001b[39;49m\u001b[43mutc\u001b[49m\u001b[43m,\u001b[49m\n\u001b[1;32m    440\u001b[0m \u001b[43m    \u001b[49m\u001b[43merrors\u001b[49m\u001b[38;5;241;43m=\u001b[39;49m\u001b[43merrors\u001b[49m\u001b[43m,\u001b[49m\n\u001b[1;32m    441\u001b[0m \u001b[43m    \u001b[49m\u001b[43mallow_object\u001b[49m\u001b[38;5;241;43m=\u001b[39;49m\u001b[38;5;28;43;01mTrue\u001b[39;49;00m\u001b[43m,\u001b[49m\n\u001b[1;32m    442\u001b[0m \u001b[43m\u001b[49m\u001b[43m)\u001b[49m\n\u001b[1;32m    444\u001b[0m \u001b[38;5;28;01mif\u001b[39;00m tz_parsed \u001b[38;5;129;01mis\u001b[39;00m \u001b[38;5;129;01mnot\u001b[39;00m \u001b[38;5;28;01mNone\u001b[39;00m:\n\u001b[1;32m    445\u001b[0m     \u001b[38;5;66;03m# We can take a shortcut since the datetime64 numpy array\u001b[39;00m\n\u001b[1;32m    446\u001b[0m     \u001b[38;5;66;03m# is in UTC\u001b[39;00m\n\u001b[1;32m    447\u001b[0m     out_unit \u001b[38;5;241m=\u001b[39m np\u001b[38;5;241m.\u001b[39mdatetime_data(result\u001b[38;5;241m.\u001b[39mdtype)[\u001b[38;5;241m0\u001b[39m]\n",
            "File \u001b[0;32m~/Documents/Proyectos/CienciaDeDatos/CRC-tipo-de-cambio/venv/lib/python3.9/site-packages/pandas/core/arrays/datetimes.py:2398\u001b[0m, in \u001b[0;36mobjects_to_datetime64\u001b[0;34m(data, dayfirst, yearfirst, utc, errors, allow_object, out_unit)\u001b[0m\n\u001b[1;32m   2395\u001b[0m \u001b[38;5;66;03m# if str-dtype, convert\u001b[39;00m\n\u001b[1;32m   2396\u001b[0m data \u001b[38;5;241m=\u001b[39m np\u001b[38;5;241m.\u001b[39masarray(data, dtype\u001b[38;5;241m=\u001b[39mnp\u001b[38;5;241m.\u001b[39mobject_)\n\u001b[0;32m-> 2398\u001b[0m result, tz_parsed \u001b[38;5;241m=\u001b[39m \u001b[43mtslib\u001b[49m\u001b[38;5;241;43m.\u001b[39;49m\u001b[43marray_to_datetime\u001b[49m\u001b[43m(\u001b[49m\n\u001b[1;32m   2399\u001b[0m \u001b[43m    \u001b[49m\u001b[43mdata\u001b[49m\u001b[43m,\u001b[49m\n\u001b[1;32m   2400\u001b[0m \u001b[43m    \u001b[49m\u001b[43merrors\u001b[49m\u001b[38;5;241;43m=\u001b[39;49m\u001b[43merrors\u001b[49m\u001b[43m,\u001b[49m\n\u001b[1;32m   2401\u001b[0m \u001b[43m    \u001b[49m\u001b[43mutc\u001b[49m\u001b[38;5;241;43m=\u001b[39;49m\u001b[43mutc\u001b[49m\u001b[43m,\u001b[49m\n\u001b[1;32m   2402\u001b[0m \u001b[43m    \u001b[49m\u001b[43mdayfirst\u001b[49m\u001b[38;5;241;43m=\u001b[39;49m\u001b[43mdayfirst\u001b[49m\u001b[43m,\u001b[49m\n\u001b[1;32m   2403\u001b[0m \u001b[43m    \u001b[49m\u001b[43myearfirst\u001b[49m\u001b[38;5;241;43m=\u001b[39;49m\u001b[43myearfirst\u001b[49m\u001b[43m,\u001b[49m\n\u001b[1;32m   2404\u001b[0m \u001b[43m    \u001b[49m\u001b[43mcreso\u001b[49m\u001b[38;5;241;43m=\u001b[39;49m\u001b[43mabbrev_to_npy_unit\u001b[49m\u001b[43m(\u001b[49m\u001b[43mout_unit\u001b[49m\u001b[43m)\u001b[49m\u001b[43m,\u001b[49m\n\u001b[1;32m   2405\u001b[0m \u001b[43m\u001b[49m\u001b[43m)\u001b[49m\n\u001b[1;32m   2407\u001b[0m \u001b[38;5;28;01mif\u001b[39;00m tz_parsed \u001b[38;5;129;01mis\u001b[39;00m \u001b[38;5;129;01mnot\u001b[39;00m \u001b[38;5;28;01mNone\u001b[39;00m:\n\u001b[1;32m   2408\u001b[0m     \u001b[38;5;66;03m# We can take a shortcut since the datetime64 numpy array\u001b[39;00m\n\u001b[1;32m   2409\u001b[0m     \u001b[38;5;66;03m#  is in UTC\u001b[39;00m\n\u001b[1;32m   2410\u001b[0m     \u001b[38;5;28;01mreturn\u001b[39;00m result, tz_parsed\n",
            "File \u001b[0;32mtslib.pyx:414\u001b[0m, in \u001b[0;36mpandas._libs.tslib.array_to_datetime\u001b[0;34m()\u001b[0m\n",
            "File \u001b[0;32mtslib.pyx:596\u001b[0m, in \u001b[0;36mpandas._libs.tslib.array_to_datetime\u001b[0;34m()\u001b[0m\n",
            "File \u001b[0;32mtslib.pyx:553\u001b[0m, in \u001b[0;36mpandas._libs.tslib.array_to_datetime\u001b[0;34m()\u001b[0m\n",
            "File \u001b[0;32mconversion.pyx:641\u001b[0m, in \u001b[0;36mpandas._libs.tslibs.conversion.convert_str_to_tsobject\u001b[0;34m()\u001b[0m\n",
            "File \u001b[0;32mparsing.pyx:336\u001b[0m, in \u001b[0;36mpandas._libs.tslibs.parsing.parse_datetime_string\u001b[0;34m()\u001b[0m\n",
            "File \u001b[0;32mparsing.pyx:688\u001b[0m, in \u001b[0;36mpandas._libs.tslibs.parsing.dateutil_parse\u001b[0;34m()\u001b[0m\n",
            "\u001b[0;31mDateParseError\u001b[0m: day is out of range for month: 29 Feb 1983, at position 59"
          ]
        }
      ],
      "source": [
        "##### FAILURE EXPECTED HERE.  READ BELOW AND CONTINUE TO NEXT EXECUTION\n",
        "\n",
        "# When trying to convert the index to date format, there is failure because the dataframe contains\n",
        "# Feb 29th entries for years that were not a leap year, causing error \"day is out of range for month\"\n",
        "\n",
        "# df.index = pd.to_datetime(df.index, format='%d %b %Y')\n",
        "# df.index = pd.to_datetime(df.index)\n",
        "df.index = pd.to_datetime(df.index, format='mixed', dayfirst=True)\n",
        "df.head(3)\n",
        "\n",
        "##### FAILURE EXPECTED HERE.  READ ABOVE AND CONTINUE TO NEXT EXECUTION"
      ]
    },
    {
      "cell_type": "code",
      "execution_count": 51,
      "metadata": {
        "colab": {
          "base_uri": "https://localhost:8080/",
          "height": 426
        },
        "id": "0WhKeYTll5nm",
        "outputId": "37507e3d-d36f-4a88-8203-9afe657b9916"
      },
      "outputs": [
        {
          "data": {
            "text/html": [
              "<div>\n",
              "<style scoped>\n",
              "    .dataframe tbody tr th:only-of-type {\n",
              "        vertical-align: middle;\n",
              "    }\n",
              "\n",
              "    .dataframe tbody tr th {\n",
              "        vertical-align: top;\n",
              "    }\n",
              "\n",
              "    .dataframe thead th {\n",
              "        text-align: right;\n",
              "    }\n",
              "</style>\n",
              "<table border=\"1\" class=\"dataframe\">\n",
              "  <thead>\n",
              "    <tr style=\"text-align: right;\">\n",
              "      <th></th>\n",
              "      <th>dollar_buy</th>\n",
              "      <th>dollar_sale</th>\n",
              "    </tr>\n",
              "    <tr>\n",
              "      <th>date</th>\n",
              "      <th></th>\n",
              "      <th></th>\n",
              "    </tr>\n",
              "  </thead>\n",
              "  <tbody>\n",
              "    <tr>\n",
              "      <th>29 Feb 1984</th>\n",
              "      <td>43.15</td>\n",
              "      <td>43.65</td>\n",
              "    </tr>\n",
              "    <tr>\n",
              "      <th>29 Feb 1988</th>\n",
              "      <td>73.20</td>\n",
              "      <td>74.20</td>\n",
              "    </tr>\n",
              "    <tr>\n",
              "      <th>29 Feb 1992</th>\n",
              "      <td>136.00</td>\n",
              "      <td>138.50</td>\n",
              "    </tr>\n",
              "    <tr>\n",
              "      <th>29 Feb 1996</th>\n",
              "      <td>199.07</td>\n",
              "      <td>199.86</td>\n",
              "    </tr>\n",
              "    <tr>\n",
              "      <th>29 Feb 2000</th>\n",
              "      <td>301.18</td>\n",
              "      <td>301.67</td>\n",
              "    </tr>\n",
              "    <tr>\n",
              "      <th>29 Feb 2004</th>\n",
              "      <td>423.94</td>\n",
              "      <td>425.21</td>\n",
              "    </tr>\n",
              "    <tr>\n",
              "      <th>29 Feb 2008</th>\n",
              "      <td>493.21</td>\n",
              "      <td>499.00</td>\n",
              "    </tr>\n",
              "    <tr>\n",
              "      <th>29 Feb 2012</th>\n",
              "      <td>505.66</td>\n",
              "      <td>516.94</td>\n",
              "    </tr>\n",
              "    <tr>\n",
              "      <th>29 Feb 2016</th>\n",
              "      <td>529.67</td>\n",
              "      <td>542.20</td>\n",
              "    </tr>\n",
              "    <tr>\n",
              "      <th>29 Feb 2020</th>\n",
              "      <td>565.87</td>\n",
              "      <td>572.33</td>\n",
              "    </tr>\n",
              "    <tr>\n",
              "      <th>29 Feb 2024</th>\n",
              "      <td>509.87</td>\n",
              "      <td>516.34</td>\n",
              "    </tr>\n",
              "  </tbody>\n",
              "</table>\n",
              "</div>"
            ],
            "text/plain": [
              "             dollar_buy  dollar_sale\n",
              "date                                \n",
              "29 Feb 1984       43.15        43.65\n",
              "29 Feb 1988       73.20        74.20\n",
              "29 Feb 1992      136.00       138.50\n",
              "29 Feb 1996      199.07       199.86\n",
              "29 Feb 2000      301.18       301.67\n",
              "29 Feb 2004      423.94       425.21\n",
              "29 Feb 2008      493.21       499.00\n",
              "29 Feb 2012      505.66       516.94\n",
              "29 Feb 2016      529.67       542.20\n",
              "29 Feb 2020      565.87       572.33\n",
              "29 Feb 2024      509.87       516.34"
            ]
          },
          "execution_count": 51,
          "metadata": {},
          "output_type": "execute_result"
        }
      ],
      "source": [
        "# This are the valid leap years with data\n",
        "df[df.index.str.contains('29 Feb') & ~(df['dollar_buy'].isna())]"
      ]
    },
    {
      "cell_type": "code",
      "execution_count": 52,
      "metadata": {
        "colab": {
          "base_uri": "https://localhost:8080/",
          "height": 175
        },
        "id": "ie8cDuo9pWYl",
        "outputId": "c57cfdf1-4ba4-43bd-af8a-bf011e6df65b"
      },
      "outputs": [
        {
          "data": {
            "text/html": [
              "<div>\n",
              "<style scoped>\n",
              "    .dataframe tbody tr th:only-of-type {\n",
              "        vertical-align: middle;\n",
              "    }\n",
              "\n",
              "    .dataframe tbody tr th {\n",
              "        vertical-align: top;\n",
              "    }\n",
              "\n",
              "    .dataframe thead th {\n",
              "        text-align: right;\n",
              "    }\n",
              "</style>\n",
              "<table border=\"1\" class=\"dataframe\">\n",
              "  <thead>\n",
              "    <tr style=\"text-align: right;\">\n",
              "      <th></th>\n",
              "      <th>dollar_buy</th>\n",
              "      <th>dollar_sale</th>\n",
              "    </tr>\n",
              "    <tr>\n",
              "      <th>date</th>\n",
              "      <th></th>\n",
              "      <th></th>\n",
              "    </tr>\n",
              "  </thead>\n",
              "  <tbody>\n",
              "    <tr>\n",
              "      <th>29 Feb 1983</th>\n",
              "      <td>NaN</td>\n",
              "      <td>NaN</td>\n",
              "    </tr>\n",
              "    <tr>\n",
              "      <th>29 Feb 1985</th>\n",
              "      <td>NaN</td>\n",
              "      <td>NaN</td>\n",
              "    </tr>\n",
              "    <tr>\n",
              "      <th>29 Feb 1986</th>\n",
              "      <td>NaN</td>\n",
              "      <td>NaN</td>\n",
              "    </tr>\n",
              "  </tbody>\n",
              "</table>\n",
              "</div>"
            ],
            "text/plain": [
              "             dollar_buy  dollar_sale\n",
              "date                                \n",
              "29 Feb 1983         NaN          NaN\n",
              "29 Feb 1985         NaN          NaN\n",
              "29 Feb 1986         NaN          NaN"
            ]
          },
          "execution_count": 52,
          "metadata": {},
          "output_type": "execute_result"
        }
      ],
      "source": [
        "# The data provided by the bank actually contains Feb 29th for every single year, even for\n",
        "# years that were not a leap year\n",
        "\n",
        "# Sample of those leap year days that do not exist in real calendar\n",
        "df[df.index.str.contains('29 Feb') & (df['dollar_buy'].isna())].head(3)"
      ]
    },
    {
      "cell_type": "code",
      "execution_count": 53,
      "metadata": {
        "colab": {
          "base_uri": "https://localhost:8080/"
        },
        "id": "vIXvIaY7pcdn",
        "outputId": "aa60c6ae-3e84-48d7-f172-c9ab6b13c221"
      },
      "outputs": [
        {
          "data": {
            "text/plain": [
              "31"
            ]
          },
          "execution_count": 53,
          "metadata": {},
          "output_type": "execute_result"
        }
      ],
      "source": [
        "# This is the quantity of those days that do not exist in real calendar\n",
        "len(df[df.index.str.contains('29 Feb') & (df['dollar_buy'].isna())])"
      ]
    },
    {
      "cell_type": "code",
      "execution_count": 54,
      "metadata": {
        "colab": {
          "base_uri": "https://localhost:8080/"
        },
        "id": "z13v_YvhIBeZ",
        "outputId": "b03bfb4f-deed-4c4c-e736-8d606fb911b4"
      },
      "outputs": [
        {
          "name": "stdout",
          "output_type": "stream",
          "text": [
            "<class 'pandas.core.frame.DataFrame'>\n",
            "Index: 15211 entries, 1 Jan 1983 to 23 Jul 2024\n",
            "Data columns (total 2 columns):\n",
            " #   Column       Non-Null Count  Dtype  \n",
            "---  ------       --------------  -----  \n",
            " 0   dollar_buy   15180 non-null  float64\n",
            " 1   dollar_sale  15180 non-null  float64\n",
            "dtypes: float64(2)\n",
            "memory usage: 872.5+ KB\n"
          ]
        }
      ],
      "source": [
        "# Those 31 records are exactly the 31 records seen as being null\n",
        "# 15207-15176 = 31\n",
        "\n",
        "df.info()"
      ]
    },
    {
      "cell_type": "code",
      "execution_count": 55,
      "metadata": {
        "colab": {
          "base_uri": "https://localhost:8080/"
        },
        "id": "DVEus0YjphxC",
        "outputId": "905b5e5e-e67a-4eb4-85b1-60f362cf4c5a"
      },
      "outputs": [
        {
          "name": "stdout",
          "output_type": "stream",
          "text": [
            "<class 'pandas.core.frame.DataFrame'>\n",
            "Index: 15180 entries, 1 Jan 1983 to 23 Jul 2024\n",
            "Data columns (total 2 columns):\n",
            " #   Column       Non-Null Count  Dtype  \n",
            "---  ------       --------------  -----  \n",
            " 0   dollar_buy   15180 non-null  float64\n",
            " 1   dollar_sale  15180 non-null  float64\n",
            "dtypes: float64(2)\n",
            "memory usage: 355.8+ KB\n"
          ]
        }
      ],
      "source": [
        "# So, we are droping all those records with null values\n",
        "df.dropna(inplace=True)\n",
        "df.info()"
      ]
    },
    {
      "cell_type": "code",
      "execution_count": 56,
      "metadata": {
        "colab": {
          "base_uri": "https://localhost:8080/",
          "height": 175
        },
        "id": "h9FLoJ3Iqx0_",
        "outputId": "bf262c4e-fd96-44a9-e5fd-2956e89f3e5d"
      },
      "outputs": [
        {
          "data": {
            "text/html": [
              "<div>\n",
              "<style scoped>\n",
              "    .dataframe tbody tr th:only-of-type {\n",
              "        vertical-align: middle;\n",
              "    }\n",
              "\n",
              "    .dataframe tbody tr th {\n",
              "        vertical-align: top;\n",
              "    }\n",
              "\n",
              "    .dataframe thead th {\n",
              "        text-align: right;\n",
              "    }\n",
              "</style>\n",
              "<table border=\"1\" class=\"dataframe\">\n",
              "  <thead>\n",
              "    <tr style=\"text-align: right;\">\n",
              "      <th></th>\n",
              "      <th>dollar_buy</th>\n",
              "      <th>dollar_sale</th>\n",
              "    </tr>\n",
              "    <tr>\n",
              "      <th>date</th>\n",
              "      <th></th>\n",
              "      <th></th>\n",
              "    </tr>\n",
              "  </thead>\n",
              "  <tbody>\n",
              "    <tr>\n",
              "      <th>2024-07-21</th>\n",
              "      <td>525.53</td>\n",
              "      <td>531.35</td>\n",
              "    </tr>\n",
              "    <tr>\n",
              "      <th>2024-07-22</th>\n",
              "      <td>525.53</td>\n",
              "      <td>531.35</td>\n",
              "    </tr>\n",
              "    <tr>\n",
              "      <th>2024-07-23</th>\n",
              "      <td>525.60</td>\n",
              "      <td>531.05</td>\n",
              "    </tr>\n",
              "  </tbody>\n",
              "</table>\n",
              "</div>"
            ],
            "text/plain": [
              "            dollar_buy  dollar_sale\n",
              "date                               \n",
              "2024-07-21      525.53       531.35\n",
              "2024-07-22      525.53       531.35\n",
              "2024-07-23      525.60       531.05"
            ]
          },
          "execution_count": 56,
          "metadata": {},
          "output_type": "execute_result"
        }
      ],
      "source": [
        "# Now the index can be converted to datetime format\n",
        "df.index = pd.to_datetime(df.index, format='mixed', dayfirst=True)\n",
        "df.tail(3)"
      ]
    },
    {
      "cell_type": "code",
      "execution_count": 57,
      "metadata": {
        "colab": {
          "base_uri": "https://localhost:8080/"
        },
        "id": "5biOugUDrAZ4",
        "outputId": "3133ec72-d727-4fc6-96f4-10b52ed61979"
      },
      "outputs": [
        {
          "data": {
            "text/plain": [
              "DatetimeIndex(['1983-01-01', '1983-01-02', '1983-01-03', '1983-01-04',\n",
              "               '1983-01-05', '1983-01-06', '1983-01-07', '1983-01-08',\n",
              "               '1983-01-09', '1983-01-10',\n",
              "               ...\n",
              "               '2024-07-14', '2024-07-15', '2024-07-16', '2024-07-17',\n",
              "               '2024-07-18', '2024-07-19', '2024-07-20', '2024-07-21',\n",
              "               '2024-07-22', '2024-07-23'],\n",
              "              dtype='datetime64[ns]', name='date', length=15180, freq=None)"
            ]
          },
          "execution_count": 57,
          "metadata": {},
          "output_type": "execute_result"
        }
      ],
      "source": [
        "df.index"
      ]
    },
    {
      "cell_type": "code",
      "execution_count": 58,
      "metadata": {
        "id": "vVOv755v6QxD"
      },
      "outputs": [],
      "source": [
        "# period = ['2020-01-01' , '2024-07-19']\n",
        "# period[0]"
      ]
    },
    {
      "cell_type": "code",
      "execution_count": 59,
      "metadata": {
        "id": "qaBh4jCn6jv6"
      },
      "outputs": [],
      "source": [
        "# df.index[-1]"
      ]
    },
    {
      "cell_type": "code",
      "execution_count": 60,
      "metadata": {
        "colab": {
          "base_uri": "https://localhost:8080/",
          "height": 544
        },
        "id": "eAYIh6Hut8Xk",
        "outputId": "73776bf8-9a68-4fc4-bced-c54359e34cef"
      },
      "outputs": [
        {
          "data": {
            "image/png": "[encoded data removed]",
            "text/plain": [
              "<Figure size 1200x600 with 1 Axes>"
            ]
          },
          "metadata": {},
          "output_type": "display_data"
        }
      ],
      "source": [
        "# Plotting\n",
        "today = datetime.today().strftime('%Y-%m-%d')\n",
        "# period = ['2022-01-01' , '2024-07-19']\n",
        "period = ['2022-07-15' , today]\n",
        "import matplotlib.pyplot as plt\n",
        "#\n",
        "df[ (df.index >= period[0]) & (df.index <= period[1]) ].plot(figsize=(12, 6))\n",
        "plt.xlabel('Date')\n",
        "plt.ylabel('Exchange Rate')\n",
        "plt.title('BCCR - CRC/USD Exchange Rate History')\n",
        "plt.grid(True)\n",
        "plt.show()\n"
      ]
    },
    {
      "cell_type": "code",
      "execution_count": 61,
      "metadata": {
        "id": "-F_x2GIZ7oax"
      },
      "outputs": [],
      "source": [
        "# Storing the processed data backup as different kinds of files,\n",
        "# to see which type is more convenient in terms of space\n",
        "\n",
        "pd.to_pickle(df, f'{DATASETS_BACKUP_PATH}/{CURRENT_DATASET_BASEFILENAME}.pkl')\n",
        "df.to_csv(f'{DATASETS_BACKUP_PATH}/{CURRENT_DATASET_BASEFILENAME}.csv')\n",
        "df.to_excel(f'{DATASETS_BACKUP_PATH}/{CURRENT_DATASET_BASEFILENAME}.xlsx')\n",
        "df.to_parquet(f'{DATASETS_BACKUP_PATH}/{CURRENT_DATASET_BASEFILENAME}.parquet')"
      ]
    },
    {
      "cell_type": "code",
      "execution_count": 62,
      "metadata": {
        "colab": {
          "base_uri": "https://localhost:8080/"
        },
        "id": "m8YMZinuBH9F",
        "outputId": "f5df89ca-05cf-4316-82d6-120637eec8f6"
      },
      "outputs": [
        {
          "name": "stdout",
          "output_type": "stream",
          "text": [
            "lun 22 jul 17:55:40 CST 2024\n",
            "-rw-r--r-- 1 milos milos 189K jul 22 17:39 datasets/bccr_historial_cambio_dolar.parquet\n",
            "-rw-r--r-- 1 milos milos 2,8M jul 22 17:54 datasets/bccr_historial_cambio_dolar.html\n",
            "\n",
            "datasets/temp:\n",
            "total 0\n",
            "\n",
            "datasets/backups:\n",
            "total 4,0M\n",
            "-rw-r--r-- 1 milos milos 189K jul 22 17:55 bccr_historial_cambio_dolar.parquet\n",
            "-rw-r--r-- 1 milos milos 267K jul 22 17:55 bccr_historial_cambio_dolar.xlsx\n",
            "-rw-r--r-- 1 milos milos 357K jul 22 17:55 bccr_historial_cambio_dolar.pkl\n",
            "-rw-r--r-- 1 milos milos 360K jul 22 17:55 bccr_historial_cambio_dolar.csv\n",
            "-rw-r--r-- 1 milos milos 2,9M jul 22 17:54 bccr_historial_cambio_dolar.html.20240722\n"
          ]
        }
      ],
      "source": [
        "# Parquet file seems to be the smallest way to store backups\n",
        "!date; ls -lhSr datasets/*"
      ]
    },
    {
      "cell_type": "code",
      "execution_count": 63,
      "metadata": {
        "colab": {
          "base_uri": "https://localhost:8080/"
        },
        "id": "tgkrkDnI9G3f",
        "outputId": "d9ba6f9e-9441-4240-eb6e-2d752e2508fd"
      },
      "outputs": [
        {
          "name": "stdout",
          "output_type": "stream",
          "text": [
            "datasets/backups/bccr_historial_cambio_dolar.csv:           ASCII text\n",
            "datasets/backups/bccr_historial_cambio_dolar.html.20240722: HTML document, ASCII text, with CRLF line terminators\n",
            "datasets/backups/bccr_historial_cambio_dolar.parquet:       Apache Parquet\n",
            "datasets/backups/bccr_historial_cambio_dolar.pkl:           XENIX 8086 relocatable or 80286 small model\n",
            "datasets/backups/bccr_historial_cambio_dolar.xlsx:          Zip archive data, at least v2.0 to extract\n"
          ]
        }
      ],
      "source": [
        "#Types of files as seen by Linux OS\n",
        "!file datasets/backups/*"
      ]
    },
    {
      "cell_type": "code",
      "execution_count": 64,
      "metadata": {
        "id": "6CwXi-PN4cKA"
      },
      "outputs": [],
      "source": [
        "# So, using parquet file to be the one placed at the datasets main path\n",
        "df.to_parquet(f'{DATASETS_PATH}/{CURRENT_DATASET_BASEFILENAME}.parquet')"
      ]
    },
    {
      "cell_type": "code",
      "execution_count": 65,
      "metadata": {
        "colab": {
          "base_uri": "https://localhost:8080/"
        },
        "id": "K1uaxqdBr2yV",
        "outputId": "e5c08a27-fa14-4095-eae9-65d63cf02e88"
      },
      "outputs": [
        {
          "data": {
            "text/plain": [
              "['bccr_historial_cambio_dolar.parquet',\n",
              " 'backups',\n",
              " 'bccr_historial_cambio_dolar.html',\n",
              " 'temp']"
            ]
          },
          "execution_count": 65,
          "metadata": {},
          "output_type": "execute_result"
        }
      ],
      "source": [
        "os.listdir(DATASETS_PATH)"
      ]
    },
    {
      "cell_type": "code",
      "execution_count": 66,
      "metadata": {
        "colab": {
          "base_uri": "https://localhost:8080/",
          "height": 35
        },
        "id": "0ChMaLaKruME",
        "outputId": "589ebe03-9087-4086-f5a3-b490b3309a0d"
      },
      "outputs": [
        {
          "data": {
            "text/plain": [
              "'Apache Parquet'"
            ]
          },
          "execution_count": 66,
          "metadata": {},
          "output_type": "execute_result"
        }
      ],
      "source": [
        "magic.from_file(f'{DATASETS_PATH}/{CURRENT_DATASET_BASEFILENAME}.parquet')"
      ]
    },
    {
      "cell_type": "markdown",
      "metadata": {
        "id": "OakPGdB9fS70"
      },
      "source": [
        "## Webscraping the latest data from the bank webpage, with BeautifulSoup\n",
        "\n",
        "Only the last 30 days have records at the page."
      ]
    },
    {
      "cell_type": "code",
      "execution_count": 67,
      "metadata": {
        "id": "2EyiIh_F25XV"
      },
      "outputs": [],
      "source": [
        "# Scraping the most recent data from the bank webpage\n",
        "\n",
        "# Configuration\n",
        "\n",
        "host='gee.bccr.fi.cr'\n",
        "urlpath='indicadoreseconomicos/Cuadros/frmVerCatCuadro.aspx'\n",
        "# Sending some headers to try and hide the scraper default values\n",
        "hdrs={'User-Agent': \"Mozilla/5.0 (X11; Linux x86_64) AppleWebKit/537.36 (KHTML, like Gecko) Chrome/125.0.0.0 Safari/537.36\",\n",
        "      'Host' : 'gee.bccr.fi.cr',\n",
        "      'Accept-Language': 'en-US,en;q=0.9,es;q=0.8,es-CR;q=0.7,de;q=0.6'\n",
        "      }\n",
        "querystring = {'idioma': '1' , 'CodCuadro': ' 400'}\n",
        "url_page = f'https://{host}/{urlpath}'"
      ]
    },
    {
      "cell_type": "code",
      "execution_count": 68,
      "metadata": {
        "id": "h4tBf0qUCBHN"
      },
      "outputs": [],
      "source": [
        "# Performing the actual request\n",
        "page_request = requests.get(url_page, headers=hdrs , params= querystring)\n"
      ]
    },
    {
      "cell_type": "code",
      "execution_count": 69,
      "metadata": {
        "colab": {
          "base_uri": "https://localhost:8080/"
        },
        "id": "L9V7iJNvC1nr",
        "outputId": "a0401f22-fc40-4903-eec8-8b4abff7ffb1"
      },
      "outputs": [
        {
          "data": {
            "text/plain": [
              "(200,\n",
              " 'OK',\n",
              " True,\n",
              " 'https://gee.bccr.fi.cr/indicadoreseconomicos/Cuadros/frmVerCatCuadro.aspx?idioma=1&CodCuadro=+400',\n",
              " '9291',\n",
              " 'Mon, 22 Jul 2024 23:55:42 GMT',\n",
              " 'utf-8')"
            ]
          },
          "execution_count": 69,
          "metadata": {},
          "output_type": "execute_result"
        }
      ],
      "source": [
        "# some interesting options that could be used\n",
        "page_request.status_code, page_request.reason ,  page_request.ok , page_request.url , \\\n",
        "page_request.headers['Content-Length'], page_request.headers['Date'] , page_request.encoding"
      ]
    },
    {
      "cell_type": "code",
      "execution_count": 70,
      "metadata": {
        "colab": {
          "base_uri": "https://localhost:8080/"
        },
        "id": "ThTxwYnat2TK",
        "outputId": "4edb6354-bd12-4512-dea9-187ea853b9ef"
      },
      "outputs": [
        {
          "data": {
            "text/plain": [
              "{'Cache-Control': 'private', 'Content-Type': 'text/html; charset=utf-8', 'Content-Encoding': 'gzip', 'Expires': 'Mon, 22 Jul 2024 23:55:42 GMT', 'Vary': 'Accept-Encoding', 'Set-Cookie': 'ASP.NET_SessionId=qq4ve0csk2hjdv0w4glwbcyu; path=/; secure; HttpOnly; SameSite=Lax, dtCookie=v_4_srv_8_sn_33CA930DF32270CE35FFCA0520A005E8_perc_100000_ol_0_mul_1_app-3Aa1722fd1705f96bf_0; Path=/; Domain=.bccr.fi.cr, TS01e64794=01da735af0ac304be926c0cd9cbeebe5886126b700e75a913f6a55b579419f0afcb8863a1ed07769db8f00ba5b92d516331377a31a8f4551512880a4d9576f8db6eaf74376; Path=/; Secure; HTTPOnly, TS0194aa71=01da735af0337a24bae01326e16a9f86d05d4d9fbae75a913f6a55b579419f0afcb8863a1e6d8c4a75bed3c53b17d5014433ad2da59e82faf119811f733153607cff3764fb; path=/; domain=.bccr.fi.cr; HTTPonly; Secure', 'Content-Security-Policy': \"script-src 'unsafe-inline' 'unsafe-eval' https://www.google.com/recaptcha/api.js *.gstatic.com https://gee.bccr.fi.cr https://centralenlinea.bccr.fi.cr; object-src 'self'; frame-ancestors 'self' https://www.bccr.fi.cr\", 'X-UA-Compatible': 'IE=EmulateIE8', 'X-Content-Type-Options': 'nosniff', 'X-Xss-Protection': '1; mode=block', 'X-OneAgent-JS-Injection': 'true', 'X-ruxit-JS-Agent': 'true', 'Server-Timing': 'dtSInfo;desc=\"0\", dtRpid;desc=\"-1032609596\"', 'Date': 'Mon, 22 Jul 2024 23:55:42 GMT', 'Content-Length': '9291'}"
            ]
          },
          "execution_count": 70,
          "metadata": {},
          "output_type": "execute_result"
        }
      ],
      "source": [
        "# Here are all the headers in case we need more info\n",
        "page_request.headers"
      ]
    },
    {
      "cell_type": "code",
      "execution_count": 71,
      "metadata": {
        "colab": {
          "base_uri": "https://localhost:8080/",
          "height": 201
        },
        "collapsed": true,
        "id": "AF3_xXhxH4S4",
        "outputId": "50a5a5ec-6fff-445b-832a-fd9d1c48580d"
      },
      "outputs": [
        {
          "data": {
            "text/plain": [
              "'<HTML>\\r\\n<HEAD><title>Tipo cambio de compra y de venta del dólar de los Estados Unidos de América</title>\\r\\n<script type=\"text/javascript\">var _gaq = _gaq || [];_gaq.push([\\'_setAccount\\', \\'UA-25040215-3\\']);_gaq.push([\\'_trackPageview\\']);(function() {var ga = document.createElement(\\'script\\'); ga.type = \\'text/javascript\\'; ga.async = true;ga.src = (\\'https:\\' == document.location.protocol ? \\'https://ssl\\' : \\'http://www\\') + \\'.google-analytics.com/ga.js\\';var s = document.getElementsByTagName(\\'script\\')[0]; s.parentNode.insertBefore(ga, s);})();</script>\\r\\n<script language=\"javascript\">\\r\\n\\r\\nvar lc_js_filas400 = 0;\\r\\nvar lc_js_opentip  = \"Mostrar jerarquía\";\\r\\nvar lc_js_closetip = \"Ocultar jerarquía\";\\r\\nvar lc_js_colwidth = \"100\";\\r\\nvar lc_js_hdrwidth = \"200\";\\r\\nvar lc_js_idiom    = \"spanish\";\\r\\nvar lc_js_url      = \"https://gee.bccr.fi.cr/indicadoreseconomicos/Cuadros/frmVerCatCuadro.aspx?CodCuadro=400&Idioma=1\";\\r\\nvar lc_js_chg_lng  = \"https://gee.bccr.fi.cr/indicadoreseconomicos/Cuadros/frmVerCatCuadro.aspx?CodCuadro=400&Idioma=2\";\\r\\n\\r\\nfunction js_doGoSearch(a){if(a==\"1\"){window.open(\"../Busquedas/frmResultadosBusqueda.aspx?Palabras=\"+document.all(\"txtPalabras\").value.toUpperCase()+\"&Idioma=1&Metodo=0&DesTitulo=Estructuras&Codigo=0&PorPagina=20\",\"_self\");}else{window.open(\"../Busquedas/frmResultadosBusqueda.aspx?Palabras=\"+document.all(\"txtPalabras\").value.toUpperCase()+\"&Idioma=2&Metodo=0&DesTitulo=Information Structures&Codigo=0&PorPagina=20\",\"_self\");}}function PopUpDate(d,c){var b=\"../General/frmGenCalendar.aspx?CTRL=\"+d+\"&Idioma=\"+c;var a;window.open(b,\"dp\",\"toolbar=0, location=0, directories=0, status=0, menubar=0, scrollbars=0, resizable=0,width=220, height=190, left=\"+(window.event.screenX-16)+\", top=\"+(window.event.screenY-100));return false;}function js_TdClick(a,f,h,j){var b=document.all(\"tr_\"+a);var c=document.all(\"td_\"+a);var i=document.all(\"img_\"+a);var g=document.all(\"col_\"+a);var d=document.all(\"otd_\"+a);var e=document.all(\"emp_\"+a);if(b&&c&&i&&g&&d){if(b.style.display==\"block\"){b.style.display=\"none\";c.colSpan=1;c.className=\"noframe\"+h;g.style.display=\"none\";d.className=\"frame\"+h;i.alt=lc_js_opentip;i.src=\"..\\\\\\\\Imagenes\\\\\\\\close.gif\";if(e){e.style.display=\"block\";}}else{b.style.display=\"block\";c.colSpan=f;c.className=\"frame\"+h;d.className=\"noframe\"+h;g.style.display=\"block\";i.alt=lc_js_closetip;i.src=\"..\\\\\\\\Imagenes\\\\\\\\open.gif\";if(e){e.style.display=\"none\";}}}js_resizeAllTds(h,j);}function js_calculateTableWidth(d,c){var a=0;var b=document.all(\"leaves\"+d,a);var e=0;while(b){if(js_tdIsRoot(b)){e=(e-0)+(b.width-0);}a++;b=document.all(\"leaves\"+d,a);}a=c;b=document.all(\"td_\"+a);while(b){if(js_tdIsRoot(b)){e=(e-0)+(b.width-0);}a--;b=document.all(\"td_\"+a);}return(e-0)+(lc_js_hdrwidth-0);}function js_tdIsRoot(b){var c=false;if(b.attributes.parentidx){var a=b.attributes.parentidx.value;c=(a==\"td_0\");}return c;}function js_tdIsVisible(c){var e=false;if(c.attributes.parentidx){var a=c.attributes.parentidx.value;var d=document.all(a);if(d){var b=document.all(\"tr_\"+a.substr(3));if(b){if(b.style.display==\"block\"){e=js_tdIsVisible(d);}}}else{e=true;}}return e;}function js_resizeAllTds(f,h){var a=h;var e=document.all(\"theTable\"+f);var g=document.all(\"theTable2\"+f);e.width=\"\";g.width=\"\";var c=document.all(\"td_\"+a);while(c){c.width=\"\";a--;c=document.all(\"td_\"+a);}a=0;c=document.all(\"leaves\"+f,a);while(c){c.width=lc_js_colwidth;if(c.attributes.parentidx){var i=c.attributes.parentidx.value;var b=document.all(i);if(b){var d=document.all(\"tr_\"+i.substr(3));if(d){if(d.style.display==\"none\"){b.width=lc_js_colwidth-0;}else{if(b.width==\"\"){b.width=lc_js_colwidth-0;}else{b.width=(b.width-0)+(lc_js_colwidth-0);}}}}}a++;c=document.all(\"leaves\"+f,a);}a=h;c=document.all(\"td_\"+a);while(c){if(c.attributes.parentidx){var i=c.attributes.parentidx.value;var b=document.all(i);if(b){var d=document.all(\"tr_\"+i.substr(3));if(d){if(d.style.display==\"none\"){b.width=lc_js_colwidth-0;}else{if(b.width==\"\"){b.width=c.width-0;}else{b.width=(b.width-0)+(c.width-0);}}}}}a--;c=document.all(\"td_\"+a);}e.width=js_calculateTableWidth(f,h);g.width=e.width;}function js_validateDates(a){if(check_date(document.all(\"tbFecIni\"),lc_js_idiom,\"\")){if(check_date(document.all(\"tbFecFin\"),lc_js_idiom,\"\")){if(check_date_range(document.all(\"tbFecIni\").value,document.all(\"tbFecFin\").value,lc_js_idiom)){return true;}else{if(a){if(lc_js_idiom==\"spanish\"){select_field(document.all(\"tbFecFin\"),\"La fecha final debe ser mayor o igual que la inicial\");}else{select_field(document.all(\"tbFecFin\"),\"To date must be greater than or equal to From date\");}}}}else{if(a){if(lc_js_idiom==\"spanish\"){select_field(document.all(\"tbFecFin\"),\"La fecha final es inv�lida\");}else{select_field(document.all(\"tbFecFin\"),\"To date is not valid\");}}}}else{if(a){if(lc_js_idiom==\"spanish\"){select_field(document.all(\"tbFecIni\"),\"La fecha inicial es inv�lida\");}else{select_field(document.all(\"tbFecIni\"),\"From date is not valid\");}}}return false;}function js_DateStr(a){if(lc_js_idiom==\"spanish\"){return(a.substr(6,4)+\"/\"+a.substr(3,2)+\"/\"+a.substr(0,2));}else{return(a.substr(6,4)+\"/\"+a.substr(0,2)+\"/\"+a.substr(3,2));}}function js_dateParameter(b,a){return(document.all(b).value.length>0?\"&\"+a+\"=\"+js_DateStr(document.all(b).value):\"\");}function js_filterParameter(){if(document.all(\"ddlFiltrar\")){return(\"&Filtro=\"+document.all(\"ddlFiltrar\").value);}else{return(\"\");}}function js_navigate(a){if(window.navigate){window.navigate(a);}else{location=a;}}function js_go(){if(js_validateDates(true)){js_navigate(lc_js_url+js_dateParameter(\"tbFecIni\",\"FecInicial\")+js_dateParameter(\"tbFecFin\",\"FecFinal\")+js_filterParameter());}}function js_doGoFirst(){if(js_validateDates(true)){js_navigate(lc_js_url+js_dateParameter(\"tbFecIni\",\"FecInicial\")+js_dateParameter(\"tbFecFin\",\"FecFinal\")+js_filterParameter()+\"&Jump=\"+document.all(\"tbK\").value);return;}}function js_doGoBack(){var a=Math.min(document.all(\"tbI\").value-0+1,document.all(\"tbK\").value-0);if(js_validateDates(true)){js_navigate(lc_js_url+js_dateParameter(\"tbFecIni\",\"FecInicial\")+js_dateParameter(\"tbFecFin\",\"FecFinal\")+js_filterParameter()+\"&Jump=\"+a);return;}}function js_doGoNext(){var a=Math.max(document.all(\"tbI\").value-1,0);if(js_validateDates(true)){js_navigate(lc_js_url+js_dateParameter(\"tbFecIni\",\"FecInicial\")+js_dateParameter(\"tbFecFin\",\"FecFinal\")+js_filterParameter()+\"&Jump=\"+a);return;}}function js_doGoLast(){if(js_validateDates(true)){js_navigate(lc_js_url+js_dateParameter(\"tbFecIni\",\"FecInicial\")+js_dateParameter(\"tbFecFin\",\"FecFinal\")+js_filterParameter()+\"&Jump=0\");return;}}function js_doExport(){if(js_validateDates(true)){window.open(lc_js_url+js_dateParameter(\"tbFecIni\",\"FecInicial\")+js_dateParameter(\"tbFecFin\",\"FecFinal\")+js_filterParameter()+\"&Exportar=True\",\"_blank\");}}function js_doExportReport(){var a=\"\";var b=\"\";if(document.all(\"Desde\")){if(document.all(\"Desde\").value!=\"\"){a=\"&Desde=\"+js_DateStr(document.all(\"Desde\").value);}}if(document.all(\"Hasta\")){if(document.all(\"Hasta\").value!=\"\"){b=\"&Hasta=\"+js_DateStr(document.all(\"Hasta\").value);}}window.open(lc_js_reporturl+a+b,\"_blank\");}function check_date_range(a,b,i){var g;var d;var f;var h;var e;var c;if((a.length==0)||(b.length==0)){return true;}f=a.substr(6,4)-0;c=b.substr(6,4)-0;if(i==\"spanish\"){d=a.substr(3,2)-0;e=b.substr(3,2)-0;}else{d=a.substr(0,2)-0;e=b.substr(0,2)-0;}if(i==\"spanish\"){g=a.substr(0,2)-0;h=b.substr(0,2)-0;}else{g=a.substr(3,2)-0;h=b.substr(3,2)-0;}if(f<c){return true;}if((f==c)&&(d<e)){return true;}if((f==c)&&(d==e)&&(g<=h)){return true;}return false;}function check_date(h,f,c){var p=\"0123456789\";var j=h;var o=\"\";var m=\"\";var e=\"/\";var b;var a;var d;var l=0;var g=0;var k;var n;if(f==undefined){n=lc_js_idiom;}else{if(f.length==0){n=lc_js_idiom;}else{n=f;}}g=0;DateValue=j.value;if(DateValue.length==0){return true;}if(!(/^\\\\d\\\\d[\\\\/\\\\.-\\\\\\\\]?\\\\d\\\\d[\\\\/\\\\.-\\\\\\\\]?\\\\d\\\\d(\\\\d\\\\d)?$/.test(DateValue))){g=1;}for(k=0;k<DateValue.length;k++){if(p.indexOf(DateValue.substr(k,1))>=0){m=m+DateValue.substr(k,1);}}DateValue=m;if(DateValue.length==6){DateValue=DateValue.substr(0,4)+\"20\"+DateValue.substr(4,2);}if(DateValue.length!=8){g=19;}d=DateValue.substr(4,4);if(d==0){g=20;}if(n==\"english\"){a=DateValue.substr(0,2);}if(n==\"spanish\"){a=DateValue.substr(2,2);}if((a<1)||(a>12)){g=21;}if(n==\"english\"){b=DateValue.substr(2,2);}if(n==\"spanish\"){b=DateValue.substr(0,2);}if(b<1){g=22;}if((d%4==0)||(d%100==0)||(d%400==0)){l=1;}if((a==2)&&(l==1)&&(b>29)){g=23;}if((a==2)&&(l!=1)&&(b>28)){g=24;}if((b>31)&&((a==\"01\")||(a==\"03\")||(a==\"05\")||(a==\"07\")||(a==\"08\")||(a==\"10\")||(a==\"12\"))){g=25;}if((b>30)&&((a==\"04\")||(a==\"06\")||(a==\"09\")||(a==\"11\"))){g=26;}if(g==0){if(n==\"english\"){j.value=a+e+b+e+d;}if(n==\"spanish\"){j.value=b+e+a+e+d;}return true;}else{if(c==undefined){if(n==\"english\"){c=\"Input date format is incorrect\";}if(n==\"spanish\"){c=\"La fecha digitada es incorrecta\";}}else{if(c.length==0){if(n==\"english\"){c=\"Input date format is incorrect\";}if(n==\"spanish\"){c=\"La fecha digitada es incorrecta\";}}}select_field(j,c);return false;}}function select_field(b,a){window.alert(a);b.focus();b.select();}function getChildElement(c,d){var b=0;if(c.hasChildNodes()){for(var a=0;a<c.childNodes.length;a++){if(c.childNodes[a].nodeType!=1){continue;}if(b!=d){b++;continue;}else{return c.childNodes[a];}}}return null;}function chngto(d,a){var c;if(document.all){c=event.srcElement;}else{c=d.target;if(c.nodeType==3){c=c.parentNode;}}if(\"B\"==c.tagName||\"SPAN\"==c.tagName||\"IMG\"==c.tagName){if(\"IMG\"==c.tagName){if(!c.name){return;}}else{var b=c.parentNode;while(b.tagName!=\"TD\"){b=b.parentNode;}tableLayer=getChildElement(b,1);if(tableLayer==null||tableLayer.tagName!=\"DIV\"){return;}c.className=a;}if(a==\"hover\"){c.style.cursor=(document.getElementById)?\"pointer\":\"hand\";}else{c.style.cursor=\"default\";}}}function exposeTable(g,a){var b;var e;if(document.getElementById){b=event.srcElement;}else{b=g.target;if(b.nodeType==3){b=b.parentNode;}}if(\"B\"==b.tagName||\"SPAN\"==b.tagName||\"IMG\"==b.tagName){if(\"IMG\"==b.tagName){if(!b.name){return;}e=b;var f=b.parentNode;while(f.tagName!=\"TD\"){f=f.parentNode;}b=f.nextSibling.firstChild;tableLayer=getChildElement(f.nextSibling,1);}else{var f=b.parentNode;while(f.tagName!=\"TD\"){f=f.parentNode;}tableLayer=getChildElement(f,1);}if(tableLayer==null||tableLayer.tagName!=\"DIV\"){return;}var d=document.images[b.id.toLowerCase()].src.indexOf(\"close\");var c=(d!=-1?\"open\":\"closed\");if(c==\"open\"){tableLayer.style.display=\"block\";document.images[b.id.toLowerCase()].src=\"..\\\\\\\\Imagenes\\\\\\\\open.gif\";if(e){e.alt=lc_js_closetip;}}else{tableLayer.style.display=\"none\";document.images[b.id.toLowerCase()].src=\"..\\\\\\\\Imagenes\\\\\\\\close.gif\";if(e){e.alt=lc_js_opentip;}}RepintaFilas(a);}}\\r\\nfunction RepintaRecursivo(node, pintar)\\r\\n{\\r\\n    var go_on;\\r\\n    while (node) {\\r\\n        go_on = true;\\r\\n        if (go_on) go_on = (node.firstChild != null);\\r\\n        if (go_on) go_on = (node.firstChild.nextSibling != null);\\r\\n        if (go_on) go_on = (node.firstChild.nextSibling.firstChild != null);\\r\\n        if (go_on) {\\r\\n            var span = node.firstChild.nextSibling.firstChild;\\r\\n            if (span) {\\r\\n                if (span.tagName == \"SPAN\") {\\r\\n                    if (go_on) go_on = (span.firstChild != null);\\r\\n                    if (go_on) go_on = (span.firstChild.firstChild != null);\\r\\n                    if (go_on) go_on = (span.firstChild.firstChild.firstChild != null);\\r\\n                    if (go_on) {\\r\\n                        var tr = span.firstChild.firstChild.firstChild;\\r\\n                        if (pintar) {\\r\\n                            tr.bgColor = \"#DFEDFF\";\\r\\n                            tr.style.color = \"Black\";\\r\\n                        }\\r\\n                        else {\\r\\n                            tr.bgColor = \"#FFFFFF\";\\r\\n                            tr.style.color = \"Black\";\\r\\n                        }\\r\\n                        pintar = !pintar;\\r\\n\\r\\n                        var div = span.nextSibling;\\r\\n                        if (div) {\\r\\n                            if (div.tagName == \"DIV\") {\\r\\n                                if (div.style.display == \\'block\\') {\\r\\n                                    pintar = RepintaRecursivo(div.firstChild.firstChild.firstChild, pintar);\\r\\n                                }\\r\\n                            }\\r\\n                        }\\r\\n                    }\\r\\n                }\\r\\n            }\\r\\n        }\\r\\n        node = node.nextSibling;\\r\\n    }\\r\\n    return pintar;\\r\\n}\\r\\n\\r\\nfunction RepintaFilas(table)\\r\\n{\\r\\n    if (document.all) {\\r\\n        if (document.all(table)) {\\r\\n            var node = document.all(table).firstChild.firstChild;\\r\\n            while (node.tagName == \"TR\" && node.bgColor == \"#0C365E\") node = node.nextSibling;\\r\\n            RepintaRecursivo(node, false);\\r\\n        }\\r\\n    }\\r\\n}\\r\\n\\r\\n</script>\\r\\n    <STYLE type=\"text/css\">\\r\\n    .link {COLOR: black}\\r\\n    .hover {COLOR: red}\\r\\n    .tableContainer1 {DISPLAY: block;}\\r\\n    .tableContainer2 {DISPLAY: none;}\\r\\n    .tableContainer {DISPLAY: none;}\\r\\n    TD.frame400 { BORDER-RIGHT: 0px groove; BORDER-TOP: 0px groove; BORDER-LEFT: 0px groove; BORDER-BOTTOM: 1px groove; FONT-FAMILY: Arial; FONT-SIZE: 8pt; FONT-WEIGHT: normal; COLOR: Black; FONT-STYLE: normal; TEXT-DECORATION: none}\\r\\n    TD.noframe400 { BORDER: 0px; FONT-FAMILY: Arial; FONT-SIZE: 8pt; FONT-WEIGHT: normal; COLOR: Black; FONT-STYLE: normal; TEXT-DECORATION: none}\\r\\n    TD.celda400 { BORDER-RIGHT: 0px groove; BORDER-TOP: 0px groove; BORDER-LEFT: 0px groove; BORDER-BOTTOM: 1px groove; FONT-FAMILY: Arial; FONT-SIZE: 8pt; FONT-WEIGHT: normal; COLOR: Black; FONT-STYLE: normal; TEXT-DECORATION: none}\\r\\n    .estiloTitulo400 {FONT-FAMILY: Arial; FONT-SIZE: 11pt; FONT-WEIGHT: bold; COLOR: Black; TEXT-ALIGN: Center; FONT-STYLE: normal; TEXT-DECORATION: none}\\r\\n    .estiloSubtitulo400 {FONT-FAMILY: Arial; FONT-SIZE: 10pt; FONT-WEIGHT: normal; COLOR: black; TEXT-ALIGN: Center; FONT-STYLE: normal; TEXT-DECORATION: none}\\r\\n    </STYLE>\\r\\n    <meta name=\"GENERATOR\" content=\"Microsoft Visual Studio.NET 7.0\">\\r\\n    <meta name=\"CODE_LANGUAGE\" content=\"Visual Basic 7.0\">\\r\\n    <meta name=\"vs_defaultClientScript\" content=\"JavaScript\">\\r\\n    <meta name=\"vs_targetSchema\" content=\"http://schemas.microsoft.com/intellisense/ie5\">\\r\\n    <script type=\"text/javascript\" src=\"/indicadoreseconomicos/ruxitagentjs_ICA7NVfqrux_10293240704151944.js\" data-dtconfig=\"rid=RID_-548876910|rpid=-1032609596|domain=bccr.fi.cr|reportUrl=/indicadoreseconomicos/rb_bf80254bny|app=a1722fd1705f96bf|featureHash=ICA7NVfqrux|srsr=25000|rdnt=1|uxrgce=1|srcss=0|cuc=5sll8oy8|srxcss=0|srxicss=0|mel=100000|expw=1|dpvc=1|lastModification=1721233885218|tp=500,50,0|agentUri=/indicadoreseconomicos/ruxitagentjs_ICA7NVfqrux_10293240704151944.js\"></script><link href=\"/indicadoreseconomicos/estilos/estilos.css\" rel=\"stylesheet\" type=\"text/css\" />\\r\\n</HEAD>\\r\\n<body MS_POSITIONING=\"GridLayout\">\\r\\n<form id=\"Form1\" method=\"post\" runat=\"server\">\\r\\n    <table id=\"Table0\" cellSpacing=\"0\" cellPadding=\"0\" border=\"0\" width=\"100%\" >\\r\\n        <TR><TD height=\"10pt\">&nbsp;</TD></TR>\\r\\n        <TR><TD><SPAN class=\"Titulo\">Tipo cambio de compra y de venta del dólar de los Estados Unidos de América</SPAN></TD></TR>\\r\\n        <TR><TD colSpan=\"10\" class=\"Notas\">Referencia del Banco Central de Costa Rica</TD></TR>\\r\\n        <TR><TD colSpan=\"10\" class=\"Notas\">En colones costarricenses</TD></TR>\\r\\n        <TR><TD height=\"10pt\">&nbsp;</TD></TR>\\r\\n    </table>\\r\\n    <table id=\"theTable400\" width=\"400\" border=\"0\" cellSpacing=\"0\" cellPadding=\"0\">\\r\\n        <tr>\\r\\n            <td width=\"200\" height=\"100%\">\\r\\n                <table  width=\"200\" height=\"100%\" border=\"0\" cellSpacing=\"0\" cellPadding=\"0\">\\r\\n                    <tr style=\"background-color:#0C365E\">\\r\\n                        <td class=\"frame400\">&nbsp;\\r\\n                        </td>\\r\\n                    </tr>\\r\\n                </table>\\r\\n            </td>\\r\\n            <td id=\"leaves400\" isleaf=\"true\" parentidx=\"td_0\" vAlign=\"center\" class=\"frame400\" width=\"100\" align=\"center\" style=\"color:white\" height=\"100%\" bgColor=\"#0C365E\">\\r\\n                TIPO CAMBIO COMPRA  \\r\\n            </td>\\r\\n            <td id=\"leaves400\" isleaf=\"true\" parentidx=\"td_0\" vAlign=\"center\" class=\"frame400\" width=\"100\" align=\"center\" style=\"color:white\" height=\"100%\" bgColor=\"#0C365E\">\\r\\n                TIPO DE CAMBIO VENTA  \\r\\n            </td>\\r\\n        </tr>\\r\\n        <tr>\\r\\n            <td width=\"200\">\\r\\n                <table width=\"200\" border=\"0\" cellSpacing=\"0\" cellPadding=\"0\" align=\"left\">\\r\\n                    <tr>\\r\\n                        <td class=\"celda400\">\\r\\n                            24 Jun 2024\\r\\n                        </td>\\r\\n                    </tr>\\r\\n                    <tr>\\r\\n                        <td class=\"celda400\" bgColor=\"#DFEDFF\" style=\"color:Black\">\\r\\n                            25 Jun 2024\\r\\n                        </td>\\r\\n                    </tr>\\r\\n                    <tr>\\r\\n                        <td class=\"celda400\">\\r\\n                            26 Jun 2024\\r\\n                        </td>\\r\\n                    </tr>\\r\\n                    <tr>\\r\\n                        <td class=\"celda400\" bgColor=\"#DFEDFF\" style=\"color:Black\">\\r\\n                            27 Jun 2024\\r\\n                        </td>\\r\\n                    </tr>\\r\\n                    <tr>\\r\\n                        <td class=\"celda400\">\\r\\n                            28 Jun 2024\\r\\n                        </td>\\r\\n                    </tr>\\r\\n                    <tr>\\r\\n                        <td class=\"celda400\" bgColor=\"#DFEDFF\" style=\"color:Black\">\\r\\n                            29 Jun 2024\\r\\n                        </td>\\r\\n                    </tr>\\r\\n                    <tr>\\r\\n                        <td class=\"celda400\">\\r\\n                            30 Jun 2024\\r\\n                        </td>\\r\\n                    </tr>\\r\\n                    <tr>\\r\\n                        <td class=\"celda400\" bgColor=\"#DFEDFF\" style=\"color:Black\">\\r\\n                            1 Jul 2024\\r\\n                        </td>\\r\\n                    </tr>\\r\\n                    <tr>\\r\\n                        <td class=\"celda400\">\\r\\n                            2 Jul 2024\\r\\n                        </td>\\r\\n                    </tr>\\r\\n                    <tr>\\r\\n                        <td class=\"celda400\" bgColor=\"#DFEDFF\" style=\"color:Black\">\\r\\n                            3 Jul 2024\\r\\n                        </td>\\r\\n                    </tr>\\r\\n                    <tr>\\r\\n                        <td class=\"celda400\">\\r\\n                            4 Jul 2024\\r\\n                        </td>\\r\\n                    </tr>\\r\\n                    <tr>\\r\\n                        <td class=\"celda400\" bgColor=\"#DFEDFF\" style=\"color:Black\">\\r\\n                            5 Jul 2024\\r\\n                        </td>\\r\\n                    </tr>\\r\\n                    <tr>\\r\\n                        <td class=\"celda400\">\\r\\n                            6 Jul 2024\\r\\n                        </td>\\r\\n                    </tr>\\r\\n                    <tr>\\r\\n                        <td class=\"celda400\" bgColor=\"#DFEDFF\" style=\"color:Black\">\\r\\n                            7 Jul 2024\\r\\n                        </td>\\r\\n                    </tr>\\r\\n                    <tr>\\r\\n                        <td class=\"celda400\">\\r\\n                            8 Jul 2024\\r\\n                        </td>\\r\\n                    </tr>\\r\\n                    <tr>\\r\\n                        <td class=\"celda400\" bgColor=\"#DFEDFF\" style=\"color:Black\">\\r\\n                            9 Jul 2024\\r\\n                        </td>\\r\\n                    </tr>\\r\\n                    <tr>\\r\\n                        <td class=\"celda400\">\\r\\n                            10 Jul 2024\\r\\n                        </td>\\r\\n                    </tr>\\r\\n                    <tr>\\r\\n                        <td class=\"celda400\" bgColor=\"#DFEDFF\" style=\"color:Black\">\\r\\n                            11 Jul 2024\\r\\n                        </td>\\r\\n                    </tr>\\r\\n                    <tr>\\r\\n                        <td class=\"celda400\">\\r\\n                            12 Jul 2024\\r\\n                        </td>\\r\\n                    </tr>\\r\\n                    <tr>\\r\\n                        <td class=\"celda400\" bgColor=\"#DFEDFF\" style=\"color:Black\">\\r\\n                            13 Jul 2024\\r\\n                        </td>\\r\\n                    </tr>\\r\\n                    <tr>\\r\\n                        <td class=\"celda400\">\\r\\n                            14 Jul 2024\\r\\n                        </td>\\r\\n                    </tr>\\r\\n                    <tr>\\r\\n                        <td class=\"celda400\" bgColor=\"#DFEDFF\" style=\"color:Black\">\\r\\n                            15 Jul 2024\\r\\n                        </td>\\r\\n                    </tr>\\r\\n                    <tr>\\r\\n                        <td class=\"celda400\">\\r\\n                            16 Jul 2024\\r\\n                        </td>\\r\\n                    </tr>\\r\\n                    <tr>\\r\\n                        <td class=\"celda400\" bgColor=\"#DFEDFF\" style=\"color:Black\">\\r\\n                            17 Jul 2024\\r\\n                        </td>\\r\\n                    </tr>\\r\\n                    <tr>\\r\\n                        <td class=\"celda400\">\\r\\n                            18 Jul 2024\\r\\n                        </td>\\r\\n                    </tr>\\r\\n                    <tr>\\r\\n                        <td class=\"celda400\" bgColor=\"#DFEDFF\" style=\"color:Black\">\\r\\n                            19 Jul 2024\\r\\n                        </td>\\r\\n                    </tr>\\r\\n                    <tr>\\r\\n                        <td class=\"celda400\">\\r\\n                            20 Jul 2024\\r\\n                        </td>\\r\\n                    </tr>\\r\\n                    <tr>\\r\\n                        <td class=\"celda400\" bgColor=\"#DFEDFF\" style=\"color:Black\">\\r\\n                            21 Jul 2024\\r\\n                        </td>\\r\\n                    </tr>\\r\\n                    <tr>\\r\\n                        <td class=\"celda400\">\\r\\n                            22 Jul 2024\\r\\n                        </td>\\r\\n                    </tr>\\r\\n                    <tr>\\r\\n                        <td class=\"celda400\" bgColor=\"#DFEDFF\" style=\"color:Black\">\\r\\n                            23 Jul 2024\\r\\n                        </td>\\r\\n                    </tr>\\r\\n                </table>\\r\\n            </td>\\r\\n            <td>\\r\\n                <table border=\"0\" cellSpacing=\"0\" cellPadding=\"0\" align=\"left\">\\r\\n                    <tr>\\r\\n                        <td>\\r\\n                            <table border=\"0\" cellSpacing=\"0\" cellPadding=\"0\" align=\"left\">\\r\\n                                <tr>\\r\\n                                    <td class=\"celda400\" vAlign=\"center\" align=\"right\" width=\"100\">\\r\\n                                        520,31\\r\\n                                    </td>\\r\\n                                </tr>\\r\\n                                <tr>\\r\\n                                    <td class=\"celda400\" vAlign=\"center\" align=\"right\" width=\"100\" bgColor=\"#DFEDFF\" style=\"color:Black\">\\r\\n                                        522,54\\r\\n                                    </td>\\r\\n                                </tr>\\r\\n                                <tr>\\r\\n                                    <td class=\"celda400\" vAlign=\"center\" align=\"right\" width=\"100\">\\r\\n                                        520,56\\r\\n                                    </td>\\r\\n                                </tr>\\r\\n                                <tr>\\r\\n                                    <td class=\"celda400\" vAlign=\"center\" align=\"right\" width=\"100\" bgColor=\"#DFEDFF\" style=\"color:Black\">\\r\\n                                        519,19\\r\\n                                    </td>\\r\\n                                </tr>\\r\\n                                <tr>\\r\\n                                    <td class=\"celda400\" vAlign=\"center\" align=\"right\" width=\"100\">\\r\\n                                        525,09\\r\\n                                    </td>\\r\\n                                </tr>\\r\\n                                <tr>\\r\\n                                    <td class=\"celda400\" vAlign=\"center\" align=\"right\" width=\"100\" bgColor=\"#DFEDFF\" style=\"color:Black\">\\r\\n                                        523,42\\r\\n                                    </td>\\r\\n                                </tr>\\r\\n                                <tr>\\r\\n                                    <td class=\"celda400\" vAlign=\"center\" align=\"right\" width=\"100\">\\r\\n                                        523,42\\r\\n                                    </td>\\r\\n                                </tr>\\r\\n                                <tr>\\r\\n                                    <td class=\"celda400\" vAlign=\"center\" align=\"right\" width=\"100\" bgColor=\"#DFEDFF\" style=\"color:Black\">\\r\\n                                        523,42\\r\\n                                    </td>\\r\\n                                </tr>\\r\\n                                <tr>\\r\\n                                    <td class=\"celda400\" vAlign=\"center\" align=\"right\" width=\"100\">\\r\\n                                        520,80\\r\\n                                    </td>\\r\\n                                </tr>\\r\\n                                <tr>\\r\\n                                    <td class=\"celda400\" vAlign=\"center\" align=\"right\" width=\"100\" bgColor=\"#DFEDFF\" style=\"color:Black\">\\r\\n                                        523,47\\r\\n                                    </td>\\r\\n                                </tr>\\r\\n                                <tr>\\r\\n                                    <td class=\"celda400\" vAlign=\"center\" align=\"right\" width=\"100\">\\r\\n                                        523,90\\r\\n                                    </td>\\r\\n                                </tr>\\r\\n                                <tr>\\r\\n                                    <td class=\"celda400\" vAlign=\"center\" align=\"right\" width=\"100\" bgColor=\"#DFEDFF\" style=\"color:Black\">\\r\\n                                        525,46\\r\\n                                    </td>\\r\\n                                </tr>\\r\\n                                <tr>\\r\\n                                    <td class=\"celda400\" vAlign=\"center\" align=\"right\" width=\"100\">\\r\\n                                        528,02\\r\\n                                    </td>\\r\\n                                </tr>\\r\\n                                <tr>\\r\\n                                    <td class=\"celda400\" vAlign=\"center\" align=\"right\" width=\"100\" bgColor=\"#DFEDFF\" style=\"color:Black\">\\r\\n                                        528,02\\r\\n                                    </td>\\r\\n                                </tr>\\r\\n                                <tr>\\r\\n                                    <td class=\"celda400\" vAlign=\"center\" align=\"right\" width=\"100\">\\r\\n                                        528,02\\r\\n                                    </td>\\r\\n                                </tr>\\r\\n                                <tr>\\r\\n                                    <td class=\"celda400\" vAlign=\"center\" align=\"right\" width=\"100\" bgColor=\"#DFEDFF\" style=\"color:Black\">\\r\\n                                        527,21\\r\\n                                    </td>\\r\\n                                </tr>\\r\\n                                <tr>\\r\\n                                    <td class=\"celda400\" vAlign=\"center\" align=\"right\" width=\"100\">\\r\\n                                        526,12\\r\\n                                    </td>\\r\\n                                </tr>\\r\\n                                <tr>\\r\\n                                    <td class=\"celda400\" vAlign=\"center\" align=\"right\" width=\"100\" bgColor=\"#DFEDFF\" style=\"color:Black\">\\r\\n                                        521,82\\r\\n                                    </td>\\r\\n                                </tr>\\r\\n                                <tr>\\r\\n                                    <td class=\"celda400\" vAlign=\"center\" align=\"right\" width=\"100\">\\r\\n                                        519,45\\r\\n                                    </td>\\r\\n                                </tr>\\r\\n                                <tr>\\r\\n                                    <td class=\"celda400\" vAlign=\"center\" align=\"right\" width=\"100\" bgColor=\"#DFEDFF\" style=\"color:Black\">\\r\\n                                        518,62\\r\\n                                    </td>\\r\\n                                </tr>\\r\\n                                <tr>\\r\\n                                    <td class=\"celda400\" vAlign=\"center\" align=\"right\" width=\"100\">\\r\\n                                        518,62\\r\\n                                    </td>\\r\\n                                </tr>\\r\\n                                <tr>\\r\\n                                    <td class=\"celda400\" vAlign=\"center\" align=\"right\" width=\"100\" bgColor=\"#DFEDFF\" style=\"color:Black\">\\r\\n                                        518,62\\r\\n                                    </td>\\r\\n                                </tr>\\r\\n                                <tr>\\r\\n                                    <td class=\"celda400\" vAlign=\"center\" align=\"right\" width=\"100\">\\r\\n                                        520,87\\r\\n                                    </td>\\r\\n                                </tr>\\r\\n                                <tr>\\r\\n                                    <td class=\"celda400\" vAlign=\"center\" align=\"right\" width=\"100\" bgColor=\"#DFEDFF\" style=\"color:Black\">\\r\\n                                        519,65\\r\\n                                    </td>\\r\\n                                </tr>\\r\\n                                <tr>\\r\\n                                    <td class=\"celda400\" vAlign=\"center\" align=\"right\" width=\"100\">\\r\\n                                        520,23\\r\\n                                    </td>\\r\\n                                </tr>\\r\\n                                <tr>\\r\\n                                    <td class=\"celda400\" vAlign=\"center\" align=\"right\" width=\"100\" bgColor=\"#DFEDFF\" style=\"color:Black\">\\r\\n                                        522,54\\r\\n                                    </td>\\r\\n                                </tr>\\r\\n                                <tr>\\r\\n                                    <td class=\"celda400\" vAlign=\"center\" align=\"right\" width=\"100\">\\r\\n                                        525,53\\r\\n                                    </td>\\r\\n                                </tr>\\r\\n                                <tr>\\r\\n                                    <td class=\"celda400\" vAlign=\"center\" align=\"right\" width=\"100\" bgColor=\"#DFEDFF\" style=\"color:Black\">\\r\\n                                        525,53\\r\\n                                    </td>\\r\\n                                </tr>\\r\\n                                <tr>\\r\\n                                    <td class=\"celda400\" vAlign=\"center\" align=\"right\" width=\"100\">\\r\\n                                        525,53\\r\\n                                    </td>\\r\\n                                </tr>\\r\\n                                <tr>\\r\\n                                    <td class=\"celda400\" vAlign=\"center\" align=\"right\" width=\"100\" bgColor=\"#DFEDFF\" style=\"color:Black\">\\r\\n                                        525,60\\r\\n                                    </td>\\r\\n                                </tr>\\r\\n                            </table>\\r\\n                        </td>\\r\\n                    </tr>\\r\\n                </table>\\r\\n            </td>\\r\\n            <td>\\r\\n                <table border=\"0\" cellSpacing=\"0\" cellPadding=\"0\" align=\"left\">\\r\\n                    <tr>\\r\\n                        <td>\\r\\n                            <table border=\"0\" cellSpacing=\"0\" cellPadding=\"0\" align=\"left\">\\r\\n                                <tr>\\r\\n                                    <td class=\"celda400\" vAlign=\"center\" align=\"right\" width=\"100\">\\r\\n                                        526,72\\r\\n                                    </td>\\r\\n                                </tr>\\r\\n                                <tr>\\r\\n                                    <td class=\"celda400\" vAlign=\"center\" align=\"right\" width=\"100\" bgColor=\"#DFEDFF\" style=\"color:Black\">\\r\\n                                        527,62\\r\\n                                    </td>\\r\\n                                </tr>\\r\\n                                <tr>\\r\\n                                    <td class=\"celda400\" vAlign=\"center\" align=\"right\" width=\"100\">\\r\\n                                        525,04\\r\\n                                    </td>\\r\\n                                </tr>\\r\\n                                <tr>\\r\\n                                    <td class=\"celda400\" vAlign=\"center\" align=\"right\" width=\"100\" bgColor=\"#DFEDFF\" style=\"color:Black\">\\r\\n                                        526,85\\r\\n                                    </td>\\r\\n                                </tr>\\r\\n                                <tr>\\r\\n                                    <td class=\"celda400\" vAlign=\"center\" align=\"right\" width=\"100\">\\r\\n                                        528,80\\r\\n                                    </td>\\r\\n                                </tr>\\r\\n                                <tr>\\r\\n                                    <td class=\"celda400\" vAlign=\"center\" align=\"right\" width=\"100\" bgColor=\"#DFEDFF\" style=\"color:Black\">\\r\\n                                        530,41\\r\\n                                    </td>\\r\\n                                </tr>\\r\\n                                <tr>\\r\\n                                    <td class=\"celda400\" vAlign=\"center\" align=\"right\" width=\"100\">\\r\\n                                        530,41\\r\\n                                    </td>\\r\\n                                </tr>\\r\\n                                <tr>\\r\\n                                    <td class=\"celda400\" vAlign=\"center\" align=\"right\" width=\"100\" bgColor=\"#DFEDFF\" style=\"color:Black\">\\r\\n                                        530,41\\r\\n                                    </td>\\r\\n                                </tr>\\r\\n                                <tr>\\r\\n                                    <td class=\"celda400\" vAlign=\"center\" align=\"right\" width=\"100\">\\r\\n                                        529,51\\r\\n                                    </td>\\r\\n                                </tr>\\r\\n                                <tr>\\r\\n                                    <td class=\"celda400\" vAlign=\"center\" align=\"right\" width=\"100\" bgColor=\"#DFEDFF\" style=\"color:Black\">\\r\\n                                        529,43\\r\\n                                    </td>\\r\\n                                </tr>\\r\\n                                <tr>\\r\\n                                    <td class=\"celda400\" vAlign=\"center\" align=\"right\" width=\"100\">\\r\\n                                        529,09\\r\\n                                    </td>\\r\\n                                </tr>\\r\\n                                <tr>\\r\\n                                    <td class=\"celda400\" vAlign=\"center\" align=\"right\" width=\"100\" bgColor=\"#DFEDFF\" style=\"color:Black\">\\r\\n                                        531,39\\r\\n                                    </td>\\r\\n                                </tr>\\r\\n                                <tr>\\r\\n                                    <td class=\"celda400\" vAlign=\"center\" align=\"right\" width=\"100\">\\r\\n                                        534,95\\r\\n                                    </td>\\r\\n                                </tr>\\r\\n                                <tr>\\r\\n                                    <td class=\"celda400\" vAlign=\"center\" align=\"right\" width=\"100\" bgColor=\"#DFEDFF\" style=\"color:Black\">\\r\\n                                        534,95\\r\\n                                    </td>\\r\\n                                </tr>\\r\\n                                <tr>\\r\\n                                    <td class=\"celda400\" vAlign=\"center\" align=\"right\" width=\"100\">\\r\\n                                        534,95\\r\\n                                    </td>\\r\\n                                </tr>\\r\\n                                <tr>\\r\\n                                    <td class=\"celda400\" vAlign=\"center\" align=\"right\" width=\"100\" bgColor=\"#DFEDFF\" style=\"color:Black\">\\r\\n                                        534,29\\r\\n                                    </td>\\r\\n                                </tr>\\r\\n                                <tr>\\r\\n                                    <td class=\"celda400\" vAlign=\"center\" align=\"right\" width=\"100\">\\r\\n                                        529,11\\r\\n                                    </td>\\r\\n                                </tr>\\r\\n                                <tr>\\r\\n                                    <td class=\"celda400\" vAlign=\"center\" align=\"right\" width=\"100\" bgColor=\"#DFEDFF\" style=\"color:Black\">\\r\\n                                        527,52\\r\\n                                    </td>\\r\\n                                </tr>\\r\\n                                <tr>\\r\\n                                    <td class=\"celda400\" vAlign=\"center\" align=\"right\" width=\"100\">\\r\\n                                        525,93\\r\\n                                    </td>\\r\\n                                </tr>\\r\\n                                <tr>\\r\\n                                    <td class=\"celda400\" vAlign=\"center\" align=\"right\" width=\"100\" bgColor=\"#DFEDFF\" style=\"color:Black\">\\r\\n                                        527,06\\r\\n                                    </td>\\r\\n                                </tr>\\r\\n                                <tr>\\r\\n                                    <td class=\"celda400\" vAlign=\"center\" align=\"right\" width=\"100\">\\r\\n                                        527,06\\r\\n                                    </td>\\r\\n                                </tr>\\r\\n                                <tr>\\r\\n                                    <td class=\"celda400\" vAlign=\"center\" align=\"right\" width=\"100\" bgColor=\"#DFEDFF\" style=\"color:Black\">\\r\\n                                        527,06\\r\\n                                    </td>\\r\\n                                </tr>\\r\\n                                <tr>\\r\\n                                    <td class=\"celda400\" vAlign=\"center\" align=\"right\" width=\"100\">\\r\\n                                        526,06\\r\\n                                    </td>\\r\\n                                </tr>\\r\\n                                <tr>\\r\\n                                    <td class=\"celda400\" vAlign=\"center\" align=\"right\" width=\"100\" bgColor=\"#DFEDFF\" style=\"color:Black\">\\r\\n                                        525,84\\r\\n                                    </td>\\r\\n                                </tr>\\r\\n                                <tr>\\r\\n                                    <td class=\"celda400\" vAlign=\"center\" align=\"right\" width=\"100\">\\r\\n                                        525,82\\r\\n                                    </td>\\r\\n                                </tr>\\r\\n                                <tr>\\r\\n                                    <td class=\"celda400\" vAlign=\"center\" align=\"right\" width=\"100\" bgColor=\"#DFEDFF\" style=\"color:Black\">\\r\\n                                        527,79\\r\\n                                    </td>\\r\\n                                </tr>\\r\\n                                <tr>\\r\\n                                    <td class=\"celda400\" vAlign=\"center\" align=\"right\" width=\"100\">\\r\\n                                        531,35\\r\\n                                    </td>\\r\\n                                </tr>\\r\\n                                <tr>\\r\\n                                    <td class=\"celda400\" vAlign=\"center\" align=\"right\" width=\"100\" bgColor=\"#DFEDFF\" style=\"color:Black\">\\r\\n                                        531,35\\r\\n                                    </td>\\r\\n                                </tr>\\r\\n                                <tr>\\r\\n                                    <td class=\"celda400\" vAlign=\"center\" align=\"right\" width=\"100\">\\r\\n                                        531,35\\r\\n                                    </td>\\r\\n                                </tr>\\r\\n                                <tr>\\r\\n                                    <td class=\"celda400\" vAlign=\"center\" align=\"right\" width=\"100\" bgColor=\"#DFEDFF\" style=\"color:Black\">\\r\\n                                        531,05\\r\\n                                    </td>\\r\\n                                </tr>\\r\\n                            </table>\\r\\n                        </td>\\r\\n                    </tr>\\r\\n                </table>\\r\\n            </td>\\r\\n        </tr>\\r\\n    <tr><td colSpan=\"3\"><table id=\"theTable2400\" border=\"0\" cellSpacing=\"0\" width=\"400\" cellPadding=\"0\">\\r\\n        <TR>\\r\\n            <TD><BR><span class=\"Fuente\">\\r\\n                <P>\\r\\n                     Fuente: Banco Central de Costa Rica<BR>\\r\\n                     <BR>\\r\\n                    <A name=\"Notas400\"></A> Notas:<BR>\\r\\n                     n1/ Hasta el 10-11-1983 corresponden al denominado Mercado Interbancario.<BR>\\r\\n                     n2/ Del 11-11-1983 al 1-03-1992 corresponden al denominado Mercado Libre Interbancario.<BR>\\r\\n                     n3/ A partir del 2-03-1992 entró en vigencia el denominado Tipo de Cambio de Referencia del Banco Central de Costa Rica.<BR>\\r\\n                     n4/ Para efectos del tipo de cambio expresado como promedio mensual, favor consultar la temática del Sector Externo, subtemática Tipo de Cambio y Mercado Cambiario<BR>\\r\\n                     n5/ Metodología para el cálculo del tipo de cambio de referencia (Artículo 9 del Reglamento para las operaciones cambiarias de contado)<BR>\\r\\n                   <BR>\\r\\n                </P>\\r\\n            </SPAN></TD>\\r\\n        </TR>\\r\\n        <TR>\\r\\n            <TD><BR>\\r\\n                <P class=\\'Texto\\'>\\r\\n                    &nbsp; Enlaces:<BR>\\r\\n                    &nbsp; <A HREF=\"https://gee.bccr.fi.cr/indicadoreseconomicos/IndicadoresEconomicos/frmEstructuraInformacion.aspx?idioma=1&codMenu=%204092\" target=\"_blank\"onclick=\"_gaq.push([\\'_trackPageview\\', \\'ENLACES/https://gee.bccr.fi.cr/indicadoreseconomicos/IndicadoresEconomicos/frmEstructuraInformacion.aspx?idioma=1&codMenu=%204092\\'])\">1/ Expectativas de mercado sobre variación cambiaria</A><BR>\\r\\n                    &nbsp; <A HREF=\"https://www.bccr.fi.cr/marco-legal/DocReglamento/Reglamento_Operaciones_Cambiarias_Contado_BCCR.pdf\" target=\"_blank\"onclick=\"_gaq.push([\\'_trackPageview\\', \\'ENLACES/https://www.bccr.fi.cr/marco-legal/DocReglamento/Reglamento_Operaciones_Cambiarias_Contado_BCCR.pdf\\'])\">2/ Metodología para el cálculo del tipo de cambio de referencia (Artículo 9 del Reglamento para las operaciones cambiarias de contado)</A><BR>\\r\\n                    &nbsp;<BR>\\r\\n                </P>\\r\\n            </TD>\\r\\n        </TR>\\r\\n    </table></td></tr>\\r\\n    </table>\\r\\n\\r\\n    <TABLE>\\r\\n        <TR><TD height=\"10pt\">&nbsp;</TD></TR>\\r\\n        <TR><TD class=\\'Texto\\'>Contactar con:     </TD><TD>&nbsp;</TD></TR>\\r\\n        <TR><TD class=\\'Texto\\'>&nbsp;&nbsp;&nbsp;&nbsp;&nbsp;<A HREF=\"mailto:atencionalcliente@bccr.fi.cr\" target=\"_blank\">Correo electronico: atencionalcliente@bccr.fi.cr, 2243-3333</A></TD><TD>&nbsp;</TD></TR>\\r\\n        <TR><TD height=\"10pt\">&nbsp;</TD></TR>\\r\\n<tr>\\r\\n  <td><table>\\r\\n    <tr>\\r\\n      <td height=\"10pt\"><table width=\"100%\" border=\"0\" cellspacing=\"0\" cellpadding=\"0\">\\r\\n        <tr>\\r\\n          <td bgcolor=\"#999999\"><img src=\"../flat/Rollover_Menu/spacer.gif\" width=\"1\" height=\"1\" /></td>\\r\\n        </tr>\\r\\n      </table></td>\\r\\n    </tr>\\r\\n        <TR bgcolor=\"white\">\\r\\n            <TD>\\r\\n                <TABLE cellSpacing=\"0\" cellPadding=\"0\">\\r\\n                    <TR vAlign=\"top\">\\r\\n                        <TD>&nbsp;<span class=\\'Texto\\'>&nbsp;Filtrar:</span>&nbsp;\\r\\n                        </TD>\\r\\n                        <TD>&nbsp;&nbsp;\\r\\n                            <select id=\"ddlFiltrar\" name=\"ddlFiltrar\">\\r\\n                                <option selected value=0>(Todos)</option>\\r\\n                                <option value=1>1 Ene</option>\\r\\n                                <option value=2>2 Ene</option>\\r\\n                                <option value=3>3 Ene</option>\\r\\n                                <option value=4>4 Ene</option>\\r\\n                                <option value=5>5 Ene</option>\\r\\n                                <option value=6>6 Ene</option>\\r\\n                                <option value=7>7 Ene</option>\\r\\n                                <option value=8>8 Ene</option>\\r\\n                                <option value=9>9 Ene</option>\\r\\n                                <option value=10>10 Ene</option>\\r\\n                                <option value=11>11 Ene</option>\\r\\n                                <option value=12>12 Ene</option>\\r\\n                                <option value=13>13 Ene</option>\\r\\n                                <option value=14>14 Ene</option>\\r\\n                                <option value=15>15 Ene</option>\\r\\n                                <option value=16>16 Ene</option>\\r\\n                                <option value=17>17 Ene</option>\\r\\n                                <option value=18>18 Ene</option>\\r\\n                                <option value=19>19 Ene</option>\\r\\n                                <option value=20>20 Ene</option>\\r\\n                                <option value=21>21 Ene</option>\\r\\n                                <option value=22>22 Ene</option>\\r\\n                                <option value=23>23 Ene</option>\\r\\n                                <option value=24>24 Ene</option>\\r\\n                                <option value=25>25 Ene</option>\\r\\n                                <option value=26>26 Ene</option>\\r\\n                                <option value=27>27 Ene</option>\\r\\n                                <option value=28>28 Ene</option>\\r\\n                                <option value=29>29 Ene</option>\\r\\n                                <option value=30>30 Ene</option>\\r\\n                                <option value=31>31 Ene</option>\\r\\n                                <option value=32>1 Feb</option>\\r\\n                                <option value=33>2 Feb</option>\\r\\n                                <option value=34>3 Feb</option>\\r\\n                                <option value=35>4 Feb</option>\\r\\n                                <option value=36>5 Feb</option>\\r\\n                                <option value=37>6 Feb</option>\\r\\n                                <option value=38>7 Feb</option>\\r\\n                                <option value=39>8 Feb</option>\\r\\n                                <option value=40>9 Feb</option>\\r\\n                                <option value=41>10 Feb</option>\\r\\n                                <option value=42>11 Feb</option>\\r\\n                                <option value=43>12 Feb</option>\\r\\n                                <option value=44>13 Feb</option>\\r\\n                                <option value=45>14 Feb</option>\\r\\n                                <option value=46>15 Feb</option>\\r\\n                                <option value=47>16 Feb</option>\\r\\n                                <option value=48>17 Feb</option>\\r\\n                                <option value=49>18 Feb</option>\\r\\n                                <option value=50>19 Feb</option>\\r\\n                                <option value=51>20 Feb</option>\\r\\n                                <option value=52>21 Feb</option>\\r\\n                                <option value=53>22 Feb</option>\\r\\n                                <option value=54>23 Feb</option>\\r\\n                                <option value=55>24 Feb</option>\\r\\n                                <option value=56>25 Feb</option>\\r\\n                                <option value=57>26 Feb</option>\\r\\n                                <option value=58>27 Feb</option>\\r\\n                                <option value=59>28 Feb</option>\\r\\n                                <option value=60>29 Feb</option>\\r\\n                                <option value=61>1 Mar</option>\\r\\n                                <option value=62>2 Mar</option>\\r\\n                                <option value=63>3 Mar</option>\\r\\n                                <option value=64>4 Mar</option>\\r\\n                                <option value=65>5 Mar</option>\\r\\n                                <option value=66>6 Mar</option>\\r\\n                                <option value=67>7 Mar</option>\\r\\n                                <option value=68>8 Mar</option>\\r\\n                                <option value=69>9 Mar</option>\\r\\n                                <option value=70>10 Mar</option>\\r\\n                                <option value=71>11 Mar</option>\\r\\n                                <option value=72>12 Mar</option>\\r\\n                                <option value=73>13 Mar</option>\\r\\n                                <option value=74>14 Mar</option>\\r\\n                                <option value=75>15 Mar</option>\\r\\n                                <option value=76>16 Mar</option>\\r\\n                                <option value=77>17 Mar</option>\\r\\n                                <option value=78>18 Mar</option>\\r\\n                                <option value=79>19 Mar</option>\\r\\n                                <option value=80>20 Mar</option>\\r\\n                                <option value=81>21 Mar</option>\\r\\n                                <option value=82>22 Mar</option>\\r\\n                                <option value=83>23 Mar</option>\\r\\n                                <option value=84>24 Mar</option>\\r\\n                                <option value=85>25 Mar</option>\\r\\n                                <option value=86>26 Mar</option>\\r\\n                                <option value=87>27 Mar</option>\\r\\n                                <option value=88>28 Mar</option>\\r\\n                                <option value=89>29 Mar</option>\\r\\n                                <option value=90>30 Mar</option>\\r\\n                                <option value=91>31 Mar</option>\\r\\n                                <option value=92>1 Abr</option>\\r\\n                                <option value=93>2 Abr</option>\\r\\n                                <option value=94>3 Abr</option>\\r\\n                                <option value=95>4 Abr</option>\\r\\n                                <option value=96>5 Abr</option>\\r\\n                                <option value=97>6 Abr</option>\\r\\n                                <option value=98>7 Abr</option>\\r\\n                                <option value=99>8 Abr</option>\\r\\n                                <option value=100>9 Abr</option>\\r\\n                                <option value=101>10 Abr</option>\\r\\n                                <option value=102>11 Abr</option>\\r\\n                                <option value=103>12 Abr</option>\\r\\n                                <option value=104>13 Abr</option>\\r\\n                                <option value=105>14 Abr</option>\\r\\n                                <option value=106>15 Abr</option>\\r\\n                                <option value=107>16 Abr</option>\\r\\n                                <option value=108>17 Abr</option>\\r\\n                                <option value=109>18 Abr</option>\\r\\n                                <option value=110>19 Abr</option>\\r\\n                                <option value=111>20 Abr</option>\\r\\n                                <option value=112>21 Abr</option>\\r\\n                                <option value=113>22 Abr</option>\\r\\n                                <option value=114>23 Abr</option>\\r\\n                                <option value=115>24 Abr</option>\\r\\n                                <option value=116>25 Abr</option>\\r\\n                                <option value=117>26 Abr</option>\\r\\n                                <option value=118>27 Abr</option>\\r\\n                                <option value=119>28 Abr</option>\\r\\n                                <option value=120>29 Abr</option>\\r\\n                                <option value=121>30 Abr</option>\\r\\n                                <option value=122>1 May</option>\\r\\n                                <option value=123>2 May</option>\\r\\n                                <option value=124>3 May</option>\\r\\n                                <option value=125>4 May</option>\\r\\n                                <option value=126>5 May</option>\\r\\n                                <option value=127>6 May</option>\\r\\n                                <option value=128>7 May</option>\\r\\n                                <option value=129>8 May</option>\\r\\n                                <option value=130>9 May</option>\\r\\n                                <option value=131>10 May</option>\\r\\n                                <option value=132>11 May</option>\\r\\n                                <option value=133>12 May</option>\\r\\n                                <option value=134>13 May</option>\\r\\n                                <option value=135>14 May</option>\\r\\n                                <option value=136>15 May</option>\\r\\n                                <option value=137>16 May</option>\\r\\n                                <option value=138>17 May</option>\\r\\n                                <option value=139>18 May</option>\\r\\n                                <option value=140>19 May</option>\\r\\n                                <option value=141>20 May</option>\\r\\n                                <option value=142>21 May</option>\\r\\n                                <option value=143>22 May</option>\\r\\n                                <option value=144>23 May</option>\\r\\n                                <option value=145>24 May</option>\\r\\n                                <option value=146>25 May</option>\\r\\n                                <option value=147>26 May</option>\\r\\n                                <option value=148>27 May</option>\\r\\n                                <option value=149>28 May</option>\\r\\n                                <option value=150>29 May</option>\\r\\n                                <option value=151>30 May</option>\\r\\n                                <option value=152>31 May</option>\\r\\n                                <option value=153>1 Jun</option>\\r\\n                                <option value=154>2 Jun</option>\\r\\n                                <option value=155>3 Jun</option>\\r\\n                                <option value=156>4 Jun</option>\\r\\n                                <option value=157>5 Jun</option>\\r\\n                                <option value=158>6 Jun</option>\\r\\n                                <option value=159>7 Jun</option>\\r\\n                                <option value=160>8 Jun</option>\\r\\n                                <option value=161>9 Jun</option>\\r\\n                                <option value=162>10 Jun</option>\\r\\n                                <option value=163>11 Jun</option>\\r\\n                                <option value=164>12 Jun</option>\\r\\n                                <option value=165>13 Jun</option>\\r\\n                                <option value=166>14 Jun</option>\\r\\n                                <option value=167>15 Jun</option>\\r\\n                                <option value=168>16 Jun</option>\\r\\n                                <option value=169>17 Jun</option>\\r\\n                                <option value=170>18 Jun</option>\\r\\n                                <option value=171>19 Jun</option>\\r\\n                                <option value=172>20 Jun</option>\\r\\n                                <option value=173>21 Jun</option>\\r\\n                                <option value=174>22 Jun</option>\\r\\n                                <option value=175>23 Jun</option>\\r\\n                                <option value=176>24 Jun</option>\\r\\n                                <option value=177>25 Jun</option>\\r\\n                                <option value=178>26 Jun</option>\\r\\n                                <option value=179>27 Jun</option>\\r\\n                                <option value=180>28 Jun</option>\\r\\n                                <option value=181>29 Jun</option>\\r\\n                                <option value=182>30 Jun</option>\\r\\n                                <option value=183>1 Jul</option>\\r\\n                                <option value=184>2 Jul</option>\\r\\n                                <option value=185>3 Jul</option>\\r\\n                                <option value=186>4 Jul</option>\\r\\n                                <option value=187>5 Jul</option>\\r\\n                                <option value=188>6 Jul</option>\\r\\n                                <option value=189>7 Jul</option>\\r\\n                                <option value=190>8 Jul</option>\\r\\n                                <option value=191>9 Jul</option>\\r\\n                                <option value=192>10 Jul</option>\\r\\n                                <option value=193>11 Jul</option>\\r\\n                                <option value=194>12 Jul</option>\\r\\n                                <option value=195>13 Jul</option>\\r\\n                                <option value=196>14 Jul</option>\\r\\n                                <option value=197>15 Jul</option>\\r\\n                                <option value=198>16 Jul</option>\\r\\n                                <option value=199>17 Jul</option>\\r\\n                                <option value=200>18 Jul</option>\\r\\n                                <option value=201>19 Jul</option>\\r\\n                                <option value=202>20 Jul</option>\\r\\n                                <option value=203>21 Jul</option>\\r\\n                                <option value=204>22 Jul</option>\\r\\n                                <option value=205>23 Jul</option>\\r\\n                                <option value=206>24 Jul</option>\\r\\n                                <option value=207>25 Jul</option>\\r\\n                                <option value=208>26 Jul</option>\\r\\n                                <option value=209>27 Jul</option>\\r\\n                                <option value=210>28 Jul</option>\\r\\n                                <option value=211>29 Jul</option>\\r\\n                                <option value=212>30 Jul</option>\\r\\n                                <option value=213>31 Jul</option>\\r\\n                                <option value=214>1 Ago</option>\\r\\n                                <option value=215>2 Ago</option>\\r\\n                                <option value=216>3 Ago</option>\\r\\n                                <option value=217>4 Ago</option>\\r\\n                                <option value=218>5 Ago</option>\\r\\n                                <option value=219>6 Ago</option>\\r\\n                                <option value=220>7 Ago</option>\\r\\n                                <option value=221>8 Ago</option>\\r\\n                                <option value=222>9 Ago</option>\\r\\n                                <option value=223>10 Ago</option>\\r\\n                                <option value=224>11 Ago</option>\\r\\n                                <option value=225>12 Ago</option>\\r\\n                                <option value=226>13 Ago</option>\\r\\n                                <option value=227>14 Ago</option>\\r\\n                                <option value=228>15 Ago</option>\\r\\n                                <option value=229>16 Ago</option>\\r\\n                                <option value=230>17 Ago</option>\\r\\n                                <option value=231>18 Ago</option>\\r\\n                                <option value=232>19 Ago</option>\\r\\n                                <option value=233>20 Ago</option>\\r\\n                                <option value=234>21 Ago</option>\\r\\n                                <option value=235>22 Ago</option>\\r\\n                                <option value=236>23 Ago</option>\\r\\n                                <option value=237>24 Ago</option>\\r\\n                                <option value=238>25 Ago</option>\\r\\n                                <option value=239>26 Ago</option>\\r\\n                                <option value=240>27 Ago</option>\\r\\n                                <option value=241>28 Ago</option>\\r\\n                                <option value=242>29 Ago</option>\\r\\n                                <option value=243>30 Ago</option>\\r\\n                                <option value=244>31 Ago</option>\\r\\n                                <option value=245>1 Set</option>\\r\\n                                <option value=246>2 Set</option>\\r\\n                                <option value=247>3 Set</option>\\r\\n                                <option value=248>4 Set</option>\\r\\n                                <option value=249>5 Set</option>\\r\\n                                <option value=250>6 Set</option>\\r\\n                                <option value=251>7 Set</option>\\r\\n                                <option value=252>8 Set</option>\\r\\n                                <option value=253>9 Set</option>\\r\\n                                <option value=254>10 Set</option>\\r\\n                                <option value=255>11 Set</option>\\r\\n                                <option value=256>12 Set</option>\\r\\n                                <option value=257>13 Set</option>\\r\\n                                <option value=258>14 Set</option>\\r\\n                                <option value=259>15 Set</option>\\r\\n                                <option value=260>16 Set</option>\\r\\n                                <option value=261>17 Set</option>\\r\\n                                <option value=262>18 Set</option>\\r\\n                                <option value=263>19 Set</option>\\r\\n                                <option value=264>20 Set</option>\\r\\n                                <option value=265>21 Set</option>\\r\\n                                <option value=266>22 Set</option>\\r\\n                                <option value=267>23 Set</option>\\r\\n                                <option value=268>24 Set</option>\\r\\n                                <option value=269>25 Set</option>\\r\\n                                <option value=270>26 Set</option>\\r\\n                                <option value=271>27 Set</option>\\r\\n                                <option value=272>28 Set</option>\\r\\n                                <option value=273>29 Set</option>\\r\\n                                <option value=274>30 Set</option>\\r\\n                                <option value=275>1 Oct</option>\\r\\n                                <option value=276>2 Oct</option>\\r\\n                                <option value=277>3 Oct</option>\\r\\n                                <option value=278>4 Oct</option>\\r\\n                                <option value=279>5 Oct</option>\\r\\n                                <option value=280>6 Oct</option>\\r\\n                                <option value=281>7 Oct</option>\\r\\n                                <option value=282>8 Oct</option>\\r\\n                                <option value=283>9 Oct</option>\\r\\n                                <option value=284>10 Oct</option>\\r\\n                                <option value=285>11 Oct</option>\\r\\n                                <option value=286>12 Oct</option>\\r\\n                                <option value=287>13 Oct</option>\\r\\n                                <option value=288>14 Oct</option>\\r\\n                                <option value=289>15 Oct</option>\\r\\n                                <option value=290>16 Oct</option>\\r\\n                                <option value=291>17 Oct</option>\\r\\n                                <option value=292>18 Oct</option>\\r\\n                                <option value=293>19 Oct</option>\\r\\n                                <option value=294>20 Oct</option>\\r\\n                                <option value=295>21 Oct</option>\\r\\n                                <option value=296>22 Oct</option>\\r\\n                                <option value=297>23 Oct</option>\\r\\n                                <option value=298>24 Oct</option>\\r\\n                                <option value=299>25 Oct</option>\\r\\n                                <option value=300>26 Oct</option>\\r\\n                                <option value=301>27 Oct</option>\\r\\n                                <option value=302>28 Oct</option>\\r\\n                                <option value=303>29 Oct</option>\\r\\n                                <option value=304>30 Oct</option>\\r\\n                                <option value=305>31 Oct</option>\\r\\n                                <option value=306>1 Nov</option>\\r\\n                                <option value=307>2 Nov</option>\\r\\n                                <option value=308>3 Nov</option>\\r\\n                                <option value=309>4 Nov</option>\\r\\n                                <option value=310>5 Nov</option>\\r\\n                                <option value=311>6 Nov</option>\\r\\n                                <option value=312>7 Nov</option>\\r\\n                                <option value=313>8 Nov</option>\\r\\n                                <option value=314>9 Nov</option>\\r\\n                                <option value=315>10 Nov</option>\\r\\n                                <option value=316>11 Nov</option>\\r\\n                                <option value=317>12 Nov</option>\\r\\n                                <option value=318>13 Nov</option>\\r\\n                                <option value=319>14 Nov</option>\\r\\n                                <option value=320>15 Nov</option>\\r\\n                                <option value=321>16 Nov</option>\\r\\n                                <option value=322>17 Nov</option>\\r\\n                                <option value=323>18 Nov</option>\\r\\n                                <option value=324>19 Nov</option>\\r\\n                                <option value=325>20 Nov</option>\\r\\n                                <option value=326>21 Nov</option>\\r\\n                                <option value=327>22 Nov</option>\\r\\n                                <option value=328>23 Nov</option>\\r\\n                                <option value=329>24 Nov</option>\\r\\n                                <option value=330>25 Nov</option>\\r\\n                                <option value=331>26 Nov</option>\\r\\n                                <option value=332>27 Nov</option>\\r\\n                                <option value=333>28 Nov</option>\\r\\n                                <option value=334>29 Nov</option>\\r\\n                                <option value=335>30 Nov</option>\\r\\n                                <option value=336>1 Dic</option>\\r\\n                                <option value=337>2 Dic</option>\\r\\n                                <option value=338>3 Dic</option>\\r\\n                                <option value=339>4 Dic</option>\\r\\n                                <option value=340>5 Dic</option>\\r\\n                                <option value=341>6 Dic</option>\\r\\n                                <option value=342>7 Dic</option>\\r\\n                                <option value=343>8 Dic</option>\\r\\n                                <option value=344>9 Dic</option>\\r\\n                                <option value=345>10 Dic</option>\\r\\n                                <option value=346>11 Dic</option>\\r\\n                                <option value=347>12 Dic</option>\\r\\n                                <option value=348>13 Dic</option>\\r\\n                                <option value=349>14 Dic</option>\\r\\n                                <option value=350>15 Dic</option>\\r\\n                                <option value=351>16 Dic</option>\\r\\n                                <option value=352>17 Dic</option>\\r\\n                                <option value=353>18 Dic</option>\\r\\n                                <option value=354>19 Dic</option>\\r\\n                                <option value=355>20 Dic</option>\\r\\n                                <option value=356>21 Dic</option>\\r\\n                                <option value=357>22 Dic</option>\\r\\n                                <option value=358>23 Dic</option>\\r\\n                                <option value=359>24 Dic</option>\\r\\n                                <option value=360>25 Dic</option>\\r\\n                                <option value=361>26 Dic</option>\\r\\n                                <option value=362>27 Dic</option>\\r\\n                                <option value=363>28 Dic</option>\\r\\n                                <option value=364>29 Dic</option>\\r\\n                                <option value=365>30 Dic</option>\\r\\n                                <option value=366>31 Dic</option>\\r\\n                            </select>\\r\\n                        &nbsp;</TD>\\r\\n                        <TD class=\\'Texto\\'>&nbsp;&nbsp;Desde&nbsp;\\r\\n                        </TD>\\r\\n                        <TD width=\"80px\"><input style=\"WIDTH: 80px\" id=\"tbFecIni\" onblur=\"check_date(this);\" type=\"text\" name=\"tbFecIni\" runat=\"server\" value=\"01/01/1983\">\\r\\n                            <SMALL class=\"Notas\">dd/MM/aaaa</SMALL>\\r\\n                        </TD>\\r\\n                            <TD><a DISABLED href= \"\" onclick=\"return PopUpDate(\\'tbFecIni\\', \\'1\\')\">\\r\\n                                <img src=\"/indicadoreseconomicos\\\\Imagenes\\\\icon_mview.gif\" border=0 Name=\"imgpicker_tbFecIni\" DISABLED alt=\"Escoger fecha inicial\"></a>\\r\\n                        </TD>\\r\\n                        <TD  class=\\'Texto\\'>&nbsp;&nbsp;&nbsp;Hasta&nbsp;\\r\\n                        </TD>\\r\\n                        <TD width=\"80px\"><input style=\"WIDTH: 80px\" id=\"tbFecFin\" onblur=\"check_date(this);\" type=\"text\" name=\"tbFecFin\" runat=\"server\" value=\"23/07/2024\">\\r\\n                            <SMALL class=\"Notas\">dd/MM/aaaa</SMALL>\\r\\n                        </TD>\\r\\n                        <TD>\\r\\n                            <a DISABLED href= \"\" onclick=\"return PopUpDate(\\'tbFecFin\\', \\'1\\')\">\\r\\n                                <img src=\"/indicadoreseconomicos\\\\Imagenes\\\\icon_mview.gif\" border=0 Name=\"imgpicker_tbFecFin\" DISABLED alt=\"Escoger fecha final\"></a>\\r\\n                        </TD>\\r\\n                        <TD>&nbsp;&nbsp;</TD>\\r\\n                        <TD onclick=\"js_go();\"><IMG onmouseover=\"this.src = \\'/indicadoreseconomicos\\\\\\\\Imagenes\\\\\\\\dbir_off.gif\\'; this.style.cursor = \\'pointer\\';\" onclick=\"js_go();\" onmouseout=\"this.src = \\'/indicadoreseconomicos\\\\\\\\Imagenes\\\\\\\\dbir_off.gif\\'; this.style.cursor = \\'default\\';\" height=\"18\" alt=\"Aplicar filtro de fechas\" src=\"/indicadoreseconomicos\\\\Imagenes\\\\dbir_off.gif\" width=\"24\" border=\"0\">\\r\\n                        </TD>\\r\\n                        <TD>&nbsp;&nbsp;&nbsp;&nbsp; \\r\\n                        </TD>\\r\\n                        <TD >&nbsp;&nbsp;&nbsp;&nbsp; \\r\\n                        </TD>\\r\\n                        <TD>&nbsp;&nbsp;&nbsp;&nbsp; \\r\\n                        </TD>\\r\\n                        <TD>&nbsp;&nbsp;&nbsp;&nbsp; \\r\\n                        </TD>\\r\\n                        <TD><IMG onmouseover=\"this.src = \\'/indicadoreseconomicos\\\\\\\\Imagenes\\\\\\\\bexport_on.gif\\'; this.style.cursor = \\'pointer\\';\" onclick=\"js_doExport();\" onmouseout=\"this.src = \\'/indicadoreseconomicos\\\\\\\\Imagenes\\\\\\\\bexport_off.gif\\'; this.style.cursor = \\'default\\';\" height=\"27\" alt=\"Exportar datos a Excel\" src=\"/indicadoreseconomicos\\\\Imagenes\\\\bexport_off.gif\" width=\"38\" border=\"0\">\\r\\n                        </TD>\\r\\n                    </TR>\\r\\n                </TABLE>\\r\\n            </TD>\\r\\n        </TR>\\r\\n        <TR>\\r\\n           <TD height=\\'10pt\\'>\\r\\n               <TABLE width=\\'100%\\' border=\\'0\\' cellspacing=\\'0\\' cellpadding=\\'0\\'>\\r\\n                   <TR>\\r\\n                       <TD width=\\'20%\\' align=\"left\" valign=\"top\"></TD>\\r\\n                       <TD width=\\'20%\\' align=\"left\" valign=\"top\"><IMG onmouseover=\"this.src = \\'/indicadoreseconomicos\\\\\\\\Imagenes\\\\\\\\bfirst_on.gif\\'; this.style.cursor = \\'pointer\\';\" onclick=\"js_doGoFirst();\" onmouseout=\"this.src = \\'/indicadoreseconomicos\\\\\\\\Imagenes\\\\\\\\bfirst_off.gif\\'; this.style.cursor = \\'default\\';\" alt=\"Ir al primer grupo de periodos\" src=\"/indicadoreseconomicos\\\\Imagenes\\\\bfirst_off.gif\" width=\"18\" height=\"18\" border=\"0\">\\r\\n                       </TD>\\r\\n                       <TD width=\\'20%\\' align=\"left\" valign=\"top\" onclick=\"js_doGoBack();\"><IMG onmouseover=\"this.src = \\'/indicadoreseconomicos\\\\\\\\Imagenes\\\\\\\\bprevious_on.gif\\'; this.style.cursor = \\'pointer\\';\" onclick=\"js_doGoBack();\" onmouseout=\"this.src = \\'/indicadoreseconomicos\\\\\\\\Imagenes\\\\\\\\bprevious_off.gif\\'; this.style.cursor = \\'default\\';\" alt=\"Ir al grupo de periodos anterior\" src=\"/indicadoreseconomicos\\\\Imagenes\\\\bprevious_off.gif\" width=\"18\" height=\"18\" border=\"0\">\\r\\n                       </TD>\\r\\n                       <TD width=\\'20%\\' align=\"left\" valign=\"top\"><IMG onmouseover=\"this.src = \\'/indicadoreseconomicos\\\\\\\\Imagenes\\\\\\\\bnext_on.gif\\'; this.style.cursor = \\'pointer\\';\" onclick=\"js_doGoNext();\" onmouseout=\"this.src = \\'/indicadoreseconomicos\\\\\\\\Imagenes\\\\\\\\bnext_off.gif\\'; this.style.cursor = \\'default\\';\" alt=\"Ir al grupo de periodos siguiente\" src=\"/indicadoreseconomicos\\\\Imagenes\\\\bnext_off.gif\" width=\"18\" height=\"18\" border=\"0\">\\r\\n                       </TD>\\r\\n                       <TD width=\\'20\\'align=\"left\" valign=\"top\"><IMG onmouseover=\"this.src = \\'/indicadoreseconomicos\\\\\\\\Imagenes\\\\\\\\blast_on.gif\\'; this.style.cursor = \\'pointer\\';\" onclick=\"js_doGoLast();\" onmouseout=\"this.src = \\'/indicadoreseconomicos\\\\\\\\Imagenes\\\\\\\\blast_off.gif\\'; this.style.cursor = \\'default\\';\" alt=\"Ir al último grupo de periodos\" src=\"/indicadoreseconomicos\\\\Imagenes\\\\blast_off.gif\" width=\"18\" height=\"18\" border=\"0\">\\r\\n                       </TD>\\r\\n                   </TR>\\r\\n               </TABLE>\\r\\n           </TD>\\r\\n       </TR>\\r\\n        <TR><TD height=\"10pt\">&nbsp;</TD></TR>\\r\\n        <TR>\\r\\n            <TD colspan=\"4\">\\r\\n    <TABLE width=\"100%\">\\r\\n        <TR>\\r\\n            <TD width=\"39%\">\\r\\n                <a id=\"HyperLink4\" href=\"/indicadoreseconomicos/cuadros/frmvercatcuadro.aspx?idioma=2&codcuadro=+400\" style=\"color:SteelBlue;font-family:Arial;font-size:XX-Small;\">English Version</a>\\r\\n            </TD>\\r\\n            <TD align=\"right\" width=\"61%\">\\r\\n                <input name=\"txtPalabras\" type=\"text\" id=\"txtPalabras\" style=\"border-color:SteelBlue;border-width:1px;border-style:solid;height:22px;width:130px;\" />&nbsp;\\r\\n                <IMG onmouseover=\"this.style.cursor = \\'hand\\';\" onclick=\"js_doGoSearch(\\'1\\');\" onmouseout=\"this.style.cursor = \\'default\\';\" alt=\"\" src=\"/indicadoreseconomicos/Imagenes/dbir.gif\" border=\"0\">\\r\\n                <IMG onmouseover=\"this.style.cursor = \\'hand\\';\" onclick=\"window.open(\\'../Busquedas/frmBusquedas.aspx\\', \\'_self\\');\" onmouseout=\"this.style.cursor = \\'default\\';\" alt=\"\" src=\"/indicadoreseconomicos/Imagenes/dbbusquedaavanzada.gif\" border=\"0\">\\r\\n            </TD>\\r\\n        </TR>\\r\\n    </TABLE>\\r\\n            </TD>\\r\\n        </TR>\\r\\n    </TABLE>\\r\\n\\r\\n    <input id=\"tbK\" style=\"LEFT: -100px; POSITION: absolute; TOP: -100px\" type=\"text\" name=\"tbK\" runat=\"server\" value=\"507\">\\r\\n    <input id=\"tbI\" style=\"LEFT: -100px; POSITION: absolute; TOP: -100px\" type=\"text\" name=\"tbI\" runat=\"server\" value=\"0\">\\r\\n</form>\\r\\n</body>\\r\\n<script language=\"javascript\">\\r\\n</script>\\r\\n</HTML>\\r\\n'"
            ]
          },
          "execution_count": 71,
          "metadata": {},
          "output_type": "execute_result"
        }
      ],
      "source": [
        "page_request.text"
      ]
    },
    {
      "cell_type": "code",
      "execution_count": 72,
      "metadata": {
        "colab": {
          "base_uri": "https://localhost:8080/"
        },
        "id": "IrCYlTSDCe9m",
        "outputId": "211966f0-5869-4abb-9316-472373b6c7a7"
      },
      "outputs": [
        {
          "name": "stdout",
          "output_type": "stream",
          "text": [
            "Success! 200\n"
          ]
        }
      ],
      "source": [
        "# Validating that request made to website page was responsive\n",
        "# If yes, then generate the soup object.  If not, print an error\n",
        "\n",
        "if page_request.status_code == 200:\n",
        "    print('Success!',page_request.status_code)\n",
        "    # page_soup = bs(page_request.text, 'html.parser')\n",
        "    page_soup = bs(page_request.text, 'html5lib')  #project went better with this one\n",
        "    # page_soup = bs(page_request.text, 'lxml')\n",
        "elif page.status_code != 200:\n",
        "    print('Not Found. Status code was: ', page_request.status_code)"
      ]
    },
    {
      "cell_type": "markdown",
      "metadata": {
        "id": "lpedJlPLJrS0"
      },
      "source": [
        "The table with whe dollar exchange data is defined by\n",
        "\n",
        "\\<table border=\"0\" cellpadding=\"0\" cellspacing=\"0\" id=\"theTable400\" width=\"400\">"
      ]
    },
    {
      "cell_type": "code",
      "execution_count": 73,
      "metadata": {
        "id": "cEdrSlbnFIDY"
      },
      "outputs": [],
      "source": [
        "# page_soup"
      ]
    },
    {
      "cell_type": "code",
      "execution_count": 74,
      "metadata": {
        "collapsed": true,
        "id": "7yHj7bkPKj7q"
      },
      "outputs": [],
      "source": [
        "# Extracting the main table\n",
        "# As per the inspection, the distinctive id of the needed table is table id=\"theTable400\"\n",
        "\n",
        "dollar_exch_table = page_soup.find('table', attrs={'id': 'theTable400'})\n",
        "# dollar_exch_table"
      ]
    },
    {
      "cell_type": "code",
      "execution_count": 75,
      "metadata": {
        "id": "vSAi7AYEvn9V"
      },
      "outputs": [],
      "source": [
        "# The main table is made up of 3 rows (tr):\n",
        "# 1: table headers\n",
        "# 2: the actual data\n",
        "# 3: some notes from the bank, not needed for this project"
      ]
    },
    {
      "cell_type": "code",
      "execution_count": 76,
      "metadata": {
        "colab": {
          "base_uri": "https://localhost:8080/"
        },
        "id": "WyxYL8t-VjzK",
        "outputId": "434c0372-0c3a-4662-f689-42ad225028ab"
      },
      "outputs": [
        {
          "data": {
            "text/plain": [
              "<tr>\n",
              "            <td height=\"100%\" width=\"200\">\n",
              "                <table border=\"0\" cellpadding=\"0\" cellspacing=\"0\" height=\"100%\" width=\"200\">\n",
              "                    <tbody><tr style=\"background-color:#0C365E\">\n",
              "                        <td class=\"frame400\"> \n",
              "                        </td>\n",
              "                    </tr>\n",
              "                </tbody></table>\n",
              "            </td>\n",
              "            <td align=\"center\" bgcolor=\"#0C365E\" class=\"frame400\" height=\"100%\" id=\"leaves400\" isleaf=\"true\" parentidx=\"td_0\" style=\"color:white\" valign=\"center\" width=\"100\">\n",
              "                TIPO CAMBIO COMPRA  \n",
              "            </td>\n",
              "            <td align=\"center\" bgcolor=\"#0C365E\" class=\"frame400\" height=\"100%\" id=\"leaves400\" isleaf=\"true\" parentidx=\"td_0\" style=\"color:white\" valign=\"center\" width=\"100\">\n",
              "                TIPO DE CAMBIO VENTA  \n",
              "            </td>\n",
              "        </tr>"
            ]
          },
          "execution_count": 76,
          "metadata": {},
          "output_type": "execute_result"
        }
      ],
      "source": [
        "# Extracting table headers\n",
        "\n",
        "hrdrs_tags = dollar_exch_table.find_all('tr')[0]\n",
        "hrdrs_tags"
      ]
    },
    {
      "cell_type": "code",
      "execution_count": 77,
      "metadata": {
        "colab": {
          "base_uri": "https://localhost:8080/"
        },
        "id": "tRAcpUEtbNHY",
        "outputId": "4adf866a-71fb-4229-a2be-f3d7f440f93e"
      },
      "outputs": [
        {
          "data": {
            "text/plain": [
              "[<td align=\"center\" bgcolor=\"#0C365E\" class=\"frame400\" height=\"100%\" id=\"leaves400\" isleaf=\"true\" parentidx=\"td_0\" style=\"color:white\" valign=\"center\" width=\"100\">\n",
              "                 TIPO CAMBIO COMPRA  \n",
              "             </td>,\n",
              " <td align=\"center\" bgcolor=\"#0C365E\" class=\"frame400\" height=\"100%\" id=\"leaves400\" isleaf=\"true\" parentidx=\"td_0\" style=\"color:white\" valign=\"center\" width=\"100\">\n",
              "                 TIPO DE CAMBIO VENTA  \n",
              "             </td>]"
            ]
          },
          "execution_count": 77,
          "metadata": {},
          "output_type": "execute_result"
        }
      ],
      "source": [
        "# This tr above has 3 td on the inside.  The first one should say \"dates\" , but instead it has an empty table...\n",
        "# So we will ignore that one and get just the other two, and those have a distinctive  id=\"leaves400\"\n",
        "\n",
        "hrdrs_tags.find_all('td' , attrs={'id': 'leaves400'})"
      ]
    },
    {
      "cell_type": "code",
      "execution_count": 78,
      "metadata": {
        "colab": {
          "base_uri": "https://localhost:8080/"
        },
        "id": "_xOpldT-V8bk",
        "outputId": "23b367ec-6fed-4882-db1a-de515132cdd8"
      },
      "outputs": [
        {
          "data": {
            "text/plain": [
              "['date', 'TIPO CAMBIO COMPRA', 'TIPO DE CAMBIO VENTA']"
            ]
          },
          "execution_count": 78,
          "metadata": {},
          "output_type": "execute_result"
        }
      ],
      "source": [
        "hdrs_list = ['date'] #initiating the headers list with the missing data header\n",
        "for item in hrdrs_tags.find_all('td' , attrs={'id': 'leaves400'}) :\n",
        "  hdrs_row = item.text.strip()\n",
        "  # print(hdrs_row)\n",
        "  hdrs_list.append(hdrs_row)\n",
        "\n",
        "hdrs_list"
      ]
    },
    {
      "cell_type": "code",
      "execution_count": 79,
      "metadata": {
        "id": "pVo-qcTyVnre"
      },
      "outputs": [],
      "source": [
        "# Extracting data\n",
        "\n",
        "# Going back to the main table, notice that second tr contains all the rest of the data, in table tags.\n",
        "# Data is stored in columns.  Upon inspection, and by checking the 5 indexes of the table below the tr[2],\n",
        "# Is is found that index 0 contains the dates, 1 and 2 are identical and contain the dollar buy price, and\n",
        "# 3 and 4 contain the dollar sale price.\n",
        "# Indexes 0, 1 and 3 are chosen then"
      ]
    },
    {
      "cell_type": "code",
      "execution_count": 80,
      "metadata": {
        "colab": {
          "base_uri": "https://localhost:8080/"
        },
        "id": "jxJG_ba_cDoH",
        "outputId": "fffee830-a265-4654-b9c6-98f3c4254639"
      },
      "outputs": [
        {
          "data": {
            "text/plain": [
              "[<td bgcolor=\"#DFEDFF\" class=\"celda400\" style=\"color:Black\">\n",
              "                             21 Jul 2024\n",
              "                         </td>,\n",
              " <td class=\"celda400\">\n",
              "                             22 Jul 2024\n",
              "                         </td>,\n",
              " <td bgcolor=\"#DFEDFF\" class=\"celda400\" style=\"color:Black\">\n",
              "                             23 Jul 2024\n",
              "                         </td>]"
            ]
          },
          "execution_count": 80,
          "metadata": {},
          "output_type": "execute_result"
        }
      ],
      "source": [
        "# dates\n",
        "dollar_exch_table.find_all('tr')[2].find_all('table')[0].find_all('td')[-3:]"
      ]
    },
    {
      "cell_type": "code",
      "execution_count": 81,
      "metadata": {
        "colab": {
          "base_uri": "https://localhost:8080/"
        },
        "id": "xUUoPc3WcwCa",
        "outputId": "30c7adb5-56cb-4721-e2bf-8172b3ca946f"
      },
      "outputs": [
        {
          "data": {
            "text/plain": [
              "(30, ['21 Jul 2024', '22 Jul 2024', '23 Jul 2024'])"
            ]
          },
          "execution_count": 81,
          "metadata": {},
          "output_type": "execute_result"
        }
      ],
      "source": [
        "dates_list = []\n",
        "for item in dollar_exch_table.find_all('tr')[2].find_all('table')[0].find_all('td',{'class':'celda400'}):\n",
        "  dates_list.append(item.text.strip())\n",
        "# count of items, and a tail sample of the dates list\n",
        "len(dates_list) , dates_list[-3:]"
      ]
    },
    {
      "cell_type": "code",
      "execution_count": 82,
      "metadata": {
        "colab": {
          "base_uri": "https://localhost:8080/"
        },
        "collapsed": true,
        "id": "GOQLxpXZDLdb",
        "outputId": "fb213429-3370-4602-a2ed-188550b6afce"
      },
      "outputs": [
        {
          "data": {
            "text/plain": [
              "[<td align=\"right\" bgcolor=\"#DFEDFF\" class=\"celda400\" style=\"color:Black\" valign=\"center\" width=\"100\">\n",
              "                                         525,53\n",
              "                                     </td>,\n",
              " <td align=\"right\" class=\"celda400\" valign=\"center\" width=\"100\">\n",
              "                                         525,53\n",
              "                                     </td>,\n",
              " <td align=\"right\" bgcolor=\"#DFEDFF\" class=\"celda400\" style=\"color:Black\" valign=\"center\" width=\"100\">\n",
              "                                         525,60\n",
              "                                     </td>]"
            ]
          },
          "execution_count": 82,
          "metadata": {},
          "output_type": "execute_result"
        }
      ],
      "source": [
        "# dollar buy price\n",
        "dollar_exch_table.find_all('tr')[2].find_all('table')[1].find_all('td',{'class':'celda400'})[-3:]"
      ]
    },
    {
      "cell_type": "code",
      "execution_count": 83,
      "metadata": {
        "colab": {
          "base_uri": "https://localhost:8080/"
        },
        "id": "AM1DPrQZeyMQ",
        "outputId": "06c57d97-4fba-423b-f50d-3a38ce42e0dc"
      },
      "outputs": [
        {
          "data": {
            "text/plain": [
              "(30, [np.float16(525.5), np.float16(525.5), np.float16(525.5)])"
            ]
          },
          "execution_count": 83,
          "metadata": {},
          "output_type": "execute_result"
        }
      ],
      "source": [
        "dollar_buy_list = []\n",
        "for item in dollar_exch_table.find_all('tr')[2].find_all('table')[1].find_all('td',{'class':'celda400'}):\n",
        "#fixing the comma used as decimal point from here  , and converting str to float16\n",
        "  dollar_buy_list.append(  np.float16 ( item.text.strip().replace(',','.') )  )\n",
        "\n",
        "# count of items, and a tail sample of dollar_buy_list\n",
        "len(dollar_buy_list) , dollar_buy_list[-3:]"
      ]
    },
    {
      "cell_type": "code",
      "execution_count": 84,
      "metadata": {
        "colab": {
          "base_uri": "https://localhost:8080/"
        },
        "collapsed": true,
        "id": "6krUZ7flEgQC",
        "outputId": "c2ac37b4-1a8c-4612-be64-2e6a4ddca204"
      },
      "outputs": [
        {
          "data": {
            "text/plain": [
              "[<td align=\"right\" bgcolor=\"#DFEDFF\" class=\"celda400\" style=\"color:Black\" valign=\"center\" width=\"100\">\n",
              "                                         531,35\n",
              "                                     </td>,\n",
              " <td align=\"right\" class=\"celda400\" valign=\"center\" width=\"100\">\n",
              "                                         531,35\n",
              "                                     </td>,\n",
              " <td align=\"right\" bgcolor=\"#DFEDFF\" class=\"celda400\" style=\"color:Black\" valign=\"center\" width=\"100\">\n",
              "                                         531,05\n",
              "                                     </td>]"
            ]
          },
          "execution_count": 84,
          "metadata": {},
          "output_type": "execute_result"
        }
      ],
      "source": [
        "# dollar sale price\n",
        "dollar_exch_table.find_all('tr')[2].find_all('table')[3].find_all('td',{'class':'celda400'})[-3:]"
      ]
    },
    {
      "cell_type": "code",
      "execution_count": 85,
      "metadata": {
        "colab": {
          "base_uri": "https://localhost:8080/"
        },
        "id": "VrTvygYZfdI_",
        "outputId": "c11bec47-ae0e-4b0c-a52b-954639d53e43"
      },
      "outputs": [
        {
          "data": {
            "text/plain": [
              "(30, [np.float16(531.5), np.float16(531.5), np.float16(531.0)])"
            ]
          },
          "execution_count": 85,
          "metadata": {},
          "output_type": "execute_result"
        }
      ],
      "source": [
        "dollar_sale_list = []\n",
        "for item in dollar_exch_table.find_all('tr')[2].find_all('table')[3].find_all('td',{'class':'celda400'}):\n",
        "#fixing the comma used as decimal point from here  , and converting str to float16\n",
        "  dollar_sale_list.append(  np.float16 ( item.text.strip().replace(',','.') )  )\n",
        "# count of items, and a tail sample of dollar_sale_list\n",
        "len(dollar_sale_list) , dollar_sale_list[-3:]"
      ]
    },
    {
      "cell_type": "markdown",
      "metadata": {
        "id": "6ILMtR88f5jV"
      },
      "source": [
        "### Building the dataframe using the extracted data"
      ]
    },
    {
      "cell_type": "code",
      "execution_count": 86,
      "metadata": {
        "colab": {
          "base_uri": "https://localhost:8080/"
        },
        "id": "fl0Vzw3tnmV-",
        "outputId": "21261f60-1f61-4357-eef8-ad93cda2f89c"
      },
      "outputs": [
        {
          "data": {
            "text/plain": [
              "[('24 Jun 2024', np.float16(520.5), np.float16(526.5)),\n",
              " ('25 Jun 2024', np.float16(522.5), np.float16(527.5)),\n",
              " ('26 Jun 2024', np.float16(520.5), np.float16(525.0))]"
            ]
          },
          "execution_count": 86,
          "metadata": {},
          "output_type": "execute_result"
        }
      ],
      "source": [
        "# First lets unify the date and exchange lists into a single table\n",
        "# Above it was ensured that the lists all have the same lenght, in this case, 30.\n",
        "\n",
        "list(zip(dates_list , dollar_buy_list , dollar_sale_list))[:3]"
      ]
    },
    {
      "cell_type": "code",
      "execution_count": 87,
      "metadata": {
        "id": "H-n5jCG2nY7Z"
      },
      "outputs": [],
      "source": [
        "# Looks good, saving it into an array\n",
        "dollar_exchange_array = list(zip(dates_list , dollar_buy_list , dollar_sale_list))"
      ]
    },
    {
      "cell_type": "code",
      "execution_count": 88,
      "metadata": {
        "colab": {
          "base_uri": "https://localhost:8080/",
          "height": 143
        },
        "id": "QE_HIZ7wq0NM",
        "outputId": "c5b4d3e2-87dc-4a63-cff5-e6ec5f94d14d"
      },
      "outputs": [
        {
          "data": {
            "text/html": [
              "<div>\n",
              "<style scoped>\n",
              "    .dataframe tbody tr th:only-of-type {\n",
              "        vertical-align: middle;\n",
              "    }\n",
              "\n",
              "    .dataframe tbody tr th {\n",
              "        vertical-align: top;\n",
              "    }\n",
              "\n",
              "    .dataframe thead th {\n",
              "        text-align: right;\n",
              "    }\n",
              "</style>\n",
              "<table border=\"1\" class=\"dataframe\">\n",
              "  <thead>\n",
              "    <tr style=\"text-align: right;\">\n",
              "      <th></th>\n",
              "      <th>date</th>\n",
              "      <th>TIPO CAMBIO COMPRA</th>\n",
              "      <th>TIPO DE CAMBIO VENTA</th>\n",
              "    </tr>\n",
              "  </thead>\n",
              "  <tbody>\n",
              "    <tr>\n",
              "      <th>27</th>\n",
              "      <td>21 Jul 2024</td>\n",
              "      <td>525.50</td>\n",
              "      <td>531.50</td>\n",
              "    </tr>\n",
              "    <tr>\n",
              "      <th>28</th>\n",
              "      <td>22 Jul 2024</td>\n",
              "      <td>525.50</td>\n",
              "      <td>531.50</td>\n",
              "    </tr>\n",
              "    <tr>\n",
              "      <th>29</th>\n",
              "      <td>23 Jul 2024</td>\n",
              "      <td>525.50</td>\n",
              "      <td>531.00</td>\n",
              "    </tr>\n",
              "  </tbody>\n",
              "</table>\n",
              "</div>"
            ],
            "text/plain": [
              "           date  TIPO CAMBIO COMPRA  TIPO DE CAMBIO VENTA\n",
              "27  21 Jul 2024              525.50                531.50\n",
              "28  22 Jul 2024              525.50                531.50\n",
              "29  23 Jul 2024              525.50                531.00"
            ]
          },
          "execution_count": 88,
          "metadata": {},
          "output_type": "execute_result"
        }
      ],
      "source": [
        "# First test to see how df is seen\n",
        "pd.DataFrame(dollar_exchange_array, columns=hdrs_list).tail(3)"
      ]
    },
    {
      "cell_type": "code",
      "execution_count": 89,
      "metadata": {
        "colab": {
          "base_uri": "https://localhost:8080/",
          "height": 175
        },
        "id": "u5txzCacsT9y",
        "outputId": "54468dca-d4ea-4dd0-f865-70723029c64d"
      },
      "outputs": [
        {
          "data": {
            "text/html": [
              "<div>\n",
              "<style scoped>\n",
              "    .dataframe tbody tr th:only-of-type {\n",
              "        vertical-align: middle;\n",
              "    }\n",
              "\n",
              "    .dataframe tbody tr th {\n",
              "        vertical-align: top;\n",
              "    }\n",
              "\n",
              "    .dataframe thead th {\n",
              "        text-align: right;\n",
              "    }\n",
              "</style>\n",
              "<table border=\"1\" class=\"dataframe\">\n",
              "  <thead>\n",
              "    <tr style=\"text-align: right;\">\n",
              "      <th></th>\n",
              "      <th>dollar_buy</th>\n",
              "      <th>dollar_sale</th>\n",
              "    </tr>\n",
              "    <tr>\n",
              "      <th>date</th>\n",
              "      <th></th>\n",
              "      <th></th>\n",
              "    </tr>\n",
              "  </thead>\n",
              "  <tbody>\n",
              "    <tr>\n",
              "      <th>2024-07-21</th>\n",
              "      <td>525.50</td>\n",
              "      <td>531.50</td>\n",
              "    </tr>\n",
              "    <tr>\n",
              "      <th>2024-07-22</th>\n",
              "      <td>525.50</td>\n",
              "      <td>531.50</td>\n",
              "    </tr>\n",
              "    <tr>\n",
              "      <th>2024-07-23</th>\n",
              "      <td>525.50</td>\n",
              "      <td>531.00</td>\n",
              "    </tr>\n",
              "  </tbody>\n",
              "</table>\n",
              "</div>"
            ],
            "text/plain": [
              "            dollar_buy  dollar_sale\n",
              "date                               \n",
              "2024-07-21      525.50       531.50\n",
              "2024-07-22      525.50       531.50\n",
              "2024-07-23      525.50       531.00"
            ]
          },
          "execution_count": 89,
          "metadata": {},
          "output_type": "execute_result"
        }
      ],
      "source": [
        "# Similar to our previous taks of this project, we should import the df properly, by:\n",
        "\n",
        "# -setting the header as the resulting line with index 0\n",
        "# -setting the index as the first column\n",
        "# -recognizing the original decimal char as the comma, so dataframe is shown as usual with it as a dot #fixed before, when created the dollar lists\n",
        "# -set floating numbers (fixed before, when created the dollar lists) with 2 decimals\n",
        "# -name the columns properly\n",
        "cols=['date', 'dollar_buy','dollar_sale']\n",
        "pd.options.display.float_format = \"{:,.2f}\".format\n",
        "\n",
        "df_dolExch_lst30d = pd.DataFrame(dollar_exchange_array, columns=cols)\n",
        "# df_dolExch_lst30d.replace({',{1}' : '.'} , regex=True, inplace=True)   #fixed before, when created the dollar lists\n",
        "df_dolExch_lst30d.infer_objects().dtypes\n",
        "df_dolExch_lst30d.set_index('date', inplace=True)\n",
        "df_dolExch_lst30d.index = pd.to_datetime(df_dolExch_lst30d.index, format='mixed', dayfirst=True)\n",
        "\n",
        "df_dolExch_lst30d.tail(3)"
      ]
    },
    {
      "cell_type": "code",
      "execution_count": 90,
      "metadata": {
        "collapsed": true,
        "id": "PucrHfzSTvpS"
      },
      "outputs": [],
      "source": [
        "# If the format of the dollar colums was not corrected before at the dollar list code (but it did)\n",
        "# we could use the following lines by uncommenting them\n",
        "\n",
        "# df_dolExch_lst30d.dollar_buy =  df_dolExch_lst30d.dollar_buy.astype('float16')\n",
        "# df_dolExch_lst30d.dollar_sale =  df_dolExch_lst30d.dollar_sale.astype('float16')"
      ]
    },
    {
      "cell_type": "code",
      "execution_count": 91,
      "metadata": {
        "colab": {
          "base_uri": "https://localhost:8080/",
          "height": 35
        },
        "id": "TP-aVvLDyBnG",
        "outputId": "8e885210-a119-4434-e860-c9164acb1201"
      },
      "outputs": [
        {
          "data": {
            "text/plain": [
              "'datetime64[ns]'"
            ]
          },
          "execution_count": 91,
          "metadata": {},
          "output_type": "execute_result"
        }
      ],
      "source": [
        "df_dolExch_lst30d.index.dtype.name"
      ]
    },
    {
      "cell_type": "code",
      "execution_count": 92,
      "metadata": {
        "colab": {
          "base_uri": "https://localhost:8080/"
        },
        "id": "WFwR6nzRwbkj",
        "outputId": "5779e2a5-0e40-45bf-8832-3ae4f5d4efaf"
      },
      "outputs": [
        {
          "name": "stdout",
          "output_type": "stream",
          "text": [
            "<class 'pandas.core.frame.DataFrame'>\n",
            "DatetimeIndex: 30 entries, 2024-06-24 to 2024-07-23\n",
            "Data columns (total 2 columns):\n",
            " #   Column       Non-Null Count  Dtype  \n",
            "---  ------       --------------  -----  \n",
            " 0   dollar_buy   30 non-null     float16\n",
            " 1   dollar_sale  30 non-null     float16\n",
            "dtypes: float16(2)\n",
            "memory usage: 360.0 bytes\n"
          ]
        }
      ],
      "source": [
        "df_dolExch_lst30d.info()"
      ]
    },
    {
      "cell_type": "markdown",
      "metadata": {
        "id": "7dQsAcAGdnjJ"
      },
      "source": [
        "\n",
        "\n",
        "---\n",
        "\n",
        "\n",
        "### Addition of recent dollar exchange rate values to the accumulated dataset/file\n",
        "\n",
        "The idea is to mimic the following scenario:   \n",
        "\n",
        "We already have a csv(or parquet) file with the full historical values of the dollar exchange rate, which we use to plot that exchange rate daily.  \n",
        "\n",
        "The full data for that file is not downloaded daily. It was simply downloaded in the past ( ideally no more than 30 days prior to current date)  "
      ]
    },
    {
      "cell_type": "code",
      "execution_count": 93,
      "metadata": {
        "colab": {
          "base_uri": "https://localhost:8080/"
        },
        "id": "ZMw9l504dnLP",
        "outputId": "500dacaf-0026-466c-8417-dc920b297b8e"
      },
      "outputs": [
        {
          "data": {
            "text/plain": [
              "[('./datasets',\n",
              "  ['backups', 'temp'],\n",
              "  ['bccr_historial_cambio_dolar.parquet', 'bccr_historial_cambio_dolar.html']),\n",
              " ('./datasets/backups',\n",
              "  [],\n",
              "  ['bccr_historial_cambio_dolar.parquet',\n",
              "   'bccr_historial_cambio_dolar.csv',\n",
              "   'bccr_historial_cambio_dolar.html.20240722',\n",
              "   'bccr_historial_cambio_dolar.pkl',\n",
              "   'bccr_historial_cambio_dolar.xlsx']),\n",
              " ('./datasets/temp', [], [])]"
            ]
          },
          "execution_count": 93,
          "metadata": {},
          "output_type": "execute_result"
        }
      ],
      "source": [
        "list(os.walk(DATASETS_PATH))"
      ]
    },
    {
      "cell_type": "code",
      "execution_count": 94,
      "metadata": {
        "colab": {
          "base_uri": "https://localhost:8080/",
          "height": 35
        },
        "id": "Ew-YcaZ-iSZ1",
        "outputId": "3f6613c2-b144-4ad1-8c07-fd43ca499938"
      },
      "outputs": [
        {
          "data": {
            "text/plain": [
              "'2024-07-22 17:55'"
            ]
          },
          "execution_count": 94,
          "metadata": {},
          "output_type": "execute_result"
        }
      ],
      "source": [
        "datetime.fromtimestamp  (os.path.getctime(f'{DATASETS_PATH}/{CURRENT_DATASET_BASEFILENAME}.parquet')).strftime('%Y-%m-%d %H:%M')"
      ]
    },
    {
      "cell_type": "code",
      "execution_count": 95,
      "metadata": {
        "id": "pDkgu0Y1lwi3"
      },
      "outputs": [],
      "source": [
        "current_dataset_file_creationTstamp = datetime.fromtimestamp (os.path.getctime(f'{DATASETS_PATH}/{CURRENT_DATASET_BASEFILENAME}.parquet')).strftime('%Y-%m-%d %H:%M')"
      ]
    },
    {
      "cell_type": "code",
      "execution_count": 96,
      "metadata": {
        "colab": {
          "base_uri": "https://localhost:8080/"
        },
        "id": "4tMfGADpmAiD",
        "outputId": "a4d67b5b-b15a-4a6d-caaf-ab898488ceca"
      },
      "outputs": [
        {
          "name": "stdout",
          "output_type": "stream",
          "text": [
            "Current dataset file in use: ./datasets/bccr_historial_cambio_dolar.parquet \n",
            "creation time: 2024-07-22 17:55\n"
          ]
        }
      ],
      "source": [
        "print(f'Current dataset file in use: {DATASETS_PATH}/{CURRENT_DATASET_BASEFILENAME}.parquet \\ncreation time: {current_dataset_file_creationTstamp}')"
      ]
    },
    {
      "cell_type": "markdown",
      "metadata": {
        "id": "875bxB0bfeii"
      },
      "source": [
        "\n",
        "\n",
        "For speed, and to save on IT resources, we just scrape the daily updated records from the bank's website, that only have the most recent 30 days, so we then add that most recent data to the full historical values file/dataset according to the missing data up to today's date.\n",
        "\n",
        "In general, every day the missing data would be today's data.\n",
        "\n",
        "\n"
      ]
    },
    {
      "cell_type": "code",
      "execution_count": 97,
      "metadata": {
        "colab": {
          "base_uri": "https://localhost:8080/",
          "height": 175
        },
        "id": "g-bPIljBdkLO",
        "outputId": "c713f4b0-b7b4-4b45-ab53-41ddd5d8bad3"
      },
      "outputs": [
        {
          "data": {
            "text/html": [
              "<div>\n",
              "<style scoped>\n",
              "    .dataframe tbody tr th:only-of-type {\n",
              "        vertical-align: middle;\n",
              "    }\n",
              "\n",
              "    .dataframe tbody tr th {\n",
              "        vertical-align: top;\n",
              "    }\n",
              "\n",
              "    .dataframe thead th {\n",
              "        text-align: right;\n",
              "    }\n",
              "</style>\n",
              "<table border=\"1\" class=\"dataframe\">\n",
              "  <thead>\n",
              "    <tr style=\"text-align: right;\">\n",
              "      <th></th>\n",
              "      <th>dollar_buy</th>\n",
              "      <th>dollar_sale</th>\n",
              "    </tr>\n",
              "    <tr>\n",
              "      <th>date</th>\n",
              "      <th></th>\n",
              "      <th></th>\n",
              "    </tr>\n",
              "  </thead>\n",
              "  <tbody>\n",
              "    <tr>\n",
              "      <th>2024-07-21</th>\n",
              "      <td>525.53</td>\n",
              "      <td>531.35</td>\n",
              "    </tr>\n",
              "    <tr>\n",
              "      <th>2024-07-22</th>\n",
              "      <td>525.53</td>\n",
              "      <td>531.35</td>\n",
              "    </tr>\n",
              "    <tr>\n",
              "      <th>2024-07-23</th>\n",
              "      <td>525.60</td>\n",
              "      <td>531.05</td>\n",
              "    </tr>\n",
              "  </tbody>\n",
              "</table>\n",
              "</div>"
            ],
            "text/plain": [
              "            dollar_buy  dollar_sale\n",
              "date                               \n",
              "2024-07-21      525.53       531.35\n",
              "2024-07-22      525.53       531.35\n",
              "2024-07-23      525.60       531.05"
            ]
          },
          "execution_count": 97,
          "metadata": {},
          "output_type": "execute_result"
        }
      ],
      "source": [
        "# Simulating the load of the last updated exchange data file, in to a new dataframe\n",
        "\n",
        "df_dolExch_lst30d_yesterday_simulation = pd.read_parquet(f'{DATASETS_PATH}/{CURRENT_DATASET_BASEFILENAME}.parquet')\n",
        "df_dolExch_lst30d_yesterday_simulation.tail(3)"
      ]
    },
    {
      "cell_type": "code",
      "execution_count": 98,
      "metadata": {
        "colab": {
          "base_uri": "https://localhost:8080/",
          "height": 175
        },
        "id": "3WYu5-EvoI-h",
        "outputId": "6f25d1c2-5725-4f64-a2cb-b2ca68ca5a6f"
      },
      "outputs": [
        {
          "data": {
            "text/html": [
              "<div>\n",
              "<style scoped>\n",
              "    .dataframe tbody tr th:only-of-type {\n",
              "        vertical-align: middle;\n",
              "    }\n",
              "\n",
              "    .dataframe tbody tr th {\n",
              "        vertical-align: top;\n",
              "    }\n",
              "\n",
              "    .dataframe thead th {\n",
              "        text-align: right;\n",
              "    }\n",
              "</style>\n",
              "<table border=\"1\" class=\"dataframe\">\n",
              "  <thead>\n",
              "    <tr style=\"text-align: right;\">\n",
              "      <th></th>\n",
              "      <th>dollar_buy</th>\n",
              "      <th>dollar_sale</th>\n",
              "    </tr>\n",
              "    <tr>\n",
              "      <th>date</th>\n",
              "      <th></th>\n",
              "      <th></th>\n",
              "    </tr>\n",
              "  </thead>\n",
              "  <tbody>\n",
              "    <tr>\n",
              "      <th>2024-07-20</th>\n",
              "      <td>525.53</td>\n",
              "      <td>531.35</td>\n",
              "    </tr>\n",
              "    <tr>\n",
              "      <th>2024-07-21</th>\n",
              "      <td>525.53</td>\n",
              "      <td>531.35</td>\n",
              "    </tr>\n",
              "    <tr>\n",
              "      <th>2024-07-22</th>\n",
              "      <td>525.53</td>\n",
              "      <td>531.35</td>\n",
              "    </tr>\n",
              "  </tbody>\n",
              "</table>\n",
              "</div>"
            ],
            "text/plain": [
              "            dollar_buy  dollar_sale\n",
              "date                               \n",
              "2024-07-20      525.53       531.35\n",
              "2024-07-21      525.53       531.35\n",
              "2024-07-22      525.53       531.35"
            ]
          },
          "execution_count": 98,
          "metadata": {},
          "output_type": "execute_result"
        }
      ],
      "source": [
        "# Deleting the last record of that last updated exchange data file (today's record)\n",
        "# to simulate as if the data is from yesterday, to then add today's record later,\n",
        "# from recent scraped data\n",
        "\n",
        "df_dolExch_lst30d_yesterday_simulation.drop(df_dolExch_lst30d_yesterday_simulation.index[-1], inplace=True)\n",
        "df_dolExch_lst30d_yesterday_simulation.tail(3)"
      ]
    },
    {
      "cell_type": "code",
      "execution_count": 99,
      "metadata": {
        "colab": {
          "base_uri": "https://localhost:8080/",
          "height": 112
        },
        "id": "Mg2gJTdtotGK",
        "outputId": "6cca493f-94aa-4f56-a448-0bcb20667742"
      },
      "outputs": [
        {
          "data": {
            "text/html": [
              "<div>\n",
              "<style scoped>\n",
              "    .dataframe tbody tr th:only-of-type {\n",
              "        vertical-align: middle;\n",
              "    }\n",
              "\n",
              "    .dataframe tbody tr th {\n",
              "        vertical-align: top;\n",
              "    }\n",
              "\n",
              "    .dataframe thead th {\n",
              "        text-align: right;\n",
              "    }\n",
              "</style>\n",
              "<table border=\"1\" class=\"dataframe\">\n",
              "  <thead>\n",
              "    <tr style=\"text-align: right;\">\n",
              "      <th></th>\n",
              "      <th>dollar_buy</th>\n",
              "      <th>dollar_sale</th>\n",
              "    </tr>\n",
              "    <tr>\n",
              "      <th>date</th>\n",
              "      <th></th>\n",
              "      <th></th>\n",
              "    </tr>\n",
              "  </thead>\n",
              "  <tbody>\n",
              "    <tr>\n",
              "      <th>2024-07-23</th>\n",
              "      <td>525.50</td>\n",
              "      <td>531.00</td>\n",
              "    </tr>\n",
              "  </tbody>\n",
              "</table>\n",
              "</div>"
            ],
            "text/plain": [
              "            dollar_buy  dollar_sale\n",
              "date                               \n",
              "2024-07-23      525.50       531.00"
            ]
          },
          "execution_count": 99,
          "metadata": {},
          "output_type": "execute_result"
        }
      ],
      "source": [
        "# Checking today's scraped data again, its last record should be\n",
        "# today's record according the bank's website\n",
        "\n",
        "df_dolExch_lst30d.tail(1)"
      ]
    },
    {
      "cell_type": "code",
      "execution_count": 100,
      "metadata": {
        "colab": {
          "base_uri": "https://localhost:8080/",
          "height": 175
        },
        "id": "2R33lJ-3pK0i",
        "outputId": "dcf98c9f-7b4a-4a4a-8916-57f302a9b9ad"
      },
      "outputs": [
        {
          "data": {
            "text/html": [
              "<div>\n",
              "<style scoped>\n",
              "    .dataframe tbody tr th:only-of-type {\n",
              "        vertical-align: middle;\n",
              "    }\n",
              "\n",
              "    .dataframe tbody tr th {\n",
              "        vertical-align: top;\n",
              "    }\n",
              "\n",
              "    .dataframe thead th {\n",
              "        text-align: right;\n",
              "    }\n",
              "</style>\n",
              "<table border=\"1\" class=\"dataframe\">\n",
              "  <thead>\n",
              "    <tr style=\"text-align: right;\">\n",
              "      <th></th>\n",
              "      <th>dollar_buy</th>\n",
              "      <th>dollar_sale</th>\n",
              "    </tr>\n",
              "    <tr>\n",
              "      <th>date</th>\n",
              "      <th></th>\n",
              "      <th></th>\n",
              "    </tr>\n",
              "  </thead>\n",
              "  <tbody>\n",
              "    <tr>\n",
              "      <th>2024-07-21</th>\n",
              "      <td>525.53</td>\n",
              "      <td>531.35</td>\n",
              "    </tr>\n",
              "    <tr>\n",
              "      <th>2024-07-22</th>\n",
              "      <td>525.53</td>\n",
              "      <td>531.35</td>\n",
              "    </tr>\n",
              "    <tr>\n",
              "      <th>2024-07-23</th>\n",
              "      <td>525.50</td>\n",
              "      <td>531.00</td>\n",
              "    </tr>\n",
              "  </tbody>\n",
              "</table>\n",
              "</div>"
            ],
            "text/plain": [
              "            dollar_buy  dollar_sale\n",
              "date                               \n",
              "2024-07-21      525.53       531.35\n",
              "2024-07-22      525.53       531.35\n",
              "2024-07-23      525.50       531.00"
            ]
          },
          "execution_count": 100,
          "metadata": {},
          "output_type": "execute_result"
        }
      ],
      "source": [
        "# Adding today's record to the yesterday's simulated df\n",
        "df_dolExch_updated = pd.concat([df_dolExch_lst30d_yesterday_simulation, df_dolExch_lst30d.tail(1)])\n",
        "\n",
        "# The updated df\n",
        "df_dolExch_updated.tail(3)\n"
      ]
    },
    {
      "cell_type": "code",
      "execution_count": 101,
      "metadata": {
        "colab": {
          "base_uri": "https://localhost:8080/",
          "height": 484
        },
        "id": "n7WnnGPDrvO_",
        "outputId": "4d82a2b1-9e02-47bb-817a-5b9d833e171b"
      },
      "outputs": [
        {
          "data": {
            "image/png": "[encoded data removed]",
            "text/plain": [
              "<Figure size 1200x500 with 1 Axes>"
            ]
          },
          "metadata": {},
          "output_type": "display_data"
        }
      ],
      "source": [
        "# Plotting.   Today's dollar exchange rate is shown on the plot of the updated df\n",
        "\n",
        "today = datetime.today().strftime('%Y-%m-%d')\n",
        "period = ['2024-07-02' , today]\n",
        "\n",
        "import matplotlib.pyplot as plt\n",
        "\n",
        "df_dolExch_updated[ (df_dolExch_updated.index >= period[0]) & (df_dolExch_updated.index <= period[1]) ].plot(figsize=(12, 5))\n",
        "plt.xlabel('Date')\n",
        "plt.ylabel('Exchange Rate')\n",
        "plt.title('BCCR - CRC/USD Exchange Rate History')\n",
        "plt.grid(True)\n",
        "plt.show()"
      ]
    },
    {
      "cell_type": "code",
      "execution_count": 102,
      "metadata": {
        "id": "RobUKg9hvu4l"
      },
      "outputs": [],
      "source": [
        "# Now lets update the exchange data file, using the updated dataframe\n",
        "\n",
        "df_dolExch_updated.to_parquet(f'{DATASETS_PATH}/{CURRENT_DATASET_BASEFILENAME}.parquet')"
      ]
    },
    {
      "cell_type": "code",
      "execution_count": 103,
      "metadata": {
        "colab": {
          "base_uri": "https://localhost:8080/"
        },
        "id": "uVcIv2eAwo7N",
        "outputId": "2f6b90fe-a02c-4b4e-812d-93ead31cf067"
      },
      "outputs": [
        {
          "name": "stdout",
          "output_type": "stream",
          "text": [
            "Current dataset file has been updated: ./datasets/bccr_historial_cambio_dolar.parquet \n",
            "creation time: 2024-07-22 17:55 \n",
            "Current date-time is: 2024-07-22 17:55\n"
          ]
        }
      ],
      "source": [
        "current_dataset_file_creationTstamp = datetime.fromtimestamp (os.path.getctime(f'{DATASETS_PATH}/{CURRENT_DATASET_BASEFILENAME}.parquet')).strftime('%Y-%m-%d %H:%M')\n",
        "\n",
        "print(f'Current dataset file has been updated: {DATASETS_PATH}/{CURRENT_DATASET_BASEFILENAME}.parquet \\ncreation time: {current_dataset_file_creationTstamp} \\nCurrent date-time is:', datetime.today().strftime('%Y-%m-%d %H:%M'))"
      ]
    },
    {
      "cell_type": "code",
      "execution_count": 104,
      "metadata": {
        "colab": {
          "base_uri": "https://localhost:8080/"
        },
        "id": "CSWGvYIYJd6r",
        "outputId": "dd32acd3-78c8-4ef7-a456-ba0f647cbb49"
      },
      "outputs": [
        {
          "data": {
            "text/plain": [
              "['bccr_historial_cambio_dolar.parquet',\n",
              " 'backups',\n",
              " 'bccr_historial_cambio_dolar.html',\n",
              " 'temp']"
            ]
          },
          "execution_count": 104,
          "metadata": {},
          "output_type": "execute_result"
        }
      ],
      "source": [
        "os.listdir(DATASETS_PATH)"
      ]
    },
    {
      "cell_type": "code",
      "execution_count": 105,
      "metadata": {
        "colab": {
          "base_uri": "https://localhost:8080/"
        },
        "id": "MP9Q4jK0LTHW",
        "outputId": "088df67f-3251-46c7-b672-84164bce5825"
      },
      "outputs": [
        {
          "name": "stdout",
          "output_type": "stream",
          "text": [
            "lun 22 jul 17:55:50 CST 2024\n",
            "total 3020\n",
            "   4 drwxr-xr-x 2 milos milos    4096 jul 22 17:35 backups\n",
            "2820 -rw-r--r-- 1 milos milos 2884233 jul 22 17:54 bccr_historial_cambio_dolar.html\n",
            " 192 -rw-r--r-- 1 milos milos  192832 jul 22 17:55 bccr_historial_cambio_dolar.parquet\n",
            "   4 drwx------ 2 milos milos    4096 jul 22 17:54 temp\n"
          ]
        }
      ],
      "source": [
        "!date; ls -ls datasets"
      ]
    },
    {
      "cell_type": "markdown",
      "metadata": {
        "id": "sy2ES8OmswNK"
      },
      "source": [
        "\n",
        "\n",
        "---\n",
        "\n",
        "\n",
        "# Extra Experiment:  saving as html and then loading table into pandas\n",
        "\n",
        "Because of the onconventional way the bank constructs the htlm tables, by column , I experimented by saving the html file and then apply a pandas.read_html from it, to see what happened.\n",
        "\n",
        "It actually load 13 different tables, with mixed results of the needed rows and columns.\n",
        "\n",
        "By inspecting them one could also extract the information.    \n",
        "\n",
        "Some work is needed, but it is possible, here is an example below"
      ]
    },
    {
      "cell_type": "code",
      "execution_count": 106,
      "metadata": {
        "id": "_s61tocfsvPr"
      },
      "outputs": [],
      "source": [
        "with open('page.html', 'w') as file:\n",
        "    file.write(page_request.text)"
      ]
    },
    {
      "cell_type": "code",
      "execution_count": 107,
      "metadata": {
        "id": "XZc534T3tdSC"
      },
      "outputs": [],
      "source": [
        "file.close()"
      ]
    },
    {
      "cell_type": "code",
      "execution_count": 108,
      "metadata": {
        "colab": {
          "base_uri": "https://localhost:8080/"
        },
        "id": "9lZ2F6i9tgvq",
        "outputId": "646bc008-3f0f-40c4-cb4e-88973df5974c"
      },
      "outputs": [
        {
          "name": "stdout",
          "output_type": "stream",
          "text": [
            "-rw-r--r-- 1 milos milos 73K jul 22 17:55 page.html\n",
            "<HTML>\n",
            "<HEAD><title>Tipo cambio de compra y de venta del dólar de los Estados Unidos de América</title>\n",
            "<script type=\"text/javascript\">var _gaq = _gaq || [];_gaq.push(['_setAccount', 'UA-25040215-3']);_gaq.push(['_trackPageview']);(function() {var ga = document.createElement('script'); ga.type = 'text/javascript'; ga.async = true;ga.src = ('https:' == document.location.protocol ? 'https://ssl' : 'http://www') + '.google-analytics.com/ga.js';var s = document.getElementsByTagName('script')[0]; s.parentNode.insertBefore(ga, s);})();</script>\n",
            "<script language=\"javascript\">\n"
          ]
        }
      ],
      "source": [
        "!ls -lh page.html ;head -4 page.html"
      ]
    },
    {
      "cell_type": "code",
      "execution_count": 109,
      "metadata": {
        "id": "veG2gMFjvXZl"
      },
      "outputs": [],
      "source": [
        "dol_buy = pd.read_html('page.html')[3][0][0].split('  ')"
      ]
    },
    {
      "cell_type": "code",
      "execution_count": 110,
      "metadata": {
        "colab": {
          "base_uri": "https://localhost:8080/"
        },
        "id": "1sKwYlGM1PUf",
        "outputId": "2ec98362-0388-44bd-a247-9ce481ee2d0f"
      },
      "outputs": [
        {
          "data": {
            "text/plain": [
              "['520,31',\n",
              " '522,54',\n",
              " '520,56',\n",
              " '519,19',\n",
              " '525,09',\n",
              " '523,42',\n",
              " '523,42',\n",
              " '523,42',\n",
              " '520,80',\n",
              " '523,47',\n",
              " '523,90',\n",
              " '525,46',\n",
              " '528,02',\n",
              " '528,02',\n",
              " '528,02',\n",
              " '527,21',\n",
              " '526,12',\n",
              " '521,82',\n",
              " '519,45',\n",
              " '518,62',\n",
              " '518,62',\n",
              " '518,62',\n",
              " '520,87',\n",
              " '519,65',\n",
              " '520,23',\n",
              " '522,54',\n",
              " '525,53',\n",
              " '525,53',\n",
              " '525,53',\n",
              " '525,60']"
            ]
          },
          "execution_count": 110,
          "metadata": {},
          "output_type": "execute_result"
        }
      ],
      "source": [
        "dol_buy"
      ]
    }
  ],
  "metadata": {
    "colab": {
      "provenance": [],
      "toc_visible": true
    },
    "kernelspec": {
      "display_name": "Python 3",
      "name": "python3"
    },
    "language_info": {
      "codemirror_mode": {
        "name": "ipython",
        "version": 3
      },
      "file_extension": ".py",
      "mimetype": "text/x-python",
      "name": "python",
      "nbconvert_exporter": "python",
      "pygments_lexer": "ipython3",
      "version": "3.9.16"
    }
  },
  "nbformat": 4,
  "nbformat_minor": 0
}
